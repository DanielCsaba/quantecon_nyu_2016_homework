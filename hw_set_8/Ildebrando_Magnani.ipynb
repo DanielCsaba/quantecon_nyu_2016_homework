{
 "cells": [
  {
   "cell_type": "markdown",
   "metadata": {},
   "source": [
    "## ILDEBRANDO MAGNANI\n",
    "\n",
    "Homework 8\n",
    "\n",
    "im975 "
   ]
  },
  {
   "cell_type": "markdown",
   "metadata": {},
   "source": [
    "## Excercise 1:\n"
   ]
  },
  {
   "cell_type": "markdown",
   "metadata": {},
   "source": [
    "We recall that $\\mathcal{P}(S)$ = $\\left\\{  \\phi \\in l^{+}(S) : \\lVert\\phi \\rVert\\ =1 \\right\\}$. Therefore, we observe that the $\\mathbb{0} \\notin $ $\\mathcal{P}(S)$. \n",
    "\n",
    "Now suppose S is a discrete set and $\\mathcal{P}(S)$ compact. Further, assume that S is infinite. By definition of compactness, every sequence entirely contained in $\\mathcal{P}(S)$ must have a subsequence that converges to a point in $\\mathcal{P}(S)$ . Hence, take the sequence $\\left\\{\\phi_n\\right\\}$ $\\in$ $\\mathcal{P}(S)$ such that \n",
    "\n",
    "\n",
    "$\\left\\{\\phi_1\\right\\} = \\left\\{1, 0, 0, 0, 0, 0, ...\\right\\}$\n",
    "\n",
    "$\\left\\{\\phi_2\\right\\} = \\left\\{1/2, 1/2, 0, 0, 0, 0, ...\\right\\}$\n",
    "\n",
    "$\\left\\{\\phi_3\\right\\} = \\left\\{1/3, 1/3, 1/3, 0, 0, 0, ...\\right\\}$ \n",
    "\n",
    "$\\left\\{\\phi_4\\right\\} = \\left\\{1/4, 1/4, 1/4, 1/4, 0, 0, ...\\right\\}$ \n",
    "\n",
    "...\n",
    "\n",
    "$\\left\\{\\phi_n\\right\\} = \\left\\{1/n, 1/n, ..., 1/n, 0, 0, ...\\right\\}$\n",
    "\n",
    "As it should be evident, any subsequence of the above stated sequence converges to $\\mathbb{0} \\notin $ $\\mathcal{P}(S)$. Therefore, $\\mathcal{P}(S)$ cannot be compact, if S is infinite and discrete. Contradiction. \n",
    "We have shown that S must finite.\n",
    "\n",
    "\n",
    "\n",
    "As an alternative, we could have also taken the sequence $\\left\\{\\phi_n\\right\\}$ $\\in$ $\\mathcal{P}(S)$ such that\n",
    "\n",
    "$\\left\\{\\phi_1\\right\\} = \\left\\{1, 0, 0, 0, 0, 0, ...\\right\\}$\n",
    "\n",
    "$\\left\\{\\phi_2\\right\\} = \\left\\{0, 1, 0, 0, 0, 0, ...\\right\\}$\n",
    "\n",
    "$\\left\\{\\phi_3\\right\\} = \\left\\{0, 0, 1, 0, 0, 0, ...\\right\\}$ \n",
    "\n",
    "$\\left\\{\\phi_4\\right\\} = \\left\\{0, 0, 0, 1, 0, 0, ...\\right\\}$ \n",
    "\n",
    "and so on...\n",
    "\n",
    "Each element of this sequence is in $\\mathcal{P}(S)$. Clearly, in the $\\lVert\\ .\\rVert_1$ norm we have that the distance between any two different elements of this sequence is always equal to 2. Therefore, there is no subsequence which converges to a point in  $\\mathcal{P}(S)$ (i.e., each subsequence diverges).\n",
    "\n"
   ]
  },
  {
   "cell_type": "markdown",
   "metadata": {},
   "source": [
    "## Excercise 2:"
   ]
  },
  {
   "cell_type": "markdown",
   "metadata": {},
   "source": [
    "We argue by contradiction. Suppose that $\\exists$ a stationary distribution $\\psi^*$ for the stochastic kernel $p(x,y)$ = $\\mathbb{1}\\{x = y - 1\\}$. Thus, we have that \n",
    "\n",
    "\\begin{equation}\n",
    "\\psi^*(y) = \\sum_{x \\in S}\\mathbb{1}\\{x = y - 1\\}\\psi^*(x) = 1 \\cdot \\psi^*(y-1) = \\psi^*(y-1)\n",
    "\\end{equation}\n",
    "\n",
    "Contradiction. There is no stationary distribution $\\psi^*$ for the stochastic kernel $p(x,y)$ = $\\mathbb{1}\\{x = y - 1\\}$."
   ]
  },
  {
   "cell_type": "markdown",
   "metadata": {},
   "source": [
    "## Excercise 3:"
   ]
  },
  {
   "cell_type": "markdown",
   "metadata": {},
   "source": [
    "To start, we notice how the state space for the random variable $X_t$ is the discrete finite set $S = \\{0, 1, 2, 3, 4, ..., q, ..., Q\\}$, with $0 \\leq q \\leq Q$.\n",
    "\n",
    "Following the description of the problem, we have two distinct cases:\n",
    "\n",
    "First, if $X_t \\leq q$, we have that the firm updates the stock to $X_t = Q$; therefore, $p(Q,y) = P[X_{t+1} = y | X_t = Q] = P[D_{t+1} = Q - y] = (1/2)^{Q - y +1}$. Hence, $p(Q,y) \\geq 0$, $\\forall$    $0 \\leq$ $y \\leq$ $Q$. It follows that the first $q+1$ rows of the transition matrix will all have $p(x,y)>0$.\n",
    "\n",
    "Second, if $X_t > q$, we have that $X_t = x$, with $0 \\leq q < x \\leq Q$; therefore, $p(x,y) = P[X_{t+1} = y | X_t = x] = P[D_{t+1} = x - y] = (1/2)^{x - y +1}$. Since $D_t \\geq0$, we have that $\\forall$ $x\\leq y$, $p(x,y) = P[D_{t+1} = x - y] = 0$. All the other entries in rows greater than $q+1$ will be posive.\n",
    "\n",
    "Since the second power of the resulting transition matrix has all positive entries, it follows that it is both irreducible and aperiodic. Therefore, because the state space is discrete and finite, it also follows that the Markov operator is globally stable."
   ]
  },
  {
   "cell_type": "code",
   "execution_count": 158,
   "metadata": {
    "collapsed": true
   },
   "outputs": [],
   "source": [
    "import numpy as np\n",
    "import quantecon as qe\n",
    "import matplotlib.pyplot as plt"
   ]
  },
  {
   "cell_type": "markdown",
   "metadata": {},
   "source": [
    "## Excercise 4:"
   ]
  },
  {
   "cell_type": "code",
   "execution_count": 76,
   "metadata": {
    "collapsed": true
   },
   "outputs": [],
   "source": [
    "def D_prob(d):\n",
    "    return (1/2)**(d+1)"
   ]
  },
  {
   "cell_type": "code",
   "execution_count": 91,
   "metadata": {
    "collapsed": false
   },
   "outputs": [
    {
     "data": {
      "text/plain": [
       "array([[ 0.03125,  0.03125,  0.0625 ,  0.125  ,  0.25   ,  0.5    ],\n",
       "       [ 0.03125,  0.03125,  0.0625 ,  0.125  ,  0.25   ,  0.5    ],\n",
       "       [ 0.03125,  0.03125,  0.0625 ,  0.125  ,  0.25   ,  0.5    ],\n",
       "       [ 0.125  ,  0.125  ,  0.25   ,  0.5    ,  0.     ,  0.     ],\n",
       "       [ 0.0625 ,  0.0625 ,  0.125  ,  0.25   ,  0.5    ,  0.     ],\n",
       "       [ 0.03125,  0.03125,  0.0625 ,  0.125  ,  0.25   ,  0.5    ]])"
      ]
     },
     "execution_count": 91,
     "metadata": {},
     "output_type": "execute_result"
    }
   ],
   "source": [
    "def Markov_operator(q,Q):\n",
    "    Transition_Matrix = np.empty([Q+1, Q+1])\n",
    "    for x in range(Q+1):\n",
    "        for y in range (Q+1):\n",
    "            if x <= q:\n",
    "                if y == 0:\n",
    "                    Transition_Matrix[x,y] = D_prob(Q-y-1)\n",
    "                else:\n",
    "                    Transition_Matrix[x,y] = D_prob(Q-y)\n",
    "            else:\n",
    "                if x >= y:\n",
    "                    if y==0 :\n",
    "                        Transition_Matrix[x,y] = D_prob(x-y-1)\n",
    "                    else:\n",
    "                        Transition_Matrix[x,y] = D_prob(x-y)\n",
    "                else:\n",
    "                    Transition_Matrix[x,y] = 0\n",
    "    \n",
    "    return Transition_Matrix\n",
    "        \n",
    "\n",
    "Markov_operator(2,5)"
   ]
  },
  {
   "cell_type": "code",
   "execution_count": 88,
   "metadata": {
    "collapsed": false
   },
   "outputs": [
    {
     "name": "stdout",
     "output_type": "stream",
     "text": [
      "[[ 0.0625  0.0625  0.125   0.25    0.25    0.25  ]]\n"
     ]
    }
   ],
   "source": [
    "q = 2\n",
    "Q = 5\n",
    "P = Markov_operator(q,Q)\n",
    "mc = qe.MarkovChain(P)\n",
    "stationary_vector = mc.stationary_distributions\n",
    "print(stationary_vector)"
   ]
  },
  {
   "cell_type": "markdown",
   "metadata": {},
   "source": [
    "## Excercise 5:\n"
   ]
  },
  {
   "cell_type": "code",
   "execution_count": 111,
   "metadata": {
    "collapsed": true
   },
   "outputs": [],
   "source": [
    "def Iterative_mapping(Transition_matrix, Initial_condition):\n",
    "    g = Initial_condition\n",
    "    for i in enumerate(range(max_iteration)): \n",
    "        g_T = g @ Transition_matrix\n",
    "        diff = g_T - g\n",
    "        abs_diff = np.absolute(diff)\n",
    "        l_1_norm = np.sum(abs_diff)\n",
    "        if l_1_norm <= tol:\n",
    "            ni = i\n",
    "            break\n",
    "        g[:] = g_T\n",
    "    print(ni, 'number of iterations')\n",
    "    return g_T"
   ]
  },
  {
   "cell_type": "code",
   "execution_count": 126,
   "metadata": {
    "collapsed": false
   },
   "outputs": [
    {
     "name": "stdout",
     "output_type": "stream",
     "text": [
      "(17, 17) number of iterations\n",
      "[[ 0.0625  0.0625  0.125   0.25    0.25    0.25  ]]\n"
     ]
    }
   ],
   "source": [
    "q = 2\n",
    "Q = 5\n",
    "P = Markov_operator(q,Q)\n",
    "max_iteration = 1000\n",
    "tol = 0.00000001\n",
    "Initial_distribution = np.array([[1/(Q+1), 1/(Q+1), 1/(Q+1), 1/(Q+1), 1/(Q+1), 1/(Q+1)]])\n",
    "\n",
    "stationary_vector = Iterative_mapping(P, Initial_distribution)\n",
    "print(stationary_vector)"
   ]
  },
  {
   "cell_type": "markdown",
   "metadata": {},
   "source": [
    "## Excercise 6:"
   ]
  },
  {
   "cell_type": "code",
   "execution_count": 207,
   "metadata": {
    "collapsed": false
   },
   "outputs": [
    {
     "name": "stdout",
     "output_type": "stream",
     "text": [
      "[array([[ 0.01315789,  0.01315789,  0.02631579,  0.05263158,  0.05263158,\n",
      "         0.05263158,  0.05263158,  0.05263158,  0.05263158,  0.05263158,\n",
      "         0.05263158,  0.05263158,  0.05263158,  0.05263158,  0.05263158,\n",
      "         0.05263158,  0.05263158,  0.05263158,  0.05263158,  0.05263158,\n",
      "         0.05263158]]), array([[ 0.00195312,  0.00195312,  0.00390625,  0.0078125 ,  0.015625  ,\n",
      "         0.03125   ,  0.0625    ,  0.0625    ,  0.0625    ,  0.0625    ,\n",
      "         0.0625    ,  0.0625    ,  0.0625    ,  0.0625    ,  0.0625    ,\n",
      "         0.0625    ,  0.0625    ,  0.0625    ,  0.0625    ,  0.0625    ,\n",
      "         0.0625    ]]), array([[  8.87784091e-05,   8.87784091e-05,   1.77556818e-04,\n",
      "          3.55113636e-04,   7.10227273e-04,   1.42045455e-03,\n",
      "          2.84090909e-03,   5.68181818e-03,   1.13636364e-02,\n",
      "          2.27272727e-02,   4.54545455e-02,   9.09090909e-02,\n",
      "          9.09090909e-02,   9.09090909e-02,   9.09090909e-02,\n",
      "          9.09090909e-02,   9.09090909e-02,   9.09090909e-02,\n",
      "          9.09090909e-02,   9.09090909e-02,   9.09090909e-02]]), array([[  5.08626302e-06,   5.08626302e-06,   1.01725260e-05,\n",
      "          2.03450521e-05,   4.06901042e-05,   8.13802083e-05,\n",
      "          1.62760417e-04,   3.25520833e-04,   6.51041667e-04,\n",
      "          1.30208333e-03,   2.60416667e-03,   5.20833333e-03,\n",
      "          1.04166667e-02,   2.08333333e-02,   4.16666667e-02,\n",
      "          8.33333333e-02,   1.66666667e-01,   1.66666667e-01,\n",
      "          1.66666667e-01,   1.66666667e-01,   1.66666667e-01]])]\n"
     ]
    }
   ],
   "source": [
    "%matplotlib inline\n",
    "\n",
    "q_list = [2, 5, 10, 15]\n",
    "Q = 20\n",
    "stationary_list = []\n",
    "\n",
    "def stationary_vectors(q_list):\n",
    "    for q in q_list:\n",
    "        P = Markov_operator(q,Q)\n",
    "        mc = qe.MarkovChain(P)\n",
    "        stationary_vector = mc.stationary_distributions\n",
    "        stationary_list.append(stationary_vector)\n",
    "    return stationary_list\n",
    "\n",
    "stationary_list = stationary_vectors(q_list)\n",
    "print(stationary_list)\n"
   ]
  },
  {
   "cell_type": "code",
   "execution_count": null,
   "metadata": {
    "collapsed": true
   },
   "outputs": [],
   "source": []
  }
 ],
 "metadata": {
  "kernelspec": {
   "display_name": "Python 3",
   "language": "python",
   "name": "python3"
  },
  "language_info": {
   "codemirror_mode": {
    "name": "ipython",
    "version": 3
   },
   "file_extension": ".py",
   "mimetype": "text/x-python",
   "name": "python",
   "nbconvert_exporter": "python",
   "pygments_lexer": "ipython3",
   "version": "3.5.1"
  }
 },
 "nbformat": 4,
 "nbformat_minor": 0
}
