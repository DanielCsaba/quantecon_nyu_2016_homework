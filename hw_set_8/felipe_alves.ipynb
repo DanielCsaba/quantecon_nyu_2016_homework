{
 "cells": [
  {
   "cell_type": "markdown",
   "metadata": {},
   "source": [
    "## Homework 8\n",
    "\n",
    "Felipe Alves - N14713445"
   ]
  },
  {
   "cell_type": "markdown",
   "metadata": {},
   "source": [
    "## Analytical part\n",
    "\n",
    "### Exercise 1 \n",
    "Let $S$ be a discrete set. Show that if $\\mathcal{P}(S)$ is a compact subset of $(\\ell_1(S), \\lVert \\cdot \\rVert)$ then $S$ must be finite. "
   ]
  },
  {
   "cell_type": "markdown",
   "metadata": {},
   "source": [
    "#### Proof\n",
    "\n",
    "We argue  by contradiction. Let $\\mathcal{P}(S)$ is compact but suppose $S$ is countably infinite. \n",
    "Since $S$ is assumed to be countable, we can enumerate it as $S = \\{x_1,x_2, \\ldots\\}$. \n",
    "Consider the sequence $(\\phi_n)$ on $\\ell_1(S)$ defined as $\\phi_i = \\mathbf{1}_{\\{x_i\\}}$, by which we mean\n",
    "\n",
    "\\begin{equation}\n",
    "\\phi_i(x) = \\begin{cases}\n",
    "            1 & \\text{if } x=x_i \\\\\n",
    "            0 & \\text{otherwise}\n",
    "            \\end{cases}\n",
    "\\end{equation}\n",
    "\n",
    "First, note that $\\{\\phi_n\\}_{n\\in \\mathbb{N}} \\subset \\mathcal{P}(S)$. Moreover, $\\forall m,n\\in \\mathbb{N}$ and $m\\ne n$\n",
    "\n",
    "$$ \\lVert \\phi_n - \\phi_m \\rVert= \\sum_{i\\in\\mathbb{N}} \\big| \\phi_n(x_i) - \\phi_m(x_i) \\big| = 2 $$\n",
    "\n",
    "Therefore we have a sequence $(\\phi_m)$ in $\\mathcal{P}(S)$ that admits no convergent subsequences. That means that $\\mathcal{P}(S)$ cannot be compact - remember that a set is compact iff every sequence that on it admits a convergent subsequence - which contradicts out initial assumption."
   ]
  },
  {
   "cell_type": "markdown",
   "metadata": {},
   "source": [
    "### Exercise 2\n",
    "\n",
    "Consider the deterministic Markov chain $X_{t+1} = X_t + 1$ on $\\mathbb{Z}$. The corresponding stochastic kernel is $p(x,y) = \\mathbf{1}\\{x=y-1\\}$. Show that no stationary distribution exists. "
   ]
  },
  {
   "cell_type": "markdown",
   "metadata": {
    "collapsed": true
   },
   "source": [
    "#### Proof\n",
    "\n",
    "We again argue by contradiction. Suppose there exists a stationary distribution $\\phi^*$. Being a distribution, $\\phi^*$ must satisfy (i) $\\phi^*\\ge 0$ and (ii) $\\lVert \\phi^* \\rVert = 1$. \n",
    "\n",
    "Let $P: \\ell_1(\\mathbb{Z}) \\rightarrow \\ell_1(\\mathbb{Z})$ be markov operator induced by $p$ so that $\\phi^*P(i) = \\phi^*(i-1)$ $\\forall i \\in \\mathbb{Z}$. \n",
    "Note that $\\phi^*$ is a stationary distribution iff $\\phi^*P = \\phi^*$. \n",
    "Given these observations, we have for any $i\\in \\mathbb{Z}$\n",
    "\n",
    "\\begin{align*}\n",
    "    \\phi^*(i) & = \\phi^*P(i) = \\phi^*(i-1) = \\phi^*P(i-1) = \\phi^*(i-2)  = \\ldots\\\\\n",
    "    \\phi^*(i) & = \\phi^*P(i+1) = \\phi^*(i+1) = \\phi^*P(i+2) = \\phi^*(i+2)= \\ldots \\\\\n",
    "\\end{align*}\n",
    "\n",
    "so that $\\phi^*(i) = c\\ge 0 \\quad \\forall i\\in \\mathbb{Z}$. However, $\\phi^*\\in \\ell_1(\\mathbb{Z})$ implies $c$ cannot be strictly positive, since, otherwise, $\\sum_{i\\in\\mathbb{Z}} |c| \\rightarrow \\infty$. Hence $c=0$. But that contradicts our assumption that $\\phi^*$ is a distribution, since $\\lVert \\phi^* \\rVert = 0$. "
   ]
  },
  {
   "cell_type": "markdown",
   "metadata": {
    "collapsed": true
   },
   "source": [
    "## Coding part"
   ]
  },
  {
   "cell_type": "code",
   "execution_count": 1,
   "metadata": {
    "collapsed": false
   },
   "outputs": [],
   "source": [
    "using QuantEcon\n",
    "using PyPlot"
   ]
  },
  {
   "cell_type": "markdown",
   "metadata": {},
   "source": [
    "### Exercise 3\n",
    "\n",
    "Argue that the stochastic kernel is globally stable for every $q$ and $Q$. \n",
    "\n",
    "We are going to argue globally stability on the basis of the following theorem.\n",
    "\n",
    "**Theorem** If $S$ is finite and $P$ is both aperiodic and irreducible, then $P$ is globally stable\n",
    "\n",
    "First, let's remember what aperiodic and irreducible means. Consider an stocahstic kernel $p$ on $S$ and arbitrary states $x,y$. \n",
    "\n",
    "*Def.:* We say that $y$ is *accessible* from $x$ if $x=y$ or $\\exists k \\in \\mathbb{N}$ such that $p^k(x,y)>0$. A stochastic kernel $p$ is called *irreducible* if every state is accessible from any other.\n",
    "\n",
    "*Def.:* We say that state $x$ is *aperiodic* under $p$ if $\\exists n \\in \\mathbb{N}$ such that $\\forall k \\ge n \\Rightarrow p^k(x,x)>0$. A stochastic kernel $p$ on $S$ is called aperiodic if every state in $S$ is aperiodic under $p$.\n",
    "\n",
    "Note that the stochastic matrix induced by the $S,s$ rule has $p(x,x)>0 \\ \\forall x\\in S$ so it readily checked that it is aperiodic. \n",
    "\n",
    "As for irreducible property, if $x\\le q$ we have that every $y$ is acessible. If $x>q$ then $p(y,x)=0 \\ \\forall y\\in S$ such that $y>x$. However, it is easy to see that the probability of moving from $x$ to $y$ in two periods, $p^2(y,x)$, is already strictly positive since any demand $d \\ge (x-q)$ would ensure a $x'=Q$ and, therefore, a positive probability of transiting to $y$ on the following period. "
   ]
  },
  {
   "cell_type": "markdown",
   "metadata": {},
   "source": [
    "### Exercise 4"
   ]
  },
  {
   "cell_type": "code",
   "execution_count": 2,
   "metadata": {
    "collapsed": false
   },
   "outputs": [
    {
     "data": {
      "text/plain": [
       "inventoryP (generic function with 3 methods)"
      ]
     },
     "execution_count": 2,
     "metadata": {},
     "output_type": "execute_result"
    }
   ],
   "source": [
    "function inventoryP(q::Int64 = 2, Q::Int64 = 5)\n",
    "    \n",
    "    q>Q && throw(ArgumentError(\"q must be smaller than Q\"))\n",
    "    \n",
    "    #== distribution for Demand ==#     \n",
    "    Ddist = Float64[0.5^(d+1) for d=Q:-1:0]\n",
    "    Ddist[1] += 1- sum(Ddist)\n",
    "    \n",
    "    #== init stochastic matrix ==#\n",
    "    P = zeros(Q+1,Q+1)\n",
    "\n",
    "    for ind=1:Q+1\n",
    "        ind <= q+1 ? (P[ind,:] = Ddist) : (P[ind,1:ind] = [sum(Ddist[1:end-(ind-1)]); Ddist[end-(ind-2):end]])\n",
    "    end\n",
    "\n",
    "    return P\n",
    "end"
   ]
  },
  {
   "cell_type": "markdown",
   "metadata": {},
   "source": [
    "We are going to use the quantecon's MarkovChain type to compute the stationary distribution. \n",
    "Before using it, let's check the documentation"
   ]
  },
  {
   "cell_type": "code",
   "execution_count": 3,
   "metadata": {
    "collapsed": false
   },
   "outputs": [
    {
     "data": {
      "text/latex": [
       "Finite-state discrete-time Markov chain.\n",
       "It stores useful information such as the stationary distributions, and communication, recurrent, and cyclic classes, and allows simulation of state transitions.\n",
       "\\subparagraph{Fields}\n",
       "\\begin{itemize}\n",
       "\\item \\texttt{p::Matrix} The transition matrix. Must be square, all elements must be positive, and all rows must sum to unity\n",
       "\\end{itemize}\n"
      ],
      "text/markdown": [
       "Finite-state discrete-time Markov chain.\n",
       "\n",
       "It stores useful information such as the stationary distributions, and communication, recurrent, and cyclic classes, and allows simulation of state transitions.\n",
       "\n",
       "##### Fields\n",
       "\n",
       "  * `p::Matrix` The transition matrix. Must be square, all elements must be positive, and all rows must sum to unity\n"
      ],
      "text/plain": [
       "Finite-state discrete-time Markov chain.\n",
       "\n",
       "It stores useful information such as the stationary distributions, and communication, recurrent, and cyclic classes, and allows simulation of state transitions.\n",
       "\n",
       "##### Fields\n",
       "\n",
       "  * `p::Matrix` The transition matrix. Must be square, all elements must be positive, and all rows must sum to unity\n"
      ]
     },
     "execution_count": 3,
     "metadata": {},
     "output_type": "execute_result"
    }
   ],
   "source": [
    "?QuantEcon.MarkovChain"
   ]
  },
  {
   "cell_type": "code",
   "execution_count": 4,
   "metadata": {
    "collapsed": false
   },
   "outputs": [
    {
     "ename": "LoadError",
     "evalue": "LoadError: ArgumentError: q must be smaller than Q\nwhile loading In[4], in expression starting on line 6",
     "output_type": "error",
     "traceback": [
      "LoadError: ArgumentError: q must be smaller than Q\nwhile loading In[4], in expression starting on line 6",
      "",
      " in inventoryP at In[2]:3"
     ]
    }
   ],
   "source": [
    "#== Ss rules ==#\n",
    "Q = 5\n",
    "q = 2\n",
    "\n",
    "#= checking the function =#\n",
    "P = inventoryP(10,Q)"
   ]
  },
  {
   "cell_type": "code",
   "execution_count": 5,
   "metadata": {
    "collapsed": false
   },
   "outputs": [
    {
     "data": {
      "text/plain": [
       "Discrete Markov Chain\n",
       "stochastic matrix of type Array{Float64,2}:\n",
       "6x6 Array{Float64,2}:\n",
       " 0.03125  0.03125  0.0625  0.125  0.25  0.5\n",
       " 0.03125  0.03125  0.0625  0.125  0.25  0.5\n",
       " 0.03125  0.03125  0.0625  0.125  0.25  0.5\n",
       " 0.125    0.125    0.25    0.5    0.0   0.0\n",
       " 0.0625   0.0625   0.125   0.25   0.5   0.0\n",
       " 0.03125  0.03125  0.0625  0.125  0.25  0.5\n"
      ]
     },
     "execution_count": 5,
     "metadata": {},
     "output_type": "execute_result"
    }
   ],
   "source": [
    "P = inventoryP(q,Q)\n",
    "mc = MarkovChain(P, 0:Q)"
   ]
  },
  {
   "cell_type": "markdown",
   "metadata": {},
   "source": [
    "On Exercise 3 we argued that the matrix $P$ was irreducible and aperiodic for any given $(q,Q)$. \n",
    "\n",
    "We can check this for the particular case with $Q = 5$ and $q=2$."
   ]
  },
  {
   "cell_type": "code",
   "execution_count": 6,
   "metadata": {
    "collapsed": false
   },
   "outputs": [
    {
     "data": {
      "text/plain": [
       "true"
      ]
     },
     "execution_count": 6,
     "metadata": {},
     "output_type": "execute_result"
    }
   ],
   "source": [
    "is_aperiodic(mc)"
   ]
  },
  {
   "cell_type": "code",
   "execution_count": 7,
   "metadata": {
    "collapsed": false
   },
   "outputs": [
    {
     "data": {
      "text/plain": [
       "true"
      ]
     },
     "execution_count": 7,
     "metadata": {},
     "output_type": "execute_result"
    }
   ],
   "source": [
    "is_irreducible(mc)"
   ]
  },
  {
   "cell_type": "markdown",
   "metadata": {},
   "source": [
    "The MarkovChain `type` also offers a simple way to compute the stationary distribution. "
   ]
  },
  {
   "cell_type": "code",
   "execution_count": 8,
   "metadata": {
    "collapsed": false
   },
   "outputs": [
    {
     "data": {
      "text/plain": [
       "6-element Array{Float64,1}:\n",
       " 0.0625\n",
       " 0.0625\n",
       " 0.125 \n",
       " 0.25  \n",
       " 0.25  \n",
       " 0.25  "
      ]
     },
     "execution_count": 8,
     "metadata": {},
     "output_type": "execute_result"
    }
   ],
   "source": [
    "ψ1 = mc_compute_stationary(mc)"
   ]
  },
  {
   "cell_type": "markdown",
   "metadata": {},
   "source": [
    "Another possibility is to iterate over any initial distribution until convergence"
   ]
  },
  {
   "cell_type": "code",
   "execution_count": 13,
   "metadata": {
    "collapsed": false
   },
   "outputs": [
    {
     "name": "stdout",
     "output_type": "stream",
     "text": [
      "Iteratio 2: distance 0.040 \n",
      "Iteratio 4: distance 0.007 \n",
      "Iteratio 6: distance 0.001 \n",
      "Iteratio 8: distance 0.000 \n",
      "Iteratio 10: distance 0.000 \n"
     ]
    }
   ],
   "source": [
    "ψinit = abs(randn(6))\n",
    "ψinit = ψinit'/norm(ψinit,1)\n",
    "\n",
    "ψ2 = ψinit\n",
    "dist = 1.0\n",
    "it = 0\n",
    "while dist>1e-5\n",
    "    \n",
    "    it +=1\n",
    "    ψp = ψ2 * P\n",
    "    dist = norm(ψp - ψ2,1)\n",
    "    ψ2 = ψp\n",
    "    it%2 ==0 && @printf \"Iteratio %d: distance %.3f \\n\" it dist\n",
    "end"
   ]
  },
  {
   "cell_type": "markdown",
   "metadata": {},
   "source": [
    "\n",
    "Comparing the two solutions\n"
   ]
  },
  {
   "cell_type": "code",
   "execution_count": 14,
   "metadata": {
    "collapsed": false
   },
   "outputs": [
    {
     "data": {
      "text/plain": [
       "6x2 Array{Float64,2}:\n",
       " 0.0625  0.0625\n",
       " 0.0625  0.0625\n",
       " 0.125   0.125 \n",
       " 0.25    0.25  \n",
       " 0.25    0.25  \n",
       " 0.25    0.25  "
      ]
     },
     "execution_count": 14,
     "metadata": {},
     "output_type": "execute_result"
    }
   ],
   "source": [
    "[ψ1 round(ψ2',4)]"
   ]
  },
  {
   "cell_type": "markdown",
   "metadata": {},
   "source": [
    "### Exercise 6"
   ]
  },
  {
   "cell_type": "code",
   "execution_count": 36,
   "metadata": {
    "collapsed": false
   },
   "outputs": [
    {
     "data": {
      "image/png": "[encoded data removed]",
      "text/plain": [
       "PyPlot.Figure(PyObject <matplotlib.figure.Figure object at 0x3287ff1d0>)"
      ]
     },
     "metadata": {},
     "output_type": "display_data"
    }
   ],
   "source": [
    "Q = 20 \n",
    "q = [2,5,10,15]\n",
    "\n",
    "#= Create the figure =#\n",
    "fig, axes = subplots(2, 2, figsize = (8,10))\n",
    "i = 0\n",
    "#= subplots_adjust function =#\n",
    "PyPlot.subplots_adjust(wspace = 0.5, hspace = 0.3)\n",
    "for qq in q\n",
    "    i += 1\n",
    "    P = inventoryP(qq,Q)\n",
    "    mc = MarkovChain(P, 0:Q)\n",
    "    ψ = mc_compute_stationary(mc)\n",
    "    ax = axes[i]\n",
    "    ax[:set_yticks]((0:0.04:0.20))\n",
    "    ax[:bar](mc.state_values+0.2, ψ, 0.6, color = \"blue\", alpha=0.4, label =\"q=$qq\")\n",
    "    ax[:set_xlim](0,20)\n",
    "    ax[:set_ylim](0,0.20)\n",
    "    ax[:legend](bbox_to_anchor = (0.66,-0.06,0.,0.), fontsize = 13)\n",
    "end"
   ]
  },
  {
   "cell_type": "markdown",
   "metadata": {},
   "source": [
    "### Comments\n",
    "\n",
    "As one should expect, the higher the cutoff $q$, smaller the probability on the lower part of the state space."
   ]
  }
 ],
 "metadata": {
  "kernelspec": {
   "display_name": "Julia 0.4.3",
   "language": "julia",
   "name": "julia-0.4"
  },
  "language_info": {
   "file_extension": ".jl",
   "mimetype": "application/julia",
   "name": "julia",
   "version": "0.4.3"
  }
 },
 "nbformat": 4,
 "nbformat_minor": 0
}
