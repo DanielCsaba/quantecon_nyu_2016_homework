{
 "cells": [
  {
   "cell_type": "markdown",
   "metadata": {},
   "source": [
    "\\section*{Problem set 8}\n",
    "\n",
    "\\textbf{Laszlo Tetenyi}"
   ]
  },
  {
   "cell_type": "markdown",
   "metadata": {},
   "source": [
    "\\section*{Exercise 1}\n",
    "\n",
    "\\textbf{Proof:}\n",
    "\n",
    "Suppose that $\\mathcal{P}(S)$ is compact but $S$ is infinite. Take the following open cover of $\\mathcal{P}(S)$, with representative element $U_s = \\{  \\phi : \\phi(s) \\in \\mathbb{R}$  $\\&$  $|\\phi(s')| < \\frac{1}{2} + \\epsilon$ $\\forall s' \\neq s \\}$, for some (fixed $\\forall s$) $\\epsilon < \\frac{1}{2}$. Each $U_s$ is open as it is the Cartesian product of open sets. Moreover, they also cover $\\mathcal{P}(S)$ as any distribution can only have one coordinate with a mass point over $\\frac{1}{2}$. \n",
    "\n",
    "Now take the degenerate distributions in $\\mathcal{P}(S)$, that is : $\\phi \\in \\mathcal{P}(S): \\exists !$ $s \\in S$ st. $\\phi(s) = 1$. There are infinitely many of these, by assumption, but each of them is included in different $U_s$ by construction. Therefore we are unable to select finitely many $U_s$ covering $\\mathcal{P}(S)$ so $\\mathcal{P}(S)$ is not compact. Contradiction, therefore $S$ must be finite."
   ]
  },
  {
   "cell_type": "markdown",
   "metadata": {},
   "source": [
    "\\section*{Exercise 2}\n",
    "\n",
    "\\textbf{Proof:}\n",
    "\n",
    "Suppose $\\psi^* \\in \\mathcal{P}(\\mathbb{Z})$ is a stationary distribution. $\\forall y \\in \\mathbb{Z}$ by definition it must satisfy:\n",
    "\n",
    "\\begin{eqnarray*}\n",
    "\\psi^*(y) =& \\sum_{x \\in \\mathbb{Z}} p(x,y) \\psi^*(x) \\\\\n",
    "=& \\sum_{x \\in \\mathbb{Z}} \\mathbf{1}(x=y-1) \\psi^*(x) \\\\\n",
    "=& \\psi^*(y-1)\n",
    "\\end{eqnarray*}\n",
    "\n",
    "But then $\\psi^*(y) = \\psi^*(y-1)$  $\\forall y \\in \\mathbb{Z}$ implying that $\\psi^*(y) = c >0$. However this also implies that $|\\psi^*| = \\infty$ or $0$ so $\\psi^*$ is not a distribution."
   ]
  },
  {
   "cell_type": "markdown",
   "metadata": {},
   "source": [
    "\\section*{Exercise 3}\n",
    "\n",
    "The law of motion for $X_t$ can be written as:\n",
    "\n",
    "\\begin{equation*}\n",
    "X_{t+1} = X_t - D_{t+1} + \\mathbf{1}(X_t \\leq q) \\cdot (Q - X_t)\n",
    "\\end{equation*}\n",
    "\n",
    "implying that:\n",
    "\n",
    "\\begin{eqnarray*}\n",
    "p(x,y) =& \\frac{1}{2}^{Q - y + 1}  \\space \\text{ if } \\space y \\leq Q  \\space \\text{ and } \\space  x \\leq q \\\\\n",
    " =& \\frac{1}{2}^{x - y + 1}  \\space \\text{ if } \\space y \\leq x  \\space \\text{ and } \\space  x > q \\\\\n",
    " =& \\frac{1}{2}^{x - y + 1}  \\space \\text{ if } \\space y \\leq x  \\space \\text{ and } \\space  x > q \\\\\n",
    " =& 0  \\space \\text{ otherwise }  \n",
    "\\end{eqnarray*}\n",
    "\n",
    "Intuitively, we can never drift above $Q$, however, we can be extremely unlucky and our stock runs out - thus assumption that we only meet demand up to our stock is helpful (so there will be an additional mass sitting on 0). Therefore we have that $X_{t+1}$ takes finitely many values. Moreover, the probability of reaching any state is positive (as the shock is iid). Using the theorem from class we can conclude that it is globally stable. "
   ]
  },
  {
   "cell_type": "markdown",
   "metadata": {},
   "source": [
    "\\section*{Exercise 4}"
   ]
  },
  {
   "cell_type": "code",
   "execution_count": 1,
   "metadata": {
    "collapsed": false
   },
   "outputs": [],
   "source": [
    "import quantecon as qe\n",
    "import numpy as np\n",
    "import matplotlib.pyplot as plt\n",
    "% matplotlib inline"
   ]
  },
  {
   "cell_type": "code",
   "execution_count": 2,
   "metadata": {
    "collapsed": false
   },
   "outputs": [],
   "source": [
    "q = 2\n",
    "Q = 5"
   ]
  },
  {
   "cell_type": "code",
   "execution_count": 3,
   "metadata": {
    "collapsed": true
   },
   "outputs": [],
   "source": [
    "def gen_P(q,Q):\n",
    "    P = np.empty((Q+1,Q+1))\n",
    "    for y in range(Q+1):\n",
    "            for x in range(Q+1):\n",
    "                if x <=q:\n",
    "                    P[x,y] = (1/2)**(Q-y+1)\n",
    "                elif y <= x and x > q:\n",
    "                    P[x,y] = (1/2)**(x-y+1)\n",
    "                else:\n",
    "                    P[x,y] = 0.0\n",
    "    P[:,0] = P[:,0] + (1.0 - P.sum(1))\n",
    "    return P"
   ]
  },
  {
   "cell_type": "code",
   "execution_count": 4,
   "metadata": {
    "collapsed": false
   },
   "outputs": [
    {
     "data": {
      "text/plain": [
       "array([[ 0.0625,  0.0625,  0.125 ,  0.25  ,  0.25  ,  0.25  ]])"
      ]
     },
     "execution_count": 4,
     "metadata": {},
     "output_type": "execute_result"
    }
   ],
   "source": [
    "P = gen_P(q,Q)\n",
    "mc = qe.MarkovChain(P)\n",
    "mc.stationary_distributions"
   ]
  },
  {
   "cell_type": "markdown",
   "metadata": {
    "collapsed": false
   },
   "source": [
    "\\section*{Exercise 5}"
   ]
  },
  {
   "cell_type": "code",
   "execution_count": 5,
   "metadata": {
    "collapsed": true
   },
   "outputs": [],
   "source": [
    "def stationary(P,tol = 1e-10):\n",
    "    stat = np.ones((1,P.shape[0])) / P.shape[0]\n",
    "    conv = 1.0\n",
    "    while conv > tol:\n",
    "        statnext = stat @ P\n",
    "        conv = np.sum(np.absolute(statnext - stat))\n",
    "        np.copyto(stat,statnext)\n",
    "    return stat"
   ]
  },
  {
   "cell_type": "code",
   "execution_count": 6,
   "metadata": {
    "collapsed": false
   },
   "outputs": [
    {
     "data": {
      "text/plain": [
       "array([[ 0.0625,  0.0625,  0.125 ,  0.25  ,  0.25  ,  0.25  ]])"
      ]
     },
     "execution_count": 6,
     "metadata": {},
     "output_type": "execute_result"
    }
   ],
   "source": [
    "stationary(P)"
   ]
  },
  {
   "cell_type": "markdown",
   "metadata": {
    "collapsed": false
   },
   "source": [
    "\\section*{Exercise 6}"
   ]
  },
  {
   "cell_type": "code",
   "execution_count": 7,
   "metadata": {
    "collapsed": false
   },
   "outputs": [],
   "source": [
    "Q = 20\n",
    "q_grid = [2,5,10,15]"
   ]
  },
  {
   "cell_type": "code",
   "execution_count": 8,
   "metadata": {
    "collapsed": false
   },
   "outputs": [
    {
     "data": {
      "image/png": "[encoded data removed]",
      "text/plain": [
       "<matplotlib.figure.Figure at 0xbe3e9b0>"
      ]
     },
     "metadata": {},
     "output_type": "display_data"
    }
   ],
   "source": [
    "x_grid =np.reshape(np.arange(0,Q+1, 1,int),(1,21))\n",
    "for q in q_grid:\n",
    "    P = gen_P(q,Q)\n",
    "    mc = qe.MarkovChain(P)    \n",
    "    plt.plot(x_grid.T,mc.stationary_distributions.T)\n",
    "plt.show()"
   ]
  },
  {
   "cell_type": "markdown",
   "metadata": {},
   "source": [
    "Interpretation: As q increases, less and less mass is sitting below q thanks to the dividend process."
   ]
  }
 ],
 "metadata": {
  "kernelspec": {
   "display_name": "Python 3",
   "language": "python",
   "name": "python3"
  },
  "language_info": {
   "codemirror_mode": {
    "name": "ipython",
    "version": 3
   },
   "file_extension": ".py",
   "mimetype": "text/x-python",
   "name": "python",
   "nbconvert_exporter": "python",
   "pygments_lexer": "ipython3",
   "version": "3.5.1"
  }
 },
 "nbformat": 4,
 "nbformat_minor": 0
}
