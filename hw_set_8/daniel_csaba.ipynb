{
 "cells": [
  {
   "cell_type": "markdown",
   "metadata": {},
   "source": [
    "## Comp Econ Homework 8\n",
    "\n",
    "Daniel Csaba\n",
    "\n",
    "UnivID: N12155064"
   ]
  },
  {
   "cell_type": "markdown",
   "metadata": {},
   "source": [
    "## Exercise 1.\n",
    "\n",
    "Define the open balls with radius one around the degenerate distributions by\n",
    "\n",
    "\\begin{equation}\n",
    "B(\\delta_s; 1):= \\big\\{\\phi \\in l_1^+(S) : \\|\\phi - \\delta_s\\| < 1\\big\\}.\n",
    "\\end{equation}\n",
    "\n",
    "\n",
    "\n",
    "Take the open cover of $\\mathcal{P}(S)$ given by the collection of sets $\\{B(\\delta_s;1)\\}_{s \\in S}$. Using the topological definition of compactness, \n",
    "$\\mathcal{P}(S)$ being compact implies that every open cover of $\\mathcal{P}(S)$ has a finite subcover.\n",
    "\n",
    "The finite subcover of $\\{B(\\delta_s;1)\\}_{s \\in S}$ has to include all the balls centered around degenerate distributions---otherwise the degenerate distribution in the center of the not included ball would not be covered by this lacking collection. This is because $ \\|\\delta_q - \\delta_s\\| = 1$ for all $s\\neq q$.\n",
    "\n",
    "Hence, $S$ has to be finite."
   ]
  },
  {
   "cell_type": "markdown",
   "metadata": {},
   "source": [
    "## Exercise 2.\n",
    "\n",
    "Suppose that there exist a stationary distribution $\\psi^*$. Then, by definition \n",
    "\n",
    "\\begin{equation}\n",
    "\\psi^*(y) = \\sum_{x \\in \\mathbb{Z}} p(x,y) \\psi^*(x) \\qquad \\forall y \\in \\mathbb{Z}.\n",
    "\\end{equation}\n",
    "\n",
    "\n",
    "- For $y=0$ the above definition gives $\\psi^*(y) =  0$ since $(0-1) \\notin \\mathbb{Z}$.\n",
    "\n",
    "- Since $p(x,y) = \\mathbb{1}\\{x = y-1\\}$ for all $x \\in \\mathbb{Z}$ one can show by induction that $\\psi^*(n) =  0$ for all $n \\in \\mathbb{Z}$.\n",
    "\n",
    "- However, this implies that\n",
    "\n",
    "\\begin{equation}\n",
    "\\| \\psi^* \\| = \\sum_{x \\in \\mathbb{Z}} \\big| \\psi^*(x)\\big| = \\sum_{x \\in \\mathbb{Z}} 0 = 0 \\neq 1.\n",
    "\\end{equation}\n",
    "\n",
    "\n",
    "This is contradicting $\\psi^* \\in \\mathcal{P}(\\mathbb{Z})$."
   ]
  },
  {
   "cell_type": "markdown",
   "metadata": {},
   "source": [
    "## Exercise 3.\n",
    "\n",
    "For the argument we can use the theorem provided during lecture. Namely, since the state space is finite, $p$ being both irreducible and aperiodic would imply that the stochastic kernel is globally stable.\n",
    "\n",
    "#### Irreducibility\n",
    "To get irreducibility one can show that there is a positive probability of reaching any state from any other state in at most two steps.\n",
    "\n",
    "Clearly, if $x  \\leq q$ or $\\{q < x \\leq Q$ and $y \\leq x\\}$ then $p(x,y)>0$ for any such states satisfying the conditions.\n",
    "\n",
    "Take the only interesting case, when $q < x \\leq Q$ and $y > x$. Then $p(x,y) = 0$, however, the following sequence could lead to $y$ from $x$ with positive probability in only two steps. Let $X_t = x$ with the above restrictions and $D_{t+1} > x-q$ which happens with strictly positive probability. Then $X_{t+1} < q$ and  a realization of $D_{t+2} = Q-y$ would lead to $X_{t+2} = y$ with positive probability. Specifically, in this scenario the probability would be given by\n",
    "\n",
    "\\begin{equation}\n",
    "p(X_{t} = x, X_{t+2} = y) = p^2(x, y) = P(D = x-q) * P(D = Q-y).\n",
    "\\end{equation}\n",
    "\n",
    "#### Aperiodicity\n",
    "To see aperiodicity note that the  $p(x, x) > 0$ for every $x \\in \\big[0, Q\\big]$. \n",
    "\n",
    "- If $x \\leq q$ then we have that $P(D=Q-x)>0$.\n",
    "- On the other hand, if $q < x$ we have that $P(D=0)>0$.\n",
    "\n",
    "Either way we have that $p(x,x)>0$. Putting finiteness, irreducibility and aperiodicity together we get global stability."
   ]
  },
  {
   "cell_type": "markdown",
   "metadata": {},
   "source": [
    "## Exercise 4.\n",
    "\n",
    "The task is to write a function which defines the stochastic kernel for each $(q, Q)$."
   ]
  },
  {
   "cell_type": "code",
   "execution_count": 47,
   "metadata": {
    "collapsed": false
   },
   "outputs": [],
   "source": [
    "import numpy as np\n",
    "import quantecon as qe"
   ]
  },
  {
   "cell_type": "code",
   "execution_count": 42,
   "metadata": {
    "collapsed": true
   },
   "outputs": [],
   "source": [
    "def inventory_kernel(q, Q):\n",
    "    \"\"\"Defines the stochastic kernel implicitly given in the inventory dynamics problem\"\"\"\n",
    "    \n",
    "    # Define probability of integer levels of demand\n",
    "    p_demand = lambda d: .5 ** (d+1)\n",
    "    # Define tail probability for demand P(D >= d)\n",
    "    p_demand_tail = lambda d: 1 - .5*(1 - .5**d)/(1 - .5)\n",
    "    \n",
    "    # Define Markov operator\n",
    "    P = np.zeros((Q+1,Q+1))\n",
    "    for x in range(Q+1):\n",
    "        for y in range(Q+1):\n",
    "            if x <= q and y != 0:               # topping up inventory, anything possible depending on demand\n",
    "                P[x,y] = p_demand(Q-y)\n",
    "            elif x <= q and y == 0:             # pool tail probabilities for zero inventory next period (D>=Q)\n",
    "                P[x,y] = p_demand_tail(Q)\n",
    "            elif x > q and y > x:               # not topping up inventory, can't have more in next period\n",
    "                P[x,y] = 0\n",
    "            elif x > q and y != 0:              # can have less in next period (D<x)\n",
    "                P[x,y] = p_demand(x-y)\n",
    "            else:\n",
    "                P[x,y] = p_demand_tail(x)       # pool tail probabilities for zero inventory next period (D>=x)\n",
    "    return P"
   ]
  },
  {
   "cell_type": "markdown",
   "metadata": {},
   "source": [
    "Now, using this function we can define the Markov operator for the case $q=2$ and $Q=5$."
   ]
  },
  {
   "cell_type": "code",
   "execution_count": 127,
   "metadata": {
    "collapsed": false
   },
   "outputs": [
    {
     "name": "stdout",
     "output_type": "stream",
     "text": [
      "[[ 0.03125  0.03125  0.0625   0.125    0.25     0.5    ]\n",
      " [ 0.03125  0.03125  0.0625   0.125    0.25     0.5    ]\n",
      " [ 0.03125  0.03125  0.0625   0.125    0.25     0.5    ]\n",
      " [ 0.125    0.125    0.25     0.5      0.       0.     ]\n",
      " [ 0.0625   0.0625   0.125    0.25     0.5      0.     ]\n",
      " [ 0.03125  0.03125  0.0625   0.125    0.25     0.5    ]]\n"
     ]
    }
   ],
   "source": [
    "P = inventory_kernel(2, 5)\n",
    "print(P)"
   ]
  },
  {
   "cell_type": "markdown",
   "metadata": {},
   "source": [
    "Invoking the `MarkovChain` class from the `quantecon` package we can quickly get the stationary distribution."
   ]
  },
  {
   "cell_type": "code",
   "execution_count": 56,
   "metadata": {
    "collapsed": false
   },
   "outputs": [
    {
     "name": "stdout",
     "output_type": "stream",
     "text": [
      "The stationary distribution is: [[ 0.0625  0.0625  0.125   0.25    0.25    0.25  ]]\n"
     ]
    }
   ],
   "source": [
    "mc = qe.MarkovChain(P)\n",
    "print('The stationary distribution is: {}'.format(mc.stationary_distributions))"
   ]
  },
  {
   "cell_type": "markdown",
   "metadata": {},
   "source": [
    "## Exercise 5.\n",
    "\n",
    "As the stochastic kernel associated with the inventory dynamics problem is globally stable for any initial probability distribution applying the Markov operator successively will converge to the unique stationary distribution.\n",
    "\n",
    "The following function is going to implement these ideas."
   ]
  },
  {
   "cell_type": "code",
   "execution_count": 72,
   "metadata": {
    "collapsed": true
   },
   "outputs": [],
   "source": [
    "def Markov_iteration(P, maxiter, tol):\n",
    "    \"\"\"Apply globally stable Markov operator successively to find the unique stationary distribution.\"\"\"\n",
    "    \n",
    "    p = np.ones(P.shape[0])/P.shape[0] # set the initial prob. dist. to uniform\n",
    "    current_iter = 0\n",
    "    dist = 2*tol\n",
    "    \n",
    "    while dist > tol and current_iter < maxiter:\n",
    "        p_new = p @ P\n",
    "        dist = sum(abs(p_new - p))\n",
    "        p = p_new\n",
    "        current_iter += 1\n",
    "    return p, current_iter"
   ]
  },
  {
   "cell_type": "code",
   "execution_count": 71,
   "metadata": {
    "collapsed": false
   },
   "outputs": [
    {
     "name": "stdout",
     "output_type": "stream",
     "text": [
      "The stationary distribution is: [ 0.06249997  0.06249997  0.12499994  0.24999988  0.2499999   0.25000034]\n",
      "The nubmer of iterations to achieve convergence: 13\n"
     ]
    }
   ],
   "source": [
    "maxiter = 10000\n",
    "tol = 0.000001\n",
    "\n",
    "mark_iter = Markov_iteration(P, maxiter, tol)\n",
    "\n",
    "print('The stationary distribution is: {}'.format(mark_iter[0]))\n",
    "print('The nubmer of iterations to achieve convergence: {}'.format(mark_iter[1]))"
   ]
  },
  {
   "cell_type": "markdown",
   "metadata": {},
   "source": [
    "As we can see convergence occurs pretty fast with quite high precision."
   ]
  },
  {
   "cell_type": "markdown",
   "metadata": {},
   "source": [
    "## Exercise 6.\n",
    "\n",
    "Now, plot the different stationary distributions for $Q=20$ and $q=2,5,10,15$."
   ]
  },
  {
   "cell_type": "code",
   "execution_count": 110,
   "metadata": {
    "collapsed": true
   },
   "outputs": [],
   "source": [
    "%matplotlib inline\n",
    "import matplotlib.pyplot as plt\n",
    "\n",
    "plt.style.use('bmh')"
   ]
  },
  {
   "cell_type": "code",
   "execution_count": 125,
   "metadata": {
    "collapsed": false
   },
   "outputs": [
    {
     "data": {
      "image/png": "[encoded data removed]",
      "text/plain": [
       "<matplotlib.figure.Figure at 0x7fbc4fc84518>"
      ]
     },
     "metadata": {},
     "output_type": "display_data"
    }
   ],
   "source": [
    "Q = 20\n",
    "q_list = [2, 5, 10, 15]\n",
    "\n",
    "x = np.arange(Q+1)\n",
    "width = 1     \n",
    "\n",
    "f, axes = plt.subplots(2, 2, figsize=(14, 14))\n",
    "\n",
    "for ax, q in zip(axes.flat, q_list):\n",
    "    P = inventory_kernel(q, Q)\n",
    "    stat_dist = qe.MarkovChain(P).stationary_distributions.reshape(P.shape[0],)\n",
    "    ax.bar(x, stat_dist, width, color=\"g\", alpha=.3)\n",
    "    ax.set_title(\"$q ={}$\".format(q), fontsize=18)\n",
    "    ax.set_ylim([0,.18])\n",
    "    ax.set_xlim([-1,22])\n",
    "plt.show()"
   ]
  },
  {
   "cell_type": "markdown",
   "metadata": {},
   "source": [
    "We see on the graphs that as we increase the threshold for refilling the inventory the stationary distribution centers its mass on the high inventory states. This is due to the fact that the distribution of demand levels does not change and hence the probability of holding high inventory is increasing with the threshold for refilling."
   ]
  },
  {
   "cell_type": "code",
   "execution_count": null,
   "metadata": {
    "collapsed": true
   },
   "outputs": [],
   "source": []
  }
 ],
 "metadata": {
  "kernelspec": {
   "display_name": "Python 3",
   "language": "python",
   "name": "python3"
  },
  "language_info": {
   "codemirror_mode": {
    "name": "ipython",
    "version": 3
   },
   "file_extension": ".py",
   "mimetype": "text/x-python",
   "name": "python",
   "nbconvert_exporter": "python",
   "pygments_lexer": "ipython3",
   "version": "3.5.1"
  }
 },
 "nbformat": 4,
 "nbformat_minor": 0
}
