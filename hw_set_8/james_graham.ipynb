{
 "cells": [
  {
   "cell_type": "markdown",
   "metadata": {},
   "source": [
    "# Homework Set 8\n",
    "\n",
    "### Exercise 1.\n",
    "\n",
    "We want to show that if $\\mathcal{P}(S)$ is compact in $(\\mathcal{l}_1, ||.||)$, then $S$ is finite. I Will show this by making use of the contrapositive: if $S$ is not finite, then $\\mathcal{P}(S)$ is not compact. \n",
    "\n",
    "First, note that in this case compactness is the same thing as sequential compactness. So every sequence $\\{ \\phi_n \\} \\in \\mathcal{P}(S)$ has a subsequence that converges to a point in $\\mathcal{P}(S)$. Suppose that $S$ is not fininite. Then take the sequence $\\{ \\phi_n \\} \\in \\mathcal{P}(S)$ where the elements are $\\phi_n = (0,0,...,0,1,0,...)$ with 1 in the $n$-th position. This sequence does not have a subsequence that converges. Therefore, not every seuqnce in $\\mathcal{P}(S)$ has a convergenet subsequence, and so $\\mathcal{P}(S)$ is not compact. Since non-finite $S$ does not imply $\\mathcal{P}(S)$ is compact, then $\\mathcal{P}(S)$ compact implies that $S$ is finite. \n",
    "\n",
    "### Exercise 2.\n",
    "\n",
    "Use proof by contradiction. Suppose there exists a stationary distribution $\\psi^* \\in \\mathcal{P}(\\mathbb{Z})$ such that \n",
    "\\begin{align*}\n",
    "\\psi^*(y) & = \\sum_{x \\in \\mathbb{Z}} p(x,y) \\psi^*(x) \\\\\n",
    "& = \\sum_{x \\in \\mathbb{Z}} \\mathbb{1}(x = y -1) \\psi^*(x) \\\\\n",
    "& = \\psi^*(y - 1) \\ \\ \\forall y \\in \\mathbb{Z} \\\\ \n",
    "\\end{align*}\n",
    "This implies that the proposed stationary distribution is a constant function with $\\psi^*(y) = c \\ \\forall y \\in \\mathbb{Z}$. Note that if $\\psi^* \\in \\mathcal{P}(\\mathbb{Z})$, it must be that $\\psi^*(y) \\geq 0 \\ \\forall y \\in \\mathbb{Z}$ and $\\sum_{y \\in \\mathbb{Z}} \\psi^*(y) = 1$. But if the constant $c=0$, then $\\sum_{y \\in \\mathbb{Z}} \\psi^*(y) = 0$, and if $c > 0$, then $\\sum_{y \\in \\mathbb{Z}} \\psi^*(y) = \\infty$. Thus, the proposed stationary distribution is not a distribution at all, a contradiction. Therefore, no stationary disribution exists for the Markov chain.\n",
    "\n",
    "### Exercise 3.\n",
    "\n",
    "Note that we can write the problem as \n",
    "\\begin{align}\n",
    "NewStock =   \\Big\\{\n",
    "\\matrix{\n",
    "Q \\quad if \\ X_t \\leq q \\\\\n",
    "X_t \\quad if \\ X_t > q\n",
    "}\n",
    "\\end{align}\n",
    "And \n",
    "\\begin{align}\n",
    "X_{t+1} = \\max \\left\\{ NewStock - D_{t+1}, \\quad 0    \\right\\}\n",
    "\\end{align}\n",
    "Before we create the probability transition matrix for this problem, note first that using the properties of partial geometric sums, we know that:\n",
    "\\begin{align}\n",
    "\\sum_{j = a}^{\\infty} \\left( \\frac{1}{2} \\right)^{j+1} = \\left( \\frac{1}{2} \\right)^{a}\n",
    "\\end{align}\n",
    "This is usful, as it is the probability of stocking out i.e. the probability that $D_{t+1} \\geq a$, where $a$ is the stock of the firm before demand is realized. \n",
    "\n",
    "Now, let the state space be a vector $[Q, Q-1, ..., q+1, q, q-1, ..., 0]'$. Then we can write the transition probabilty  matrix as \n",
    "\\begin{bmatrix}\n",
    "\\left( \\frac{1}{2} \\right)\t& \\left( \\frac{1}{2} \\right)^2  & \\left( \\frac{1}{2} \\right)^3  & \\cdots  & \\left( \\frac{1}{2} \\right)^{Q} & \\left( \\frac{1}{2} \\right)^{Q} \\\\ \n",
    "0\t& \\left( \\frac{1}{2} \\right)  & \\left( \\frac{1}{2} \\right)^2 & \\cdots & \\left( \\frac{1}{2} \\right)^{Q-1} & \\left( \\frac{1}{2} \\right)^{Q-1} \\\\ \n",
    "\\cdots\t& \\cdots & \\cdots & \\cdots & \\cdots & \\cdots  \\\\ \n",
    "0\t& 0 & 0 & \\cdots & \\left( \\frac{1}{2} \\right)^{q+1}  & \\left( \\frac{1}{2} \\right)^{q+1} \\\\ \n",
    "\\left( \\frac{1}{2} \\right)\t& \\left( \\frac{1}{2} \\right)^2  & \\cdots   & \\cdots  & \\left( \\frac{1}{2} \\right)^{Q} & \\left( \\frac{1}{2} \\right)^{Q} \\\\ \n",
    "\\cdots\t& \\cdots & \\cdots & \\cdots & \\cdots & \\cdots \\\\\n",
    "\\left( \\frac{1}{2} \\right)\t& \\left( \\frac{1}{2} \\right)^2  & \\cdots   & \\cdots  & \\left( \\frac{1}{2} \\right)^{Q} & \\left( \\frac{1}{2} \\right)^{Q}\n",
    "\\end{bmatrix} \n",
    "For the top row, the first element is the probability of transitioning from $Q$ to $Q$. The second element is from $Q$ to $Q-1$, and so on. The second to last element in the row is the probability from $Q$ to $1$, which is given by $(1/2)^{Q}$, because that is the probability that demand is equal to $Q-1$. The final element in the row is the probability that demand is equal to $Q$ or more, which is also $(1/2)^{Q}$, by the partial geometric sum we described above. \n",
    "\n",
    "For the second row, there is zero probability of transitioning from $Q-1$ to $Q$ (assuming that $Q-1 > q$). Otherwise, elements in this row proceed in the same fashion as above. This pattern is repeated until the row associated with transitioning from $q+1$. From the next row, associated with $q$, new inventory is ordered so that the firm begins the period with inventory $Q$, just as in the top row. This is the case for all initial states less than $q$. \n",
    "\n",
    "Thus, we see that the matrix has strictly positive elements for all elements in the upper triangule. There are also strictly positive elements for all elements in rows $q$ and below. I could not find a theorem that proves this, but I am fairly certain that any matrix $A$ that has this property will satisfy the fact that $A^k$ has all strictly positive elements for some $k$. This implies that the transition matrix is both irreducible and apreiodic, which means that it is globally stable. \n",
    "\n",
    "Although I could not prove that this is the case, intuitively we can see that since there is a positive probability of receiving a demand shock that sends an inventory $X_t > q$ to any element between $X_t$ and $q$. Since this is true for any element up to $Q$, and since the firm restocks up to $Q$ once $X_t$ falls below $q$, there is a positive probability of reaching any state after some number of iterations. This is the notion of irreducibility. There is also positive probability of returning to the same state (from all states). This is the notion of aperiodicity. \n",
    "\n",
    "### Exercise 4. \n",
    "\n",
    "[I'm sorry about the state (ha) this code is in, I really ran out of time this week and this is the best I could do in the spare hour or so I had. My apologies].\n"
   ]
  },
  {
   "cell_type": "code",
   "execution_count": 129,
   "metadata": {
    "collapsed": false
   },
   "outputs": [],
   "source": [
    "import numpy as np\n",
    "from numpy.linalg import norm\n",
    "from numpy.linalg import matrix_power\n",
    "import quantecon as qe\n"
   ]
  },
  {
   "cell_type": "code",
   "execution_count": 126,
   "metadata": {
    "collapsed": false
   },
   "outputs": [
    {
     "data": {
      "text/plain": [
       "array([[ 0.,  0.,  0.,  0.,  0.,  0.],\n",
       "       [ 0.,  0.,  0.,  0.,  0.,  0.],\n",
       "       [ 0.,  0.,  0.,  0.,  0.,  0.],\n",
       "       [ 0.,  0.,  0.,  0.,  0.,  0.],\n",
       "       [ 0.,  0.,  0.,  0.,  0.,  0.],\n",
       "       [ 0.,  0.,  0.,  0.,  0.,  0.]])"
      ]
     },
     "execution_count": 126,
     "metadata": {},
     "output_type": "execute_result"
    }
   ],
   "source": [
    "## Sorry, this is where I tried to write a function for this stuff, but ran out of time...\n",
    "\n",
    "#S = np.array([5,4,3,2,1,0])\n",
    "#Q = 5\n",
    "#q = 2\n",
    "\n",
    "#def d_prob(d):\n",
    "#    x = (1/2)**(d+1)\n",
    "#    return x\n",
    "\n",
    "#def trans_create(Q,q):\n",
    "#    S = np.linspace(Q,0,Q+1)\n",
    "#    P = np.zeros([Q+1,Q+1])\n",
    "#    for i in range([0:Q]):\n",
    "#        if i > q:\n",
    "#            P[]\n",
    "#        else:\n",
    "#            P\n",
    "#    return P\n"
   ]
  },
  {
   "cell_type": "code",
   "execution_count": 130,
   "metadata": {
    "collapsed": false
   },
   "outputs": [],
   "source": [
    "P = np.array([[1/32,1/32,1/16,1/8,1/4,1/2],[1/32,1/32,1/16,1/8,1/4,1/2],[1/32,1/32,1/16,1/8,1/4,1/2],\n",
    "               [1/8,1/8,1/4,1/2,0,0],[1/16,1/16,1/8,1/4,1/2,0],[1/32,1/32,1/16,1/8,1/4,1/2]])"
   ]
  },
  {
   "cell_type": "markdown",
   "metadata": {},
   "source": [
    "Now use the QuantEcon stuff to compute the stationary distribution:"
   ]
  },
  {
   "cell_type": "code",
   "execution_count": 131,
   "metadata": {
    "collapsed": false
   },
   "outputs": [
    {
     "data": {
      "text/plain": [
       "array([[ 0.0625,  0.0625,  0.125 ,  0.25  ,  0.25  ,  0.25  ]])"
      ]
     },
     "execution_count": 131,
     "metadata": {},
     "output_type": "execute_result"
    }
   ],
   "source": [
    "mc = qe.MarkovChain(P)\n",
    "mc.stationary_distributions"
   ]
  },
  {
   "cell_type": "markdown",
   "metadata": {},
   "source": [
    "### Exercise 5.\n",
    "\n",
    "Now compute the stationary distribution iteratively."
   ]
  },
  {
   "cell_type": "code",
   "execution_count": 132,
   "metadata": {
    "collapsed": false
   },
   "outputs": [
    {
     "data": {
      "text/plain": [
       "array([ 0.0625,  0.0625,  0.125 ,  0.25  ,  0.25  ,  0.25  ])"
      ]
     },
     "execution_count": 132,
     "metadata": {},
     "output_type": "execute_result"
    }
   ],
   "source": [
    "err = 1\n",
    "Pt = P \n",
    "while err > 1e-10:\n",
    "    Pt1 = Pt \n",
    "    Pt = Pt1@P\n",
    "    err = norm(Pt1 - Pt)\n",
    "    \n",
    "stat_dist = Pt[1,:]\n",
    "stat_dist"
   ]
  },
  {
   "cell_type": "markdown",
   "metadata": {},
   "source": [
    "### Exercise 6. \n",
    "\n",
    "[Ran out of time for this..]\n"
   ]
  },
  {
   "cell_type": "code",
   "execution_count": null,
   "metadata": {
    "collapsed": true
   },
   "outputs": [],
   "source": [
    "\n"
   ]
  }
 ],
 "metadata": {
  "kernelspec": {
   "display_name": "Python 3",
   "language": "python",
   "name": "python3"
  },
  "language_info": {
   "codemirror_mode": {
    "name": "ipython",
    "version": 3
   },
   "file_extension": ".py",
   "mimetype": "text/x-python",
   "name": "python",
   "nbconvert_exporter": "python",
   "pygments_lexer": "ipython3",
   "version": "3.5.1"
  }
 },
 "nbformat": 4,
 "nbformat_minor": 0
}
