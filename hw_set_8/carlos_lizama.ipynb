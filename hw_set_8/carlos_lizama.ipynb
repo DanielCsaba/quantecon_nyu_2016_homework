{
 "cells": [
  {
   "cell_type": "markdown",
   "metadata": {
    "slideshow": {
     "slide_type": "-"
    }
   },
   "source": [
    "## Homework 8\n",
    "\n",
    "Carlos Lizama  \n",
    "N17866309  \n",
    "\n",
    "### Exercise 1\n",
    "To show this result I will use the fact that a compact set is also sequentially compact, that means that every sequence has a convergence subsequence. However, if the set is infinite dimensional, then one can construct a sequence which has no convergence subsequence, and therefore the set is not compact.\n",
    "\n",
    "In particular, consider the sequence $\\{x_n\\}_{n=1}^{\\infty}$, where $x_n = e_n$, ie, it has a one in the $n$ dimension and zeros elsewhere. Clearly $\\{ x_n\\} \\in \\mathcal{P}(S) $. It is clear that for any two elements of this sequence $|| x_i - x_j || = 2$, and therefore there is no convergence subsequence. We thus conclude that the set $S$ is not compact. \n",
    "\n",
    "Therefore, if $\\mathcal{P}(S)$ is compact as a subset of $(l_1(S,||\\cdot||)$, then $S$ must be finite.\n",
    "\n",
    "\n",
    "### Exercise 2\n",
    "By contradiction, assume that such distribution exists. If $\\psi^*$ is the stationary distribution, then it must satisfy $$ \\psi^*(y) = \\sum_{x \\in \\mathbb{Z}} p(x,y) \\psi^*(x) \\quad \\forall y \\in \\mathbb{Z} $$\n",
    "\n",
    "Now pick a $n \\in \\mathbb{Z}$ and using the fact that $p(x,y) = \\mathbb{1} \\{ x = y-1 \\}$ we obtain\n",
    "\n",
    "\\begin{align*}\n",
    "    \\psi^*(n) & = \\sum_{x \\in \\mathbb{Z}} p(x,n) \\psi^*(x) \\\\\n",
    "    & = p(n-1,n) \\psi^*(n) \\\\\n",
    "    & = \\psi^*(n-1)\n",
    "\\end{align*}\n",
    "\n",
    "But then we can do the same calculation for every $n \\in \\mathbb{Z}$, and hence we conclude $\\psi^*(n) = \\psi^*(n-1) = \\bar{\\psi} \\quad \\forall n \\in \\mathbb{Z} $.\n",
    "\n",
    "But since $\\mathbb{Z}$ is an infinite dimensional space, $\\psi^*$ can not satisfy $$ \\sum_{x \\in \\mathbb{Z}} \\psi^*(n) = 1 $$\n",
    "\n",
    "In fact,\n",
    "$$ \\sum_{x \\in \\mathbb{Z}} \\psi^*(n) = \\sum_{x \\in \\mathbb{Z}} \\bar{\\psi} = \\infty > 1 $$\n",
    "\n",
    "We conclude then that a stationary distribution can not exist.\n",
    "\n",
    "\n",
    "### Exercise 3\n",
    "First, note that the state space $X$ is finite. In fact, $X = \\{ 0, 1, \\ldots, Q \\}$.\n",
    "\n",
    "Then it is enough to show that the associated Markov operator $P$ is both aperiodic and irreductible. \n",
    "\n",
    "**Aperiodic:** $x$ is called *aperiodic* if $\\exists n \\in \\mathbb{N} such that k \\geq n \\Rightarrow p^k(x,x)>0 $.\n",
    "In this particular case, $n=1$ is enough. \n",
    "\n",
    "For $x \\leq q $, the firm restocks and if a demand of size $Q-x$ is realized, then the state next period is $x$. Since there is a positive probability that a demand of $Q-x$ is realized, then $p(x,x)>0$.\n",
    "\n",
    "For $x > q $ the firm does not restock, and if a demand of zero is realized, which has positive probability, then the state next period is $x$.\n",
    "\n",
    "We conclude that $p(x,x)>0 \\; \\forall x \\in X$\n",
    "\n",
    "**Irreductible** The stochastic kernel is *irreductible* if every state is accessible from any other, in other words, $p^k(x,y)>0$ for some $k$, for every $x,y$.\n",
    "\n",
    "For $x \\leq q$ the firm restocks and a demand of $Q-y$ will lead to a stock of $y$ tomorrow. Since a demand of $Q-y$ has a positive probability $p(x,y)>0$.\n",
    "\n",
    "For $x > q$ the firm does not restock. Note that in this case is not possible to achieve higher states $y>x$ in only one period. For $y \\leq x$ a demand of $x - y$ will suffice and $y$ is achievable in one period, ie, p(x,y)>0 for $y \\leq x$. For $y>x$, assume a demand such that the firm has to restock, ie, demand higher than $x-q$ which has positive probability. Then the firm restock and assume the next period a demand of $Q-y$ which lead to a final stock of $y$. Hence $p^2(x,y)>0$. We conclude that every $y$ is accesible from every $x$ and thus $P$ is irreductible.\n",
    "\n",
    "Since the Markov operator $P$ is aperiodic and irreductible $P$ is globally stable.\n",
    "\n",
    "### Exercise 4\n",
    "\n",
    "In this exercise I compute the stationary equilibrium for $(q,Q) = (2,5)$. In order to do that, I compute first the stochastic kernel associated with this problem for a general $(q,Q)$. Then I write a function that takes a pair $(q,Q)$ and return the transition matrix associated. Finally, I used QuantEcon to compute the stationary distribution.\n",
    "\n",
    "For a given pair $(q,Q)$, $X_t$ takes values in $S = \\{0, 1, \\ldots, Q\\}$, ie, the state has $Q+1$ dimension.\n",
    "The probabilities are as follows:\n",
    "\n",
    "* for $x \\leq q$ (restocking)\n",
    "  \\begin{equation}\n",
    "  P(X_{t+1} = y | X_t = x) = \\left\\{  \\begin{array}{ll}\n",
    "  P(D_{t+1} = Q-y) & \\text{for } y = 1, \\ldots, Q \\\\ \n",
    "  P(D_{t+1} \\geq Q) = 1 - \\sum_{y=1}^{Q} P(D_{t+1} = Q-y) & \\text{for } y=0\n",
    "  \\end{array}  \\right.\n",
    "  \\end{equation}\n",
    "\n",
    "\n",
    "* for $x > q$ (no restocking)\n",
    "  \\begin{equation}\n",
    "  P(X_{t+1} = y | X_t = x) = \\left\\{  \\begin{array}{ll}\n",
    "  0 & \\text{for } y \\geq x+1 \\\\\n",
    "  P(D_{t+1} = x-y) & \\text{for } y \\in \\{1, \\ldots, x\\} \\\\\n",
    "  P(D_{t+1} \\geq x) = 1 - \\sum_{y=1}^{x} P(D_{t+1} = x-y) & \\text{for } y=0\n",
    "  \\end{array}  \\right.\n",
    "  \\end{equation}\n",
    "\n"
   ]
  },
  {
   "cell_type": "code",
   "execution_count": 1,
   "metadata": {
    "collapsed": false
   },
   "outputs": [],
   "source": [
    "using QuantEcon"
   ]
  },
  {
   "cell_type": "code",
   "execution_count": 2,
   "metadata": {
    "collapsed": false
   },
   "outputs": [
    {
     "data": {
      "text/plain": [
       "generate_P (generic function with 1 method)"
      ]
     },
     "execution_count": 2,
     "metadata": {},
     "output_type": "execute_result"
    }
   ],
   "source": [
    "function generate_P(q,Q)\n",
    "    \"\"\"\n",
    "    This function generate the transition matrix for the (q,Q) inventory. Demand is assumed to be P(D=d) = (1/2)^(d+1)\n",
    "    \"\"\"\n",
    "    P = zeros(Q+1,Q+1)\n",
    "    \n",
    "    for i=0:q\n",
    "        for j=1:Q\n",
    "            P[i+1,j+1] = (1/2)^(Q+1-j)\n",
    "        end\n",
    "    end\n",
    "    \n",
    "    for i=q+1:Q\n",
    "        for j=1:i\n",
    "            P[i+1,j+1] = (1/2)^(i+1-j)\n",
    "        end\n",
    "    end\n",
    "    \n",
    "    P[:,1] = 1 - sum(P,2)\n",
    "    \n",
    "    return P\n",
    "    \n",
    "end"
   ]
  },
  {
   "cell_type": "code",
   "execution_count": 3,
   "metadata": {
    "collapsed": false
   },
   "outputs": [
    {
     "data": {
      "text/plain": [
       "6-element Array{Float64,1}:\n",
       " 0.0625\n",
       " 0.0625\n",
       " 0.125 \n",
       " 0.25  \n",
       " 0.25  \n",
       " 0.25  "
      ]
     },
     "execution_count": 3,
     "metadata": {},
     "output_type": "execute_result"
    }
   ],
   "source": [
    "# Use QuantEcon to compute stationary distribution\n",
    "\n",
    "P = generate_P(2,5)\n",
    "mc = MarkovChain(P)\n",
    "stationary_dist = mc_compute_stationary(mc)"
   ]
  },
  {
   "cell_type": "markdown",
   "metadata": {},
   "source": [
    "### Exercise 5\n",
    "\n",
    "Compute the distationary distribution iteratively. This is easy since we already constructed the transition matrix. There only need to do the iteration."
   ]
  },
  {
   "cell_type": "code",
   "execution_count": 4,
   "metadata": {
    "collapsed": false
   },
   "outputs": [
    {
     "data": {
      "text/plain": [
       "6-element Array{Float64,1}:\n",
       " 0.0625002\n",
       " 0.0625002\n",
       " 0.125    \n",
       " 0.250001 \n",
       " 0.249994 \n",
       " 0.250004 "
      ]
     },
     "execution_count": 4,
     "metadata": {},
     "output_type": "execute_result"
    }
   ],
   "source": [
    "tol = 1e-4\n",
    "maxiter = 100\n",
    "P0 = copy(P)\n",
    "iter = 1\n",
    "dist = 1\n",
    "\n",
    "while dist > tol\n",
    "    P1 = P*P0\n",
    "    dist = norm(P1-P0,1)\n",
    "    P0 = copy(P1)\n",
    "    iter += 1\n",
    "end\n",
    "\n",
    "stationary_dist_iter = squeeze(P0[1,:],1)\n"
   ]
  },
  {
   "cell_type": "markdown",
   "metadata": {},
   "source": [
    "Note that in each component there is only a tiny difference:"
   ]
  },
  {
   "cell_type": "code",
   "execution_count": 5,
   "metadata": {
    "collapsed": false
   },
   "outputs": [
    {
     "data": {
      "text/plain": [
       "6-element Array{Float64,1}:\n",
       " -2.09344e-7\n",
       " -2.09344e-7\n",
       " -4.18688e-7\n",
       " -8.37375e-7\n",
       "  5.69853e-6\n",
       " -4.02378e-6"
      ]
     },
     "execution_count": 5,
     "metadata": {},
     "output_type": "execute_result"
    }
   ],
   "source": [
    "stationary_dist - stationary_dist_iter"
   ]
  },
  {
   "cell_type": "markdown",
   "metadata": {},
   "source": [
    "### Exercise 6"
   ]
  },
  {
   "cell_type": "code",
   "execution_count": 6,
   "metadata": {
    "collapsed": false
   },
   "outputs": [],
   "source": [
    "# compute stationary distributions\n",
    "qs = [2, 5, 10, 15]\n",
    "Q=20\n",
    "Dist = zeros(length(qs),Q+1)\n",
    "iter=1\n",
    "\n",
    "for q in qs\n",
    "    pq = generate_P(q,Q)\n",
    "    mc = MarkovChain(pq)\n",
    "    Dist[iter,:] = mc_compute_stationary(mc)\n",
    "    iter += 1\n",
    "end"
   ]
  },
  {
   "cell_type": "code",
   "execution_count": 7,
   "metadata": {
    "collapsed": false
   },
   "outputs": [
    {
     "data": {
      "image/png": "[encoded data removed]",
      "text/plain": [
       "PyPlot.Figure(PyObject <matplotlib.figure.Figure object at 0x324a8ed30>)"
      ]
     },
     "metadata": {},
     "output_type": "display_data"
    },
    {
     "data": {
      "text/plain": [
       "PyObject <matplotlib.legend.Legend object at 0x324ad4518>"
      ]
     },
     "execution_count": 7,
     "metadata": {},
     "output_type": "execute_result"
    }
   ],
   "source": [
    "# plot distributions\n",
    "using PyPlot\n",
    "\n",
    "iter=1\n",
    "x = collect(0:Q)\n",
    "fig, ax = subplots()\n",
    "for q in qs\n",
    "    y = squeeze(Dist[iter,:],1)\n",
    "    ax[:plot](x, y, label=\"q=$q\")\n",
    "    iter+=1\n",
    "end\n",
    "ax[:legend](loc=\"upper left\")"
   ]
  },
  {
   "cell_type": "markdown",
   "metadata": {
    "collapsed": true
   },
   "source": [
    "Every state above $q \\; \\text{i.e.} \\; x \\geq q+1$ has the same probability in the stationary distribution. The ones below have less likely to happen. This is because in the stationary distribution, conditioning on not restocking, all of the states (above x) are as likely as the others. In order to go below $q$, a high demand is needed. The higher the demand needed, the less likely is to occur, so in the stationary distribution the lower states are less likely."
   ]
  },
  {
   "cell_type": "code",
   "execution_count": null,
   "metadata": {
    "collapsed": true
   },
   "outputs": [],
   "source": []
  }
 ],
 "metadata": {
  "kernelspec": {
   "display_name": "Julia 0.4.3",
   "language": "julia",
   "name": "julia-0.4"
  },
  "language_info": {
   "file_extension": ".jl",
   "mimetype": "application/julia",
   "name": "julia",
   "version": "0.4.3"
  }
 },
 "nbformat": 4,
 "nbformat_minor": 0
}
