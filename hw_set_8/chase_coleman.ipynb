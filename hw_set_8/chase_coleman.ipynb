{
 "cells": [
  {
   "cell_type": "markdown",
   "metadata": {},
   "source": [
    "# Homework 8\n",
    "\n",
    "**Author**: Chase Coleman\n",
    "\n",
    "**NYU ID**: N10879183\n",
    "\n",
    "**Date**: 6 April 2016"
   ]
  },
  {
   "cell_type": "markdown",
   "metadata": {},
   "source": [
    "Place all of the following in a single Jupyter notebook with the usual naming convention `firstname_lastname.ipynb`. Remember that you can use $\\LaTeX$ expressions in the notebook. When you've finished your notebook, remember to restart the kernel (see the \"Kernel\" menu) and run again, just to check that everything runs with a fresh start. Also, go to the \"File\" menu and try to download your notebook as a PDF. If it doesn't work, some part of your notebook is broken (Probably a $\\LaTeX$ expression). This makes it harder for me to print out and assess your work. Please fix it."
   ]
  },
  {
   "cell_type": "code",
   "execution_count": 1,
   "metadata": {
    "collapsed": true
   },
   "outputs": [],
   "source": [
    "import matplotlib.pyplot as plt\n",
    "import numpy as np\n",
    "import quantecon as qe\n",
    "import scipy.stats as st\n",
    "import seaborn as sb\n",
    "\n",
    "from matplotlib import cm\n",
    "\n",
    "np.set_printoptions(suppress=True, precision=4)\n",
    "%matplotlib inline"
   ]
  },
  {
   "cell_type": "markdown",
   "metadata": {},
   "source": [
    "## Exercise 1"
   ]
  },
  {
   "cell_type": "markdown",
   "metadata": {},
   "source": [
    "### Question\n",
    "\n",
    "Let $S$ be a discrete set. Show that if $\\mathcal{P}(S)$ is compact as a subset of $(l_1(S), ||\\cdot||)$, then $S$ must be finite."
   ]
  },
  {
   "cell_type": "markdown",
   "metadata": {},
   "source": [
    "### Answer\n",
    "\n",
    "It can be shown that if $S$ is finite with $N$ elements then $\\mathcal{P}(S)$ is compact. Done through the weak-inequality and the fact that $\\mathcal{P}(S) \\subset [0, 1]^N$ then it is a bounded and closed subset of $\\mathcal{R}^N$ which implies compactness by Bolzano-Weierstrass.\n",
    "\n",
    "We can show that $\\mathcal{P}(S)$ is not compact for non-finite $S$. Assume by contradiction that $\\mathcal{P}(S)$ is compact for non-finite $S$. If $\\mathcal{P}(S)$ is compact in a metric space then we know (by that compactness and sequential compactness are equivalent on metric spaces) that every sequence $\\{x_n\\}$ in $\\mathcal{P}(S)$ has a convergent subsequence which converges to a point in $\\mathcal{P}(S)$. Now consider the following sequence, $\\{x_n\\}$ with\n",
    "\n",
    "\\begin{align*}\n",
    "  x_1 &= \\{1, 0, 0, 0, \\dots\\} \\\\\n",
    "  x_2 &= \\{1/2, 1/2, 0, 0, \\dots \\} \\\\\n",
    "  &\\dots \\\\\n",
    "  x_n &= \\{1/n, 1/n, \\dots, 1/n, 0, \\dots \\} \\\\\n",
    "  &\\dots\n",
    "\\end{align*}\n",
    "\n",
    "It can be shown that any subsequence of the specified sequence converges to $\\mathbb{0} = \\{0, 0, \\dots, 0, \\dots\\}$. However $\\mathbb{0} \\neq \\mathcal{P}(S)$ is a contradiction (the limit point is not in the set) and thus $\\mathcal{P}(S)$ is not compact as a subset of $(l_1(S), ||\\cdot||)$."
   ]
  },
  {
   "cell_type": "markdown",
   "metadata": {},
   "source": [
    "## Exercise 2"
   ]
  },
  {
   "cell_type": "markdown",
   "metadata": {},
   "source": [
    "### Question\n",
    "\n",
    "Consider the deterministic Markov chain $X_{t+1} = X_{t} + 1$ on $\\mathbb{Z}$. The corresponding stochastic kernel is $p(x, y) = \\mathbb{1}\\{x = y-1\\}$. Show that no stationary distribution exists."
   ]
  },
  {
   "cell_type": "markdown",
   "metadata": {},
   "source": [
    "### Answer\n",
    "\n",
    "Assume by contradiction that there exists a stationary distribution $\\phi^*$. By the definition of a stationary distribution, we can write:\n",
    "\n",
    "\\begin{align*}\n",
    "  \\phi^*(x) &= \\sum_{y \\in \\mathbb{Z}} p(y, x) \\phi^*(y) \\\\\n",
    "  &= \\sum_{y \\in \\mathbb{Z}} \\mathbb{1}(y=x-1) \\phi^*(y) \\\\\n",
    "  &= \\phi^*(x-1)\n",
    "\\end{align*}\n",
    "\n",
    "The only way this might be true was if we had a stationary distribution which assigned the same probability, $\\alpha > 0$ to all possible states. However, there is no $\\alpha > 0$ such that $\\sum_{\\mathbb{Z}} \\alpha = 1$. Thus no stationary distribution can exist."
   ]
  },
  {
   "cell_type": "markdown",
   "metadata": {},
   "source": [
    "## Precursor to Questions 3-6\n",
    "\n",
    "The next exercise relates to $(s, S)$ inventory dynamics. I'll use the symbols $(q, Q)$ because the symbol $S$ is already taken. Throughout, $q$ and $Q$ are integers with $0 \\leq q \\leq Q$.\n",
    "\n",
    "Consider a single firm with time $t$ inventory $X_t$. At the start of time $t$, if $X_t \\leq q$ then the firm orders $Q - X_t$. Otherwise it orders nothing. At the end of $t$, demand $D_{t+1}$ is observed, and the firm meets this demand up to (but not exceeding) its current stock level. Any remaining inventory is carried over to the next period. This gives the next period inventory $X_{t+1}$.\n",
    "\n",
    "Demand $\\{D_t\\}$ is assumed to be IID with\n",
    "$$\\mathbb{P}\\{D_t = d\\} = (1/2)^{d+1} \\quad \\forall d=0, 1, \\dots$$\n",
    "The associated stochastic kernel $p$ is defined (at least implicitly) by the expression\n",
    "$$p(x, y) = \\mathbb{P} \\{X_{t+1} = y | X_t = x\\}$$"
   ]
  },
  {
   "cell_type": "code",
   "execution_count": 2,
   "metadata": {
    "collapsed": false
   },
   "outputs": [],
   "source": [
    "def fill_transition_row(nstates, inv, f):\n",
    "    \"\"\"\n",
    "    Given a current value of inventory determine the\n",
    "    probability of transition to each other level of\n",
    "    inventory (have 0 probability of transition up)\n",
    "    \n",
    "    Parameters\n",
    "    ----------\n",
    "    nstates : scalar(int)\n",
    "        Number of possible states\n",
    "    inv : scalar(int)\n",
    "        The level of current inventory (after having\n",
    "        restocked)\n",
    "    f : scipy.stats.rv_discrete\n",
    "        The distribution which describes the i.i.d.\n",
    "        demand realizations\n",
    "        \n",
    "    Returns\n",
    "    -------\n",
    "    row : ArrayLike(float, ndim=1)\n",
    "        A single row of a transition matrix which\n",
    "        describes probability of moving from inv to\n",
    "        each of possible nstates\n",
    "    \"\"\"\n",
    "    # Allocate space\n",
    "    row = np.empty(nstates)\n",
    "    \n",
    "    # Probability of going to zero inventory is\n",
    "    # P(d>=inv) = 1 - P(d < inv) = 1 - cdf(inv-1)\n",
    "    row[0] = 1 - f.cdf(inv-1)\n",
    "    \n",
    "    # Other rows can be filled with pmf or 0\n",
    "    for xtp1 in range(1, nstates):\n",
    "        if xtp1 <= inv:\n",
    "            row[xtp1] = f.pmf(inv-xtp1)\n",
    "        else:\n",
    "            row[xtp1] = 0.0\n",
    "        \n",
    "    return row\n"
   ]
  },
  {
   "cell_type": "code",
   "execution_count": 3,
   "metadata": {
    "collapsed": false
   },
   "outputs": [],
   "source": [
    "def create_transition_matrix(q, Q, f):\n",
    "    \"\"\"\n",
    "    Creates the transition matrix for the (q, Q) problem described\n",
    "    above.\n",
    "    \n",
    "    If (X_{t} <= q) then the distribution over X_{t+1} is given\n",
    "    by X_{t+1} = max(0, Q - D_{t+1}) with the probability of\n",
    "    all non-zero X_{t+1} given by P(X_{t+1}=x) = P(Q-D_{t+1}=x)\n",
    "    and P(X_{t+1} = 0) given by P(D_{t+1} >= Q).\n",
    "    \n",
    "    If (X_{t} > q) then the distribution over X_{t+1} is given by\n",
    "    X_{t+1} = max(0, X_t - D_{t+1}) with the probability of all\n",
    "    non-zero X_{t+1} given by P(X_{t+1}=x) = P(X_t - D_{t+1}=x)\n",
    "    and P(X_{t+1}=0) given by P(D_{t+1} >= X_t\n",
    "    \n",
    "    Parameters\n",
    "    ----------\n",
    "    q : scalar(int)\n",
    "        The level at which I restock my inventory\n",
    "    Q : scalar(int)\n",
    "        The amount of inventory I restock to\n",
    "    f : scipy.stats.rv_discrete\n",
    "        The distribution which describes the realizations of\n",
    "        D_{t+1}.\n",
    "        \n",
    "    Returns\n",
    "    -------\n",
    "    Px : ArrayLike(float, ndim=2)\n",
    "        The transition matrix which describes the moves\n",
    "        between integer states from [0, 1, ..., Q]\n",
    "    \"\"\"\n",
    "    # Make sure q and Q are integers\n",
    "    q, Q = map(int, [q, Q])\n",
    "    \n",
    "    # Number of possible states is Q+1 and allocate space\n",
    "    nstates = Q+1\n",
    "    Px = np.empty((nstates, nstates))\n",
    "    \n",
    "    # Fill the transition matrix\n",
    "    for xt in range(Q+1):\n",
    "        # Check whether we fill inventory or not\n",
    "        if xt <= q:\n",
    "            inv = Q\n",
    "        else:\n",
    "            inv = xt\n",
    "        \n",
    "        # Fill one row at a time using a different function\n",
    "        Px[xt, :] = fill_transition_row(nstates, inv, f)\n",
    "    \n",
    "    return Px\n"
   ]
  },
  {
   "cell_type": "markdown",
   "metadata": {},
   "source": [
    "## Exercise 3"
   ]
  },
  {
   "cell_type": "markdown",
   "metadata": {},
   "source": [
    "### Question\n",
    "\n",
    "Argue that this stochastic kernel is globally stable for every $q$ and $Q$. (It's fine if you can come up with a reasonable probabilistic argument that doesn't necessarily involve a lot of calculations)."
   ]
  },
  {
   "cell_type": "markdown",
   "metadata": {},
   "source": [
    "### Answer\n",
    "\n",
    "One way to argue that this stochastic kernel is globally stable is the following. Notice that for any $X_t \\in [0, 1, \\dots, Q]$ that $p(X_t, y) > 0$ for $y \\leq q$. In particular, note $p(X_t, 0) > 0$ which means that $X_{t+1} = Q - D_{t+1}$. Note for any $x \\in [0, 1, \\dots, Q]$ that $p(Q - D_{t+1} = x) > 0$. Then we know $p^2(x, y) > 0$ for any $x \\in [0, 1, \\dots, Q]$. This means that for the matrix $P_x$ which corresponds to our stochastic kernel $p$ that $P^2 > 0$. This implies both irreducibility (can transition from any state to another) and aperiodicity (the diagonal is positive). Since $S$ is finite and $P$ is both aperiodic and irreducible then $P$ is globablly stable.\n"
   ]
  },
  {
   "cell_type": "markdown",
   "metadata": {},
   "source": [
    "## Exercise 4"
   ]
  },
  {
   "cell_type": "markdown",
   "metadata": {},
   "source": [
    "### Question\n",
    "\n",
    "Let $\\phi^*$ be the stationary distribution corresponding to given $(q, Q)$. Using `quantecon`'s `MarkovChain` class, compute the stationary distribution when $q = 2$ and $Q = 5$. You should get\n",
    "$$ \\phi^*_{2, 5} = (0.0625, 0.0625, 0.125, 0.25, 0.25, 0.25)$$\n",
    "(By now hopefully you know that you should write a function that does most of the work)"
   ]
  },
  {
   "cell_type": "markdown",
   "metadata": {},
   "source": [
    "### Answer\n",
    "\n",
    "We create our transition matrix using the functions we have previously defined and then pass it to the `QuantEcon.MarkovChain` class. This class computes the stationary distribution for us."
   ]
  },
  {
   "cell_type": "code",
   "execution_count": 4,
   "metadata": {
    "collapsed": true
   },
   "outputs": [],
   "source": [
    "def stationary_distribution_QE(q, Q, f):\n",
    "    \"\"\"\n",
    "    Given the parameters for the (q, Q) model this function computes\n",
    "    the stationary distribution across the states [0, ..., Q]\n",
    "    \n",
    "    Parameters\n",
    "    ----------\n",
    "    q : scalar(int)\n",
    "        The level at which I restock my inventory\n",
    "    Q : scalar(int)\n",
    "        The amount of inventory I restock to\n",
    "    f : scipy.stats.rv_discrete\n",
    "        The distribution which describes the realizations of\n",
    "        D_{t+1}.\n",
    "        \n",
    "    Returns\n",
    "    -------\n",
    "    psi : ArrayLike(float, ndim=1)\n",
    "        The stationary distribution over states [0, ..., Q]\n",
    "    \"\"\"\n",
    "    # Create the transition matrix\n",
    "    Px = create_transition_matrix(q, Q, f)\n",
    "    \n",
    "    # Use QuantEcon to compute the stationary distribution\n",
    "    mc_Px = qe.MarkovChain(Px)\n",
    "    psi = mc_Px.stationary_distributions[0, :]\n",
    "    \n",
    "    return psi"
   ]
  },
  {
   "cell_type": "code",
   "execution_count": 5,
   "metadata": {
    "collapsed": false
   },
   "outputs": [],
   "source": [
    "q, Q = 2, 5\n",
    "f = st.geom(0.5, loc=-1)\n",
    "\n",
    "Px = create_transition_matrix(q, Q, f)\n",
    "psi_qe = stationary_distribution_QE(q, Q, f)"
   ]
  },
  {
   "cell_type": "code",
   "execution_count": 6,
   "metadata": {
    "collapsed": false
   },
   "outputs": [
    {
     "name": "stdout",
     "output_type": "stream",
     "text": [
      "The transition matrix created by our function is\n",
      "[[ 0.0312  0.0312  0.0625  0.125   0.25    0.5   ]\n",
      " [ 0.0312  0.0312  0.0625  0.125   0.25    0.5   ]\n",
      " [ 0.0312  0.0312  0.0625  0.125   0.25    0.5   ]\n",
      " [ 0.125   0.125   0.25    0.5     0.      0.    ]\n",
      " [ 0.0625  0.0625  0.125   0.25    0.5     0.    ]\n",
      " [ 0.0312  0.0312  0.0625  0.125   0.25    0.5   ]]\n"
     ]
    }
   ],
   "source": [
    "print(\"The transition matrix created by our function is\")\n",
    "print(Px)"
   ]
  },
  {
   "cell_type": "code",
   "execution_count": 7,
   "metadata": {
    "collapsed": false
   },
   "outputs": [
    {
     "name": "stdout",
     "output_type": "stream",
     "text": [
      "The stationary distribution calculated by QuantEcon is\n",
      "[ 0.0625  0.0625  0.125   0.25    0.25    0.25  ]\n"
     ]
    }
   ],
   "source": [
    "print(\"The stationary distribution calculated by QuantEcon is\")\n",
    "print(psi_qe)"
   ]
  },
  {
   "cell_type": "markdown",
   "metadata": {},
   "source": [
    "Notice that the reported stationary distribution is as expected."
   ]
  },
  {
   "cell_type": "markdown",
   "metadata": {},
   "source": [
    "## Exercise 5"
   ]
  },
  {
   "cell_type": "markdown",
   "metadata": {},
   "source": [
    "### Question\n",
    "\n",
    "Now compute the stationary distribution iteratively, using the ideas from the lecture. Terminate when successive iterates are closer together than some tolerance in the sense of $l_1$ distance. Compare your result with the result from the previous exercise."
   ]
  },
  {
   "cell_type": "markdown",
   "metadata": {},
   "source": [
    "### Answer\n",
    "\n",
    "A mapping $T: M \\rightarrow M$ on a metric space $(M, \\rho)$ is called globally stable if\n",
    "\n",
    "1. $T$ has a unique fixed point $x^* \\in M$\n",
    "2. $T^i x \\rightarrow x^*$ as $i \\rightarrow \\infty$ for any $x \\in M$.\n",
    "\n",
    "In this case our metric space is given by $(\\mathcal{P}(S), ||\\cdot||_1)$. The mapping is provided by our Markov matrix $P_x$ and it is easy to show that $P_x$ maps from $\\mathcal{P}(S)$ to $\\mathcal{P}(S)$. We previously argued that $P_x$ was globablly stable, so we should be able to find our stationary distribution by computing $x P_x^i$ as $i \\rightarrow \\infty$ for any $x \\in \\mathcal{P}(S)$."
   ]
  },
  {
   "cell_type": "code",
   "execution_count": 8,
   "metadata": {
    "collapsed": true
   },
   "outputs": [],
   "source": [
    "def stationary_distribution_iterative(q, Q, f, tol=1e-8, maxit=500):\n",
    "    \"\"\"\n",
    "    Given the parameters for the (q, Q) model this function computes\n",
    "    the stationary distribution across the states [0, ..., Q]\n",
    "    \n",
    "    Parameters\n",
    "    ----------\n",
    "    q : scalar(int)\n",
    "        The level at which I restock my inventory\n",
    "    Q : scalar(int)\n",
    "        The amount of inventory I restock to\n",
    "    f : scipy.stats.rv_discrete\n",
    "        The distribution which describes the realizations of\n",
    "        D_{t+1}.\n",
    "    tol : scalar(float)\n",
    "        Tolerance level under l1 norm\n",
    "    maxit : scalar(int)\n",
    "        Maximum number of iterations\n",
    "        \n",
    "    Returns\n",
    "    -------\n",
    "    psi : ArrayLike(float, ndim=1)\n",
    "        The stationary distribution over states [0, ..., Q]\n",
    "    \"\"\"\n",
    "    # Iteration parameters\n",
    "    dist, it = 10, 0\n",
    "    \n",
    "    # Create transition matrix and initial dist\n",
    "    Px = create_transition_matrix(q, Q, f)\n",
    "    x0 = np.ones(Q+1) / (Q+1)\n",
    "    \n",
    "    # Iterate\n",
    "    while (dist > tol) and (it < maxit):\n",
    "        # One step\n",
    "        xupd = x0 @ Px\n",
    "        \n",
    "        # Update distance and distribution\n",
    "        dist = np.sum(np.abs(xupd - x0))\n",
    "        x0[:] = xupd[:]\n",
    "        \n",
    "    return x0\n"
   ]
  },
  {
   "cell_type": "code",
   "execution_count": 9,
   "metadata": {
    "collapsed": false
   },
   "outputs": [
    {
     "name": "stdout",
     "output_type": "stream",
     "text": [
      "The stationary distribution computed iteratively is\n",
      "[ 0.0625  0.0625  0.125   0.25    0.25    0.25  ]\n"
     ]
    }
   ],
   "source": [
    "q, Q = 2, 5\n",
    "f = st.geom(0.5, loc=-1)\n",
    "\n",
    "psi_it = stationary_distribution_iterative(q, Q, f)\n",
    "\n",
    "print(\"The stationary distribution computed iteratively is\")\n",
    "print(psi_it)"
   ]
  },
  {
   "cell_type": "markdown",
   "metadata": {},
   "source": [
    "Notice that we arrived at the same conclusion iteratively as we did using the `QuantEcon.MarkovChain` routines."
   ]
  },
  {
   "cell_type": "markdown",
   "metadata": {},
   "source": [
    "## Exercise 6"
   ]
  },
  {
   "cell_type": "markdown",
   "metadata": {},
   "source": [
    "### Question\n",
    "\n",
    "Finally, set $Q = 20$ and plot the stationary distribution for $q = 2, 5, 10, 15$. Give some interpretation for what you see."
   ]
  },
  {
   "cell_type": "markdown",
   "metadata": {},
   "source": [
    "### Answer"
   ]
  },
  {
   "cell_type": "code",
   "execution_count": 10,
   "metadata": {
    "collapsed": false
   },
   "outputs": [],
   "source": [
    "def compute_stationary_distributions_qs(qs, Q, f):\n",
    "    \"\"\"\n",
    "    Given the parameters for the (q, Q) model this function computes\n",
    "    the stationary distribution across the states [0, ..., Q]\n",
    "    \n",
    "    Parameters\n",
    "    ----------\n",
    "    qs : ArrayLike(int, ndim=1)\n",
    "        An array of levels at which I restock my inventory -- We\n",
    "        will compute the stationary distribution for each one\n",
    "    Q : scalar(int)\n",
    "        The amount of inventory I restock to\n",
    "    f : scipy.stats.rv_discrete\n",
    "        The distribution which describes the realizations of\n",
    "        D_{t+1}.\n",
    "        \n",
    "    Returns\n",
    "    -------\n",
    "    psi : ArrayLike(float, ndim=1)\n",
    "        The stationary distribution over states [0, ..., Q]\n",
    "    \"\"\"\n",
    "    # Allocate space for stationary distributions\n",
    "    nqs = qs.size\n",
    "    nstates = Q+1\n",
    "    psi_qs = np.empty((nqs, nstates))\n",
    "    \n",
    "    # Iterate over q values\n",
    "    for (iq, q) in enumerate(qs):\n",
    "        psi = stationary_distribution_QE(q, Q, f)\n",
    "        psi_qs[iq, :] = psi\n",
    "    \n",
    "    return psi_qs"
   ]
  },
  {
   "cell_type": "code",
   "execution_count": 11,
   "metadata": {
    "collapsed": false
   },
   "outputs": [],
   "source": [
    "qs = np.array([0, 2, 5, 10, 15], dtype=int)\n",
    "Q = 20\n",
    "f = st.geom(0.5, loc=-1)\n",
    "\n",
    "psis = compute_stationary_distributions_qs(qs, Q, f)"
   ]
  },
  {
   "cell_type": "code",
   "execution_count": 12,
   "metadata": {
    "collapsed": false
   },
   "outputs": [
    {
     "data": {
      "text/plain": [
       "<matplotlib.legend.Legend at 0x7f14e8305f28>"
      ]
     },
     "execution_count": 12,
     "metadata": {},
     "output_type": "execute_result"
    },
    {
     "data": {
      "image/png": "[encoded data removed]",
      "text/plain": [
       "<matplotlib.figure.Figure at 0x7f14ea6baba8>"
      ]
     },
     "metadata": {},
     "output_type": "display_data"
    }
   ],
   "source": [
    "fig, ax = plt.subplots(1, 2, figsize=(10, 8))\n",
    "c = [cm.plasma(i) for i in np.linspace(0, 0.8, qs.size)]\n",
    "\n",
    "states = np.arange(Q+1)\n",
    "for (iq, q) in enumerate(qs):\n",
    "    # Probability Mass Function\n",
    "    ax[0].set_title(r\"Probability Mass Function for $\\psi^*_x(q)$\")\n",
    "    ax[0].scatter(states, psis[iq, :], label=q, color=c[iq], s=40)\n",
    "    ax[0].set_xlim(-1, 21)\n",
    "    \n",
    "    # Cumulative Mass Function\n",
    "    ax[1].set_title(r\"Cumulative Mass Function for $\\psi^*_x(q)$\")\n",
    "    ax[1].scatter(states, np.cumsum(psis[iq, :]), label=q, color=c[iq],\n",
    "                  s=40)\n",
    "    ax[1].set_xlim(-1, 21)\n",
    "\n",
    "ax[0].legend(loc=2)\n",
    "ax[1].legend(loc=2)"
   ]
  },
  {
   "cell_type": "markdown",
   "metadata": {},
   "source": [
    "We can notice several points from the above two graphs:\n",
    "\n",
    "* When we have a higher value of $q$, we are more likely to reset. This leads us to spend more time at very extreme values which we can see from the fact that as $q$ increases, the probability of being at values near $Q$ increases. In particular, for $q_1 > q_2$ we see that $p_1(q_1) > p_2(q_1)$.\n",
    "* When we have low values of $q$ we reset much less frequently. This leads to the probability distribution being closer to uniform. In fact, if $q$ is equal to 0 then the stationary distribution is uniform (can I show this?)."
   ]
  },
  {
   "cell_type": "markdown",
   "metadata": {},
   "source": [
    "## Tests for code above\n",
    "\n",
    "While I was writing the code for this lecture I wrote a few short tests to make sure the code was doing what I expected it to."
   ]
  },
  {
   "cell_type": "code",
   "execution_count": 13,
   "metadata": {
    "collapsed": false
   },
   "outputs": [
    {
     "name": "stdout",
     "output_type": "stream",
     "text": [
      "Beginning tests of `fill_transition_row`\n",
      "Passed tests of `fill_transition_row`\n",
      "\n",
      "\n",
      "Beginning tests of `create_transition_matrix`\n",
      "Passed tests of `create_transition_matrix`\n",
      "\n",
      "\n"
     ]
    }
   ],
   "source": [
    "# Short test to check whether all transition matrices have\n",
    "# rows that sum to 1\n",
    "q, Q = 5, 10\n",
    "f = st.geom(0.5, loc=-1)\n",
    "\n",
    "print(\"Beginning tests of `fill_transition_row`\")\n",
    "for i in range(Q+1):\n",
    "    r = fill_transition_row(Q+1, i, f)\n",
    "    assert(abs(r.sum() - 1) < 1e-14)\n",
    "print(\"Passed tests of `fill_transition_row`\\n\\n\")\n",
    "\n",
    "print(\"Beginning tests of `create_transition_matrix`\")\n",
    "assert(np.all(create_transition_matrix(10, 10, f) > 0))\n",
    "print(\"Passed tests of `create_transition_matrix`\\n\\n\")"
   ]
  },
  {
   "cell_type": "code",
   "execution_count": null,
   "metadata": {
    "collapsed": true
   },
   "outputs": [],
   "source": []
  }
 ],
 "metadata": {
  "kernelspec": {
   "display_name": "Python 3",
   "language": "python",
   "name": "python3"
  },
  "language_info": {
   "codemirror_mode": {
    "name": "ipython",
    "version": 3
   },
   "file_extension": ".py",
   "mimetype": "text/x-python",
   "name": "python",
   "nbconvert_exporter": "python",
   "pygments_lexer": "ipython3",
   "version": "3.5.1"
  }
 },
 "nbformat": 4,
 "nbformat_minor": 0
}
