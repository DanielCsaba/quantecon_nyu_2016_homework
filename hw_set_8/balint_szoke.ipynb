{
 "cells": [
  {
   "cell_type": "markdown",
   "metadata": {},
   "source": [
    "------------------------------------------------------------------\n",
    "# Homework set 8 - solution\n",
    "\n",
    "**Author**: Balint Szoke\n",
    "\n",
    "**UniID**: bs2574\n",
    "\n",
    "-------------------------------------------------------------------\n"
   ]
  },
  {
   "cell_type": "markdown",
   "metadata": {},
   "source": [
    "# Exercise 1\n",
    "\n",
    "**CLAIM:** Let $S$ be a discrete set. If $\\mathcal{P}(S) = \\{\\phi\\in l_1^{+}(S) : \\|\\phi\\| = 1 \\}$ is a compact subset of $(l_1(S), \\| \\cdot \\| )$, then $S$ must be finite. \n",
    "\n",
    "*Proof: (contrapositive)* \n",
    "\n",
    "Suppose that the cardinality of $S$ is $|S| = |\\mathbb{N}|$ and consider the following open cover of $\\mathcal{P}(S)$:\n",
    "\n",
    "\\begin{align}\n",
    "\\mathcal{C} \\equiv \\left\\{ B_{2}(\\delta_x) : x\\in S\\right\\}\\quad \\text{where}\\quad B_{\\epsilon}(\\delta_x) = \\{h \\in l_1(S) : \\|h- \\delta_x \\|_1 < \\epsilon\\}\\quad \\forall \\epsilon >0\n",
    "\\end{align}\n",
    "\n",
    "Clearly, $\\forall \\phi \\in \\mathcal{P}(S)$ and $\\forall x\\in S$, we have $\\|\\phi - \\delta_x\\|_1 = 2(1-\\phi(x))$ for all $x\\in S$. Moreover, since for all $\\phi$, $\\exists \\bar{x}\\in S$ such that $\\phi(\\bar{x}) > 0$, we have $\\phi\\in B_2(\\delta_{\\bar{x}})$, thus $\\mathcal{C}$ is indeed an open cover of $\\mathcal{P}(S)$. \n",
    "\n",
    "If the set $\\mathcal{P}(S)$ is compact, we should be able to find a finite subcover of $\\mathcal{C}$. Since $S$ is countably infinite, this is impossible: taking any ball, say that with the center $\\delta_y$, out of $\\mathcal{C}$ would imply that $\\delta_y\\in\\mathcal{P}(S)$ is not in $\\bigcup \\mathcal{C}\\setminus B_2(\\delta_y)$. This is due to the fact that $\\|\\delta_x - \\delta_z\\| = 2$, whenever $x\\neq z$. In other words, we found an open cover $\\mathcal{C}$ of $\\mathcal{P}(S)$, which does not have a finite subcover implying that $\\mathcal{P}(S)$ cannot be a compact subset of $(l_1(S), \\| \\cdot \\| )$.  "
   ]
  },
  {
   "cell_type": "markdown",
   "metadata": {},
   "source": [
    "---------------------------------------\n",
    "# Exercise 2\n",
    "\n",
    "**CLAIM:** The following deterministic Markov chain has no stationary distribution: $X_{t+1} = X_t + 1$ on $S = \\mathbb{Z}$. \n",
    "\n",
    "*Proof:* \n",
    "\n",
    "Take any candidate distribution $\\pi \\in \\mathcal{P}(S)$ and an arbitrary $x\\in S$ and use the stochastic kernel to derive the one-step ahead marginal density \n",
    "\n",
    "\\begin{align}\n",
    "\\pi'(y) = \\sum_{x \\in S} \\pi(x) p(x, y)= \\sum_{x \\in S} \\pi(x) \\mathbb{1}\\{ y = x -1\\} = \\pi(y-1)\\quad \\forall y\\in S\n",
    "\\end{align}\n",
    "\n",
    "Suppose that $\\pi$ is the stationary distribution of the Markov Chain (i.e. $\\pi'=\\pi$). Then the above implies that $\\pi(y)=\\pi(y-1)$, for all $y\\in S$, hence $\\sum_{y\\in S} \\pi(y)$ is either $\\infty$ or $0$, which is a contradiction to $\\sum_{y\\in S} \\pi(y) = 1$.  "
   ]
  },
  {
   "cell_type": "markdown",
   "metadata": {},
   "source": [
    "----------------------------------------------\n",
    "# Exercise 3\n",
    "\n",
    "For given $q, Q \\in \\mathbb{Z}$, s.t. $0\\leq q \\leq Q$, the $(s,S)$-strategy gives rise to the following transition equation of $X_t$ (inventory level at the start of period $t$)\n",
    "\n",
    "\\begin{align}\n",
    "X_{t+1} = \\max\\{ Q\\mathbb{I}\\{X_t \\leq q\\} + X_t\\mathbb{I}\\{X_t > q\\}  - D_{t+1}, 0\\}\n",
    "\\end{align}\n",
    "\n",
    "where $D_{t+1}$ follows an iid distribution with $\\mathbb{P}\\{D_{t+1} = d\\} = \\left(\\frac12\\right)^{d+1}$ for $d = 0,1,2,\\dots$. From this law of motion, one can see that $X_t$ must come from the finite set $S = \\mathbb{Z}\\cap[0,Q]$ provided that $X_0\\in S$. (see the remark below)\n",
    "\n",
    "Notice that the stochastic kernel has the following property\n",
    "\n",
    "\\begin{align}\n",
    "p(x,y)=0 \\quad \\text{iff}\\quad [(x > q) \\wedge (y > x)]\n",
    "\\end{align}\n",
    "\n",
    "This implies that $\\forall (x,y)\\in S\\times S$, we have\n",
    "\n",
    "\\begin{align}\n",
    "p^2(x,y) = \\sum_{z \\in S} p(x,z)p(z,y) > 0 \n",
    "\\end{align}\n",
    "\n",
    "because for $z=0$, both $p(x,z)$ and $p(z,y)$ are strictly positive irrepective of $x,y\\in S$. Due to the finiteness of $S$, this property suffices for the global stability of $p^2$ implying global stability of $p$.\n",
    "\n",
    "\n",
    "> **Remark:** The assumption that $X_0\\in S$ is without loss of generality in the following sense. If $X_0 > Q$, although the (finite) stochastic kernel is not irreducible any more, there is a **unique** ergodic set $\\mathbb{Z}\\cap[0,Q]$. This follows from the infinite support of $D_t$: due to this fact, there is a state, namely $y=0$, such that $\\forall x\\in \\mathbb{Z}\\cap[0,X_0]$, $p(x,y)>0$. Using standard arguments (see e.g. Theorem 11.2 in Stokey and Lucas (1989)), this implies that $p$ has a unique ergodic set and a globally stable stationary distribution.   \n",
    "\n"
   ]
  },
  {
   "cell_type": "markdown",
   "metadata": {},
   "source": [
    "--------------------------------------------\n",
    "# Exercise 4"
   ]
  },
  {
   "cell_type": "code",
   "execution_count": 1,
   "metadata": {
    "collapsed": true
   },
   "outputs": [],
   "source": [
    "%matplotlib inline\n",
    "import numpy as np\n",
    "import quantecon as qe\n",
    "import matplotlib.pyplot as plt\n",
    "import seaborn as sb"
   ]
  },
  {
   "cell_type": "markdown",
   "metadata": {},
   "source": [
    "The stochastic kernel is a $(Q+1) \\times (Q+1)$ matrix. Notice that the rows $p(x, \\cdot)$ can be written as\n",
    "\n",
    " - when $q \\geq x$, we have $p(x, \\cdot) = \\left[ 1 - \\sum_{i = 1}^{Q} \\left(\\frac12\\right)^{i}, \\left(\\frac12\\right)^{Q}, \\dots, \\frac12\\right]$\n",
    "\n",
    " - when $q < x \\leq Q$, we have  $p(x, \\cdot) = \\left[1 - \\sum_{i = 1}^{x} \\left(\\frac12\\right)^{i}, \\left(\\frac12\\right)^{x}, \\dots, \\frac12, 0, \\dots, 0\\right]$"
   ]
  },
  {
   "cell_type": "code",
   "execution_count": 2,
   "metadata": {
    "collapsed": true
   },
   "outputs": [],
   "source": [
    "def stoch_kernel(q, Q):\n",
    "    \"\"\"\n",
    "    This function calculates the stochastic kernel for X_t associated with \n",
    "    a particular pair (q,Q). \n",
    "    \n",
    "    \"\"\"\n",
    "    \n",
    "    if q > Q or q < 0:\n",
    "        raise ValueError(\"The following condition must hold: 0 <= q <= Q.\")\n",
    "    \n",
    "    N = int(Q) + 1\n",
    "    p = np.zeros((N, N))\n",
    "    \n",
    "    #first q rows:\n",
    "    first_q_rows = (.5)**np.arange(N, 0, -1).reshape(1, N)\n",
    "    first_q_rows[0, 0] += 1 - first_q_rows.sum()              # residual prob  \n",
    "    p[range(q + 1), :] = np.ones((q + 1, 1)) @ first_q_rows \n",
    "\n",
    "    #rows with x > q:\n",
    "    for j in range(q + 1, Q + 1):\n",
    "        row_j = (.5)**np.arange(j + 1, 0, -1)\n",
    "        row_j[0] += 1 - row_j.sum()                           # residual prob\n",
    "        p[j, :(j+1)] = row_j\n",
    "    \n",
    "    return p"
   ]
  },
  {
   "cell_type": "code",
   "execution_count": 3,
   "metadata": {
    "collapsed": false
   },
   "outputs": [
    {
     "name": "stdout",
     "output_type": "stream",
     "text": [
      "Stationary distribution corresponding to q = 2 and Q = 5 (using QuantEcon)\n",
      "[[ 0.0625  0.0625  0.125   0.25    0.25    0.25  ]]\n"
     ]
    }
   ],
   "source": [
    "MC = qe.MarkovChain(stoch_kernel(2, 5))\n",
    "psi_star = MC.stationary_distributions\n",
    "\n",
    "print('Stationary distribution corresponding to q = 2 and Q = 5 (using QuantEcon)')\n",
    "print(psi_star)"
   ]
  },
  {
   "cell_type": "markdown",
   "metadata": {},
   "source": [
    "---------------------------------\n",
    "# Exercise 5\n",
    "\n",
    "Every stochastic kernel $p$ on $S$ is associated with a Markov operator $M$ on $S$. Since the particular $p$ that we analysed in the previous exercise is globally stable, successive applications of $M$ on any initial distribution $\\psi_0$ should lead to the unique stationary distribution.  "
   ]
  },
  {
   "cell_type": "code",
   "execution_count": 4,
   "metadata": {
    "collapsed": true
   },
   "outputs": [],
   "source": [
    "def stat_distribution(q, Q, tol = 1e-8):\n",
    "    \"\"\"\n",
    "    This function finds the stationary distribution corresponding to (q,Q), using \n",
    "    successive iteartions of the Markov operator associated with the stochastic kernel\n",
    "    \"\"\"\n",
    "    \n",
    "    N = int(Q) + 1\n",
    "    P = stoch_kernel(q, Q)    # define the markov operator\n",
    "\n",
    "    psi_0 = np.ones((1, N)) * (1/N)\n",
    "    diff_norm1 = 1.0\n",
    "    \n",
    "    while diff_norm1 > tol:\n",
    "        psi_1 = psi_0 @ P \n",
    "        diff_norm1 = abs(psi_1 - psi_0).sum()\n",
    "        psi_0 = psi_1\n",
    "    \n",
    "    return psi_1"
   ]
  },
  {
   "cell_type": "code",
   "execution_count": 5,
   "metadata": {
    "collapsed": false
   },
   "outputs": [
    {
     "name": "stdout",
     "output_type": "stream",
     "text": [
      "Stationary distribution corresponding to q = 2 and Q = 5 (iterative algorithm)\n",
      "[[ 0.0625  0.0625  0.125   0.25    0.25    0.25  ]]\n"
     ]
    }
   ],
   "source": [
    "psi_star_iter = stat_distribution(2, 5)\n",
    "\n",
    "print('Stationary distribution corresponding to q = 2 and Q = 5 (iterative algorithm)')\n",
    "print(psi_star_iter)"
   ]
  },
  {
   "cell_type": "markdown",
   "metadata": {},
   "source": [
    "Clearly, this is the same as we found above."
   ]
  },
  {
   "cell_type": "markdown",
   "metadata": {},
   "source": [
    "-----------------------------------------\n",
    "# Exercise 6\n",
    "\n",
    "Fix $Q=20$ and plot the stationary distributions for different levels of $q$."
   ]
  },
  {
   "cell_type": "code",
   "execution_count": 6,
   "metadata": {
    "collapsed": false
   },
   "outputs": [
    {
     "data": {
      "text/plain": [
       "<matplotlib.legend.Legend at 0x7f2e0d65a7f0>"
      ]
     },
     "execution_count": 6,
     "metadata": {},
     "output_type": "execute_result"
    },
    {
     "data": {
      "image/png": "[encoded data removed]",
      "text/plain": [
       "<matplotlib.figure.Figure at 0x7f2e0dacee80>"
      ]
     },
     "metadata": {},
     "output_type": "display_data"
    }
   ],
   "source": [
    "Q = 20\n",
    "q_grid = [2, 5, 10, 15]\n",
    "x_grid = np.arange(Q + 1)\n",
    "cols = [sb.xkcd_rgb[\"amber\"], sb.xkcd_rgb[\"faded green\"], \n",
    "        sb.xkcd_rgb[\"pale red\"], sb.xkcd_rgb[\"windows blue\"]]\n",
    "\n",
    "shift, width = .1, .6   # degree of overlaps, width of the bars\n",
    "\n",
    "fig, ax = plt.subplots(figsize = (15, 7))\n",
    "ax.set_title('Stationary distribution of inventory for different $q$, when Q = {:d}\\\n",
    "'.format(Q), fontsize = 20)\n",
    "ax.set_xticks(x_grid + .4)\n",
    "ax.set_xticklabels(x_grid)\n",
    "ax.set_xlabel('X', fontsize = 14)\n",
    "ax.set_ylabel('prob', fontsize = 14)\n",
    "\n",
    "for i, q in enumerate(q_grid):\n",
    "    dist_q = qe.MarkovChain(stoch_kernel(q, Q)).stationary_distributions.squeeze() \n",
    "    ax.bar(x_grid + shift*i, dist_q, width, label = 'q = {:d}'.format(q), color = cols[i])\n",
    "\n",
    "ax.legend(loc = 2, fontsize = 15)"
   ]
  },
  {
   "cell_type": "markdown",
   "metadata": {},
   "source": [
    "**Interpretation:**\n",
    "\n",
    "Increasing the lower threshold makes the stationary distribution more concentrated around $Q$. This is a simple cosequence of the fact that the demand shock is independent of the states, so the lower the difference $Q-q$, the more likely that the firm refills its inventory and starts next period with $X$ close to $Q$. Using the \"LLN interpretation\" (which is valid given global stability), the higher the lower threshold, the more time the firm spends around $Q$.    "
   ]
  }
 ],
 "metadata": {
  "kernelspec": {
   "display_name": "Python 3",
   "language": "python",
   "name": "python3"
  },
  "language_info": {
   "codemirror_mode": {
    "name": "ipython",
    "version": 3
   },
   "file_extension": ".py",
   "mimetype": "text/x-python",
   "name": "python",
   "nbconvert_exporter": "python",
   "pygments_lexer": "ipython3",
   "version": "3.5.1"
  }
 },
 "nbformat": 4,
 "nbformat_minor": 0
}
