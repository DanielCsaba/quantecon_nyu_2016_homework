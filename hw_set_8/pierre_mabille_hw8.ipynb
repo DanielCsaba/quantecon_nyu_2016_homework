{
 "cells": [
  {
   "cell_type": "markdown",
   "metadata": {},
   "source": [
    "# Homework set 8 Comp Econ\n",
    "## Markov chains (in Julia)\n",
    "\n",
    "**Author** Pierre Mabille \n",
    "\n",
    "**NYU ID** N10017621 \n",
    "\n",
    "**Date** April 7, 2016 "
   ]
  },
  {
   "cell_type": "markdown",
   "metadata": {},
   "source": [
    "### Exercise 1\n",
    "\n",
    "I prove by contradiction the proposition that if $S$ is a discrete set, and $\\mathcal{P}(S) \\subset (l_1(S),||.||)$ is compact, then $S$ must be finite. \n",
    "\n",
    "Suppose that $S$ is discrete but not finite. i.e. countably infinite, and that $\\mathcal{P}(S) \\subset (l_1(S),||.||)$ is compact. I find a counterexample to prove that these properties cannot be true at the same time, which is the proposition we want to prove. \n",
    "\n",
    "Consider the sequence of functions $\\left\\lbrace g_n \\right\\rbrace_{n=0}^\\infty$ from $S=\\mathbb{N}$ (it could be any countably infinite set) to $\\left\\lbrace 0,1\\right\\rbrace,$ defined by $g_n(m)=1$ if $m=n$, and $0$ otherwise (probability distributions with discrete support and mass points). \n",
    "\n",
    "Note that $\\left\\lbrace g_n \\right\\rbrace_{n=0}^\\infty \\subset \\mathcal{P}(S)$, because $\\forall n \\in \\mathcal{N}$, $g_n(m) \\geq 0$ $\\forall m \\in \\mathcal{N}$, and $\\sum_{m\\geq 0} g_n(m)=1$ $\\forall n\\in \\mathbb{N}$.\n",
    "\n",
    "Now, we have $||g_{n}-g_{n'}|| = \\sum_{m \\geq 0} |g_{n}(m)-g_{n'}(m)|=2$ $\\forall n,n' \\in \\mathbb{N}$. So there never exists a convergent subsequence of $\\left\\lbrace g_n \\right\\rbrace_{n=0}^\\infty$ in $\\mathcal{P}(S)$. So $\\mathcal{P}(S)$ is not sequentially compact. $\\mathcal{P}(S)$ being a metric space, this implies that it is not compact, which is the contradiction we were after. QED. "
   ]
  },
  {
   "cell_type": "markdown",
   "metadata": {},
   "source": [
    "### Exercise 2\n",
    "\n",
    "Consider the deterministic Markov chain $X_{t+1}=X_t+1$ on $\\mathbb{Z}$ (random walk).\n",
    "\n",
    "The corresponding stochastic kernel is $p(x,y)=\\mathbf{1}\\left\\lbrace x = y-1 \\right\\rbrace$ $\\forall y \\in \\mathbb{Z}$. It is easy to verify that it is a stochastic kernel, because obviously $p(x,y) \\geq 0$ $\\forall y \\in \\mathbb{Z}$, and also $\\sum_{y\\in \\mathbb{Z}} p(x,y) = 1$, since we only have $p(x,y) = 1$ for $y=x+1$. This is the stochastic kernel corresponding to the random walk given above, because given a point $x\\in \\mathbb{Z}$, it puts unit mass on the point $y\\in \\mathbb{Z}$ satisfying $x=y-1$, i.e. $y=x+1$. \n",
    "\n",
    "Reason by contradiction to prove that the random walk doesn't have a stationary distribution. Suppose that a stationary distribution $\\psi^*$ exists. \n",
    "\n",
    "By definition we then have $\\psi^* =\\psi^*P$, where $P$ is the Markov operator associated with the stochastic kernel $p$. That is, $\\forall y \\in \\mathbb{Z}$ $$\\psi^*(y)= (\\psi^*P)(y)$$. \n",
    "\n",
    "Let $\\psi_t$ be the distribution of $X_t$ on $\\mathbb{Z}$ at period $t$. By definition of the stochastic kernel, we also have $\\psi_{t+1}(y)=(\\psi_t P)(y)=\\sum_{x\\in \\mathbb{Z}}p(x,y)\\psi_t(x)=\\sum_{x\\in \\mathbb{Z}}\\mathbf{1}\\left\\lbrace x=y-1 \\right\\rbrace \\psi_t(x)=\\psi_t(y-1)$ $\\forall y \\in \\mathbb{Z}$. This is intuitive given the definition of the random walk above. The Markov operator $P$ is continuous on $(l_1(\\mathbb{Z}),||.||)$, so we can take the limit as we repeatedly apply $P$ ($k\\to \\infty$ times), and obtain $\\forall y \\in \\mathbb{Z}$ $$\\psi^*(y)= (P\\psi^*)(y-1).$$ \n",
    "\n",
    "Using those two results, we obtain a chain of equalities holding for any $y\\in \\mathbb{Z}$: $$ \\psi^*(y) = (\\psi^*P)(y)=\\psi^*(y-1)= (\\psi^*P)(y-1)=\\psi^*(y-2)=...$$\n",
    "The stationary distribution puts the same mass on every point $y\\in \\mathbb{Z}$. That is, $\\psi^*(y)=k>0$ constant. This implies $\\sum_{y \\in \\mathbb{Z}}\\psi^*(y)=\\sum_{y \\in \\mathbb{Z}}k$, which is indeterminate, and certainly not equal to 1. This contradicts $\\psi^*$ being a probability distribution. QED. \n"
   ]
  },
  {
   "cell_type": "markdown",
   "metadata": {},
   "source": [
    "### Exercise 3\n",
    "\n",
    "A look at the setting makes it clear that the state space (the values that inventories can take) is $S=[| 0,5 |]$, and of dimension $Q+1$. Let's compute $\\mathbb{P}(X_{t+1}=s'|X_t=s)$ for $s,s' \\in S^2$.\n",
    "\n",
    "For $s\\in [|0,q|]$, \\begin{eqnarray*}\n",
    "\\mathbb{P}(X_{t+1}=s'|X_t=s\\in [|0,q|])&=& \\mathbb{P}(\\max(Q-D_{t+1},0)=s')\\\\\n",
    "&=& \\begin{cases}\n",
    "\\mathbb{P}(D_{t+1} \\geq Q) \\hspace{.5cm} \\text{if} \\hspace{.2cm} s'=0 \\\\\n",
    "\\mathbb{P}(D_{t+1}=Q-s') \\hspace{.5cm} \\text{if} \\hspace{.2cm} s'\\in [|1,Q|]\n",
    "\\end{cases} \\\\\n",
    "&=& \\begin{cases}\n",
    "\\sum_{\\tilde{Q}=Q}^\\infty (1/2)^{\\tilde{Q}+1}=(1/2)^Q \\hspace{.5cm} \\text{if} \\hspace{.2cm} s'=0 \\\\\n",
    "(1/2)^{Q-s'+1} \\hspace{.5cm} \\text{if} \\hspace{.2cm} s'\\in [|1,Q|]\n",
    "\\end{cases} \\\\\n",
    "\\end{eqnarray*}\n",
    "\n",
    "For $s\\in [|q+1,Q|]$, \\begin{eqnarray*}\n",
    "\\mathbb{P}(X_{t+1}=s'|X_t=s\\in [|q+1,Q|]&=& \\mathbb{P}(s-D_{t+1}=s')\\\\\n",
    "&=& \\begin{cases}\n",
    "0 \\hspace{.5cm} \\text{if} \\hspace{.2cm} s'>s \\\\\n",
    "\\mathbb{P}(D_{t+1}\\geq s) \\hspace{.5cm} \\text{if} \\hspace{.2cm} s'=0\\\\\n",
    "\\mathbb{P}(D_{t+1}=s-s' ) \\hspace{.5cm} \\text{if} \\hspace{.2cm} s'\\in [|1,s|]\n",
    "\\end{cases} \\\\\n",
    "&=& \\begin{cases}\n",
    "0 \\hspace{.5cm} \\text{if} \\hspace{.2cm} s'>s \\\\\n",
    "\\sum_{\\tilde{s}=s}^\\infty(1/2)^{\\tilde{s}+1}=(1/2)^s \\hspace{.5cm} \\text{if} \\hspace{.2cm} s'=0\\\\\n",
    "(1/2)^{s-s'+1} \\hspace{.5cm} \\text{if} \\hspace{.2cm} s'\\in [|1,s|]\n",
    "\\end{cases} \\\\\n",
    "\\end{eqnarray*}\n",
    "\n",
    "Now let's argue that the associated stochastic kernel is globally stable. It is globally stable if the Markov operator $P$ is globally stable, i.e. if $P$ has a unique fixed point $\\psi^* \\in (l_1(S),||.||)$ and $\\psi P^i \\to \\psi^*$ as $i\\to\\infty$ for any $\\psi \\in (l_1(S),||.||)$.\n",
    "\n",
    "$S$ is finite. By a theorem seen in class (lecture 9, p. 55), if $P$ is both aperiodic and irreducible, then $P$ is globally stable. \n",
    "\n",
    "A thorough look at the above computations shows that $P$ is irreducible, i.e. every state is accessible from any other. If $s \\in [|0,q|]$ every state $s'\\in [|0,Q|]$ can be attained with positive probability in one iteration. If $s \\in [|q+1,Q|]$, every state $s'\\in [|0,s|]$ can be attained with positive probability in one iteration. And states $s'\\in [|s+1,Q|]$ can be attained with positive probability in multiple iterations, as $s$ is repeatedly hit by demand shocks that end up decreasing it below $q$ (because $\\mathbb{P}(D>0)>0$), at which point all states $s'\\in [|0,s|]$ can be attained with positive probability in one iteration.\n",
    "\n",
    "The first part of this statement for $s \\in [|0,q|]$ also deliver aperiodicity for $P$ for these values: $\\exists n\\in \\mathbb{N}$ s.t. $k \\geq n \\Rightarrow p^k(x,x)>0$ (here $n=0$). And if we call $N_{min}$ the minimum number of iterations after which a the inventories of a firm with $s \\in [|q+1,Q|]$ become lower or equal to $q$, then we also have $k \\geq N_{min} \\Rightarrow p^k(x,x)>0$. "
   ]
  },
  {
   "cell_type": "markdown",
   "metadata": {},
   "source": [
    "### Exercise 4\n",
    "\n",
    "Given initial parameters $q$ and $Q$, define a function that populates the corresponding transition matrix for inventories $X$ according to what we saw in exercise 3. Then compute the transition matrix $P$ for $q=2$ and $Q=5$. Use the QuantEcon package to create a conconrete instance of the MarkovChain type. Finally use the method associated with this type that computes the stationary distribution for $P$. "
   ]
  },
  {
   "cell_type": "code",
   "execution_count": 33,
   "metadata": {
    "collapsed": false
   },
   "outputs": [
    {
     "data": {
      "text/plain": [
       "6-element Array{Float64,1}:\n",
       " 0.0625\n",
       " 0.0625\n",
       " 0.125 \n",
       " 0.25  \n",
       " 0.25  \n",
       " 0.25  "
      ]
     },
     "execution_count": 33,
     "metadata": {},
     "output_type": "execute_result"
    }
   ],
   "source": [
    "using QuantEcon \n",
    "\n",
    "q = 2\n",
    "Q = 5\n",
    "\n",
    "function populate_transmat(q::Int64, Q::Int64)\n",
    "    \n",
    "    P = Array(Float64,Q+1,Q+1)\n",
    "    \n",
    "    for s1= 0:q\n",
    "        for s2 = 0:Q\n",
    "            if s2 == 0\n",
    "                P[s1+1,s2+1] = .5^Q\n",
    "            else\n",
    "                P[s1+1,s2+1] = .5^(Q-s2+1)\n",
    "            end\n",
    "        end\n",
    "    end\n",
    "\n",
    "    for s1 = q+1:Q\n",
    "        for s2 = 0:Q\n",
    "            if s2 > s1\n",
    "                P[s1+1,s2+1] = 0\n",
    "            elseif s2 == 0 \n",
    "                P[s1+1,s2+1] = .5^s1\n",
    "            else \n",
    "                P[s1+1,s2+1] = .5^(s1-s2+1)\n",
    "            end\n",
    "        end\n",
    "    end\n",
    "    \n",
    "    return P\n",
    "end\n",
    "\n",
    "P = populate_transmat(q,Q)\n",
    "\n",
    "mc = MarkovChain(P)\n",
    "psi2_star = mc_compute_stationary(mc)"
   ]
  },
  {
   "cell_type": "markdown",
   "metadata": {},
   "source": [
    "### Exercise 5\n",
    "\n",
    "Start from an initial distribution $\\psi_0$ for the Markov chain studied here, e.g. the discrete uniform distribution on $S=[|0,Q|]$. Then repeatedly apply the Markov operator $P$ (transition matrix computed in exercise 4) to $\\psi_0,\\psi_1,...$, until convergence in the sense of the $l_1$ distance is achieved. Create a function doing all of this. Same result as with the QuantEcon routine."
   ]
  },
  {
   "cell_type": "code",
   "execution_count": 18,
   "metadata": {
    "collapsed": false
   },
   "outputs": [
    {
     "data": {
      "text/plain": [
       "6x1 Array{Float64,2}:\n",
       " 0.0625\n",
       " 0.0625\n",
       " 0.125 \n",
       " 0.25  \n",
       " 0.25  \n",
       " 0.25  "
      ]
     },
     "execution_count": 18,
     "metadata": {},
     "output_type": "execute_result"
    }
   ],
   "source": [
    "function compute_statdist(Q::Int64, P::Array{Float64,2}, conv_crit::Float64)\n",
    "\n",
    "    l1_dist = 1 # initialize l_1 distance value\n",
    "    psi0 = ones(1,Q+1)./(Q+1) # initialize distribution (discrete uniform). must be row vector\n",
    "    psi1 = Array(Float64,1,Q+1) # preallocate updated distribution\n",
    "\n",
    "    while l1_dist > conv_crit\n",
    "        psi1 = psi0*P\n",
    "        l1_dist = sum(abs(psi1-psi0))\n",
    "        psi0 = deepcopy(psi1)\n",
    "    end\n",
    "    \n",
    "    return psi1' # return col vector\n",
    "end\n",
    "   \n",
    "psi2_star_bis = compute_statdist(Q, P, 1e-12)"
   ]
  },
  {
   "cell_type": "markdown",
   "metadata": {},
   "source": [
    "### Exercise 6\n",
    "\n",
    "Set $Q=20$ and plot the stationary distribution for $q=2,5,10,15$. \n",
    "\n",
    "The probability mass on inventory values below the threshold $q$ (below which the firm adjusts its inventories) is usually very low. These states do not persist over time because demand shocks succesively hit the firm, which responds by adjusting its inventories upwards up to $Q$, which puts more mass on higher inventory values. \n"
   ]
  },
  {
   "cell_type": "code",
   "execution_count": 31,
   "metadata": {
    "collapsed": false
   },
   "outputs": [
    {
     "data": {
      "image/png": "[encoded data removed]",
      "text/plain": [
       "PyPlot.Figure(PyObject <matplotlib.figure.Figure object at 0x000000002A6C70B8>)"
      ]
     },
     "metadata": {},
     "output_type": "display_data"
    },
    {
     "data": {
      "text/plain": [
       "PyObject <matplotlib.legend.Legend object at 0x000000002AB539E8>"
      ]
     },
     "execution_count": 31,
     "metadata": {},
     "output_type": "execute_result"
    }
   ],
   "source": [
    "using PyPlot\n",
    "\n",
    "Q = 20\n",
    "q_range = [2 5 10 15]\n",
    "\n",
    "fig, ax = subplots()\n",
    "x = collect(0:Q)\n",
    "# for i in 1:length(q_range)\n",
    "for q in [2 5 10 15]\n",
    "    P = populate_transmat(q, Q) # populate corresponding transition matrix\n",
    "    y = compute_statdist(Q, P, 1e-12) # use my own routine to compute stationary distribution\n",
    "#     println(\"stationary distribution\"); println(y)\n",
    "    ax[:plot](x, y, linewidth=2, alpha=0.6, label=\"q= $q\")\n",
    "end\n",
    "ax[:legend](loc=\"upper left\")"
   ]
  },
  {
   "cell_type": "code",
   "execution_count": null,
   "metadata": {
    "collapsed": false
   },
   "outputs": [],
   "source": []
  },
  {
   "cell_type": "code",
   "execution_count": null,
   "metadata": {
    "collapsed": true
   },
   "outputs": [],
   "source": []
  }
 ],
 "metadata": {
  "kernelspec": {
   "display_name": "Julia 0.4.3",
   "language": "julia",
   "name": "julia-0.4"
  },
  "language_info": {
   "file_extension": ".jl",
   "mimetype": "application/julia",
   "name": "julia",
   "version": "0.4.3"
  }
 },
 "nbformat": 4,
 "nbformat_minor": 0
}
