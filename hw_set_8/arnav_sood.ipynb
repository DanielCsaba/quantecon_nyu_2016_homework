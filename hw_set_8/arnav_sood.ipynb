{
 "cells": [
  {
   "cell_type": "markdown",
   "metadata": {},
   "source": [
    "### Homework 8 for Computational Economics, ECON-GA 3002\n",
    "\n",
    "**{Name, NYUID, Email}**: Arnav Sood, N11193569, asood@nyu.edu"
   ]
  },
  {
   "cell_type": "markdown",
   "metadata": {},
   "source": [
    "#### Exercise 1:\n",
    "\n",
    "> If $S$ is a discrete set, show that if the set of distributions on $S$, $\\mathbb{P}(S)$, is compact in $S$, then $S$ is finite.\n",
    "\n",
    "**Proof**: Argue contrapositively: that is, show $|S| = |\\mathbb{N}| = \\aleph_{0} \\implies \\mathbb{P}(S)$ not compact. (Sequential) compactness requires that every sequence in a subset $K$ contains a subsequence which converges to a point in $S$. Let $K$ be the set of delta distributions $(1, 0, 0, ...), (0, 1, 0, ...)$, and so on. These form a subset of $S$, but clearly no subsequence converges, as the $l_1$  norm of their difference of any two of them is always 2. Therefore, $\\mathbb{P}(S)$ compact shows $S$ finite for discrete $S$.\n"
   ]
  },
  {
   "cell_type": "markdown",
   "metadata": {
    "collapsed": true
   },
   "source": [
    "#### Exercise 2:\n",
    "\n",
    "> Show that the deterministic Markov chain given by $X_{t+1} = X_t + 1$ has no stationary distribution.\n",
    "\n",
    "**Proof:** We can uniquely identify each state $\\gamma \\in \\mathbb{Z}$ with a probability distribution $p_{\\gamma} \\in \\mathbb{P}(S)$. This is because $p_{\\gamma}$ is the dirac distibrution which assigns mass 1 to $\\gamma + 1$ and weight 0 everywhere else, and $\\gamma + 1$ is uniquely identified with $\\gamma$. So, a stationary distribution which maps to itself would correspond to a state $\\gamma$ which maps to itself, which would require $\\gamma + 1 = \\gamma$, which is a contradiction. Therefore, no stationary distribution exists."
   ]
  },
  {
   "cell_type": "markdown",
   "metadata": {},
   "source": [
    "#### Exercise 3:\n",
    "\n",
    "> Consider a Markov process given by the following dynamics. Select an integer $Q$, and an integer $0 \\leq q \\leq Q$. At time $t$, a store's inventory $X_t$ is some integer. The store then orders inventory $Q - X_t$ subject to a threshold rule: if $X_t \\leq q$ the store orders $Q - X_t$, and if not the store orders nothing. The store is then subject to a stochastic demand, IID with $\\text{Pr}[D = d]$ given by $\\frac{1}{2}^{d+1}$ for $d \\in \\{0, 1, ...\\}$. The store meets the demand as best it can without exceeding its current stock. The remainder, zero or nonzero, forms the next period's inventory $X_{t+1}$. \n",
    "\n",
    "> Show that the above is globally stable $\\forall Q, 0 \\leq q \\leq Q$.\n",
    "\n",
    "**Proof**: Take any finite $Q$. Setting $0 \\leq q \\leq Q$ yields a finite state space of cardinality $Q+1$. The associated Markov chain is irreducible, as given any initial state $\\gamma$, there is positive probability on the event of selling all one's inventory, then selling some $Q-\\epsilon$ for arbitrary $\\epsilon \\in \\{0, 1, ..., Q\\}$.\n",
    "\n",
    "It is also aperiodic, as any state is accessible from itself in any number of steps greater than 3. The associated probability is, at least, the probability associated with selling everything, then not selling anything until time $k-1$, until you sell $Q-\\gamma$ for initial state $\\gamma$, giving you inventory $\\gamma$ at time $k$.\n",
    "\n",
    "Since the Markov chain associated with $Q, q$ is aperiodic and irreducible on a finite state space, we know it is globally stable.\n"
   ]
  },
  {
   "cell_type": "markdown",
   "metadata": {},
   "source": [
    "#### Exercise 4\n",
    "\n",
    "> Let $\\psi$ be the stationary distribution corresponding to $(Q, q) = (5, 2)$. Using QuantEcon's $\\texttt{MarkovChain}$ class, compute $\\psi$."
   ]
  },
  {
   "cell_type": "markdown",
   "metadata": {},
   "source": [
    "> Import dependencies and define a `primitives` type for the model. The idea for doing so came from Alberto Polo's homework 7."
   ]
  },
  {
   "cell_type": "code",
   "execution_count": 1,
   "metadata": {
    "collapsed": false
   },
   "outputs": [],
   "source": [
    "using QuantEcon\n",
    "type primitives\n",
    "    q::Int64\n",
    "    Q::Int64\n",
    "    P::Array{Float64,2}\n",
    "    primitives(q,Q) = q > Q ? error(\"q out of range\") : new(q,Q,zeros(Q+1,Q+1))\n",
    "end"
   ]
  },
  {
   "cell_type": "markdown",
   "metadata": {},
   "source": [
    "> Write a function to compute the stochastic matrix for a given set of primitives. \n",
    "\n",
    "> The `transitionProbability` function computes $p(x,y)$ for all $x$, and nonzero $y$. The reason that we restrict to nonzero $y$ is that the 0 inventory case corresponds to an infinite number of states (i.e., all $d > Q$). We could use the geometric series formula, but since all the corrections come from one column, an ex post correction is cleaner."
   ]
  },
  {
   "cell_type": "code",
   "execution_count": 2,
   "metadata": {
    "collapsed": false
   },
   "outputs": [
    {
     "data": {
      "text/plain": [
       "getStochasticKernel (generic function with 1 method)"
      ]
     },
     "execution_count": 2,
     "metadata": {},
     "output_type": "execute_result"
    }
   ],
   "source": [
    "function getStochasticKernel(primitives)\n",
    "    \n",
    "    P = primitives.P\n",
    "    Q = primitives.Q\n",
    "    q = primitives.q\n",
    "    \n",
    "    # Define transitionProbability\n",
    "    function transitionProbability(x,y)\n",
    "        if x <= q\n",
    "            return (0.5)^(Q-y+1)\n",
    "        elseif (x > q) & (y <= x)\n",
    "            return (0.5)^(x-y+1)\n",
    "        else\n",
    "            return 0\n",
    "        end\n",
    "    end\n",
    "    \n",
    "    # Fill for nonzero targets\n",
    "    for row in 1:Q+1\n",
    "        for column in 2:Q+1\n",
    "            P[row,column] = transitionProbability(row-1,column-1)\n",
    "        end\n",
    "    end\n",
    "    \n",
    "    # Fill in 0 targets\n",
    "    for row in 1:Q+1\n",
    "        P[row,1] = 1 - sum(P[row,:])\n",
    "    end\n",
    "    \n",
    "end"
   ]
  },
  {
   "cell_type": "markdown",
   "metadata": {},
   "source": [
    "> Write a wrapper function to take a set of primitives and return the stationary distribution and stochastic kernel."
   ]
  },
  {
   "cell_type": "code",
   "execution_count": 3,
   "metadata": {
    "collapsed": false
   },
   "outputs": [
    {
     "data": {
      "text/plain": [
       "computeStationary (generic function with 1 method)"
      ]
     },
     "execution_count": 3,
     "metadata": {},
     "output_type": "execute_result"
    }
   ],
   "source": [
    "function computeStationary(primitives)\n",
    "    getStochasticKernel(primitives)\n",
    "    inventoryChain = MarkovChain(primitives.P)\n",
    "    return mc_compute_stationary(inventoryChain)\n",
    "end"
   ]
  },
  {
   "cell_type": "markdown",
   "metadata": {},
   "source": [
    "> Try it for the primitives in this exercise."
   ]
  },
  {
   "cell_type": "code",
   "execution_count": 4,
   "metadata": {
    "collapsed": false
   },
   "outputs": [
    {
     "name": "stdout",
     "output_type": "stream",
     "text": [
      "The stationary distribution is: \n",
      "[0.0625,0.0625,0.125,0.25,0.25,0.25]\n"
     ]
    }
   ],
   "source": [
    "exercise4 = primitives(2,5)\n",
    "println(\"The stationary distribution is: \\n\", computeStationary(exercise4))"
   ]
  },
  {
   "cell_type": "markdown",
   "metadata": {},
   "source": [
    "#### Exercise 5\n",
    "\n",
    "> Compute the stationary distribution from above, but use an explicit iteration on the $l_1$ norm instead of a package from QuantEcon.\n",
    "\n",
    "> We do this by rewriting our `computeStationary` function to account for some new parameters (tolerance bound (default $10^{-4}$, maximum iterations (default 500)). Some other notes:\n",
    "\n",
    "> We use the rational type `1//Q` in Julia to allow us to get the uniform distribution over arbitrary `Q`, and the `'` operator gives us a row vector.\n",
    "\n",
    "> The idea came from, in part, Timothy Petliar's homework 7."
   ]
  },
  {
   "cell_type": "code",
   "execution_count": 5,
   "metadata": {
    "collapsed": false
   },
   "outputs": [
    {
     "data": {
      "text/plain": [
       "computeStationary (generic function with 3 methods)"
      ]
     },
     "execution_count": 5,
     "metadata": {},
     "output_type": "execute_result"
    }
   ],
   "source": [
    "function computeStationary(primitives,bound=0.0001,maxIter=500)\n",
    "    getStochasticKernel(primitives)\n",
    "    Q = primitives.Q\n",
    "    P = primitives.P\n",
    "    q = primitives.q\n",
    "    currentGuess=(zeros(Q+1)+1//(Q+1))'\n",
    "    \n",
    "    function computeNorm(dist1,dist2)\n",
    "        return sum(abs(dist1-dist2))\n",
    "    end\n",
    "    \n",
    "    currDistance = computeNorm(currentGuess*P,currentGuess)\n",
    "    iterCount = 0\n",
    "    \n",
    "    while iterCount <= maxIter\n",
    "        if currDistance < bound\n",
    "            println(\"The stationary distribution is approximately: \\n\")\n",
    "            println(currentGuess)\n",
    "            return\n",
    "        else\n",
    "            currentGuess = currentGuess*P\n",
    "            currDistance = computeNorm(currentGuess*P,currentGuess)\n",
    "            iterCount+=1\n",
    "        end\n",
    "    end\n",
    "    \n",
    "    println(\"The stationary distribution is approximately: \\n\", currentGuess)\n",
    "    error(\"Error: Maximum Iteration Count Exceeded \\n\")\n",
    "\n",
    "end"
   ]
  },
  {
   "cell_type": "markdown",
   "metadata": {},
   "source": [
    "> Try it."
   ]
  },
  {
   "cell_type": "code",
   "execution_count": 6,
   "metadata": {
    "collapsed": false
   },
   "outputs": [
    {
     "name": "stdout",
     "output_type": "stream",
     "text": [
      "The stationary distribution is approximately: \n",
      "\n",
      "[0.0625076542297999 0.0625076542297999 0.1250153084595998 0.2500306169191996 0.2499885956446329 0.24995017051696772]\n"
     ]
    }
   ],
   "source": [
    "exercise5 = primitives(2,5)\n",
    "computeStationary(exercise5,0.0001,500)"
   ]
  },
  {
   "cell_type": "markdown",
   "metadata": {},
   "source": [
    "#### Exercise 6\n",
    "\n",
    "> Run for $q \\in \\{2, 5, 10, 15\\}, Q = 20$. Plot the stationary distributions, and comment.\n",
    "\n",
    "> First, reset computeStationary to QuantEcon's implementation, and suppress printing."
   ]
  },
  {
   "cell_type": "code",
   "execution_count": 7,
   "metadata": {
    "collapsed": false
   },
   "outputs": [
    {
     "data": {
      "text/plain": [
       "computeStationary (generic function with 3 methods)"
      ]
     },
     "execution_count": 7,
     "metadata": {},
     "output_type": "execute_result"
    }
   ],
   "source": [
    "function computeStationary(primitives)\n",
    "    getStochasticKernel(primitives)\n",
    "    inventoryChain = MarkovChain(primitives.P)\n",
    "    return mc_compute_stationary(inventoryChain)\n",
    "end"
   ]
  },
  {
   "cell_type": "markdown",
   "metadata": {},
   "source": [
    "> Then, write a function to generate the results."
   ]
  },
  {
   "cell_type": "code",
   "execution_count": 8,
   "metadata": {
    "collapsed": false
   },
   "outputs": [
    {
     "data": {
      "text/plain": [
       "runExperiments (generic function with 3 methods)"
      ]
     },
     "execution_count": 8,
     "metadata": {},
     "output_type": "execute_result"
    }
   ],
   "source": [
    "function runExperiments(qVector=[2,5,10,15],Q=20)\n",
    "        results = Array{Float64}(length(qVector),Q+1)\n",
    "        for i in 1:size(results)[1]\n",
    "                results[i,:] = computeStationary(primitives(qVector[i],Q))\n",
    "        end\n",
    "        return results\n",
    "end"
   ]
  },
  {
   "cell_type": "markdown",
   "metadata": {},
   "source": [
    "> Run and plot. The abstruse-looking type in our `data` array is to enable it to hold Plotly traces, which are of that type."
   ]
  },
  {
   "cell_type": "code",
   "execution_count": null,
   "metadata": {
    "collapsed": false,
    "scrolled": false
   },
   "outputs": [],
   "source": [
    "# Not ready to run yet.\n",
    "\n",
    "using PlotlyJS\n",
    "using Blink\n",
    "\n",
    "const Q = 20\n",
    "const qVec = [2,5,10,15]\n",
    "\n",
    "results = runExperiments(qVec,Q)\n",
    "\n",
    "data = Array{PlotlyJS.GenericTrace{Dict{Symbol,Any}}}(length(qVec))\n",
    "xVec = collect(1:Q+1)\n",
    "for i in 1:length(qVec)\n",
    "    data[i] = scatter(;x=xVec,y=results[i])\n",
    "end\n",
    "\n",
    "plot(data)"
   ]
  }
 ],
 "metadata": {
  "kernelspec": {
   "display_name": "Julia 0.4.3",
   "language": "julia",
   "name": "julia-0.4"
  },
  "language_info": {
   "file_extension": ".jl",
   "mimetype": "application/julia",
   "name": "julia",
   "version": "0.4.3"
  }
 },
 "nbformat": 4,
 "nbformat_minor": 0
}
