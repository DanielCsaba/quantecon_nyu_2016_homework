{
 "cells": [
  {
   "cell_type": "markdown",
   "metadata": {},
   "source": [
    "## Homework 8\n",
    "\n",
    "**Ruixue Gong, N17593858**"
   ]
  },
  {
   "cell_type": "markdown",
   "metadata": {},
   "source": [
    "**Exercise 1**: Show that if $\\mathscr{P}(S)$ is compact as a subset of $(l_1(S),\\parallel \\cdot\\parallel)$, then S must be finite."
   ]
  },
  {
   "cell_type": "markdown",
   "metadata": {},
   "source": [
    "**Proof**: Suppose that S is countably infinite. Consider a set $A = \\{(1,0,\\dots, 0), (0,1,\\dots, 0),\\dots, (0,0,\\dots,1)\\}$. Notice that this set doesn't have a limits point. So it is closed. Since $\\mathscr{P}(S)$ is compact, its closed subset $A$ should be compact as well. Then we can find an open cover $\\bigcup \\limits_{x\\in A}N_{\\frac{1}{2}}(x)$. We cannot find a finite subcover to cover A from this open cover, since any two elements in A has a distance lager than $\\frac{1}{2}$. So it contradicts to A is compact. "
   ]
  },
  {
   "cell_type": "markdown",
   "metadata": {},
   "source": [
    "**Exercise 2**: Markov chain $X_{t+1}=X_t+1$ on $\\mathbb{Z}$. The corresponding stochastic kernel is $p(x, y) = \\mathbf{1}\\{x = y-1\\}$. Show that no stationary distribution exists."
   ]
  },
  {
   "cell_type": "markdown",
   "metadata": {},
   "source": [
    "**Proof**: Suppose that there exists a stationary distribution $\\varphi$. By definition of stationary distribution, we have $\\varphi^*(y)=\\sum\\limits_{x\\in S} p(x, y) \\varphi^*(x)=\\sum\\limits_{x\\in S}\\mathbf{1}\\{x = y-1\\}\\varphi^*(x)=\\varphi^*(y-1)$. However this equation should hold for any state y, rather than special case $y=y-1$. Thus it is a contradiction."
   ]
  },
  {
   "cell_type": "markdown",
   "metadata": {},
   "source": [
    "**Exercise 3**:Argue that this stochastic kernel is globally statble for every q and Q."
   ]
  },
  {
   "cell_type": "markdown",
   "metadata": {},
   "source": [
    "**Proof**: Notice that $$X_{t+1}=\\begin{cases} Q - D_{t+1}, \\quad \\text{ if }X_t\\leq q\n",
    "\\\\\n",
    "X_t - D_{t+1}, \\quad \\text{ otherwise}\n",
    "\\end{cases}$$\n",
    ", where q and Q are intergers such that $0\\leq q\\leq Q$.\n",
    "\n",
    "We can found that randomness comes from the demand shock $(D_t)_{t\\geq 1}$. Based on the preassumption that this demand up to its current stock level, $D_t$ will never exceed Q. Therefore there are finite states that characterized by inventory $X_t = \\{0,1,\\dots, Q\\}$.Thus $\\mathscr{P}(q,Q)$ is compact. \n",
    "\n",
    "Moreover, since demand schock is assumed to be IID, there is no limitation jumping from one state to another. So this sochastic kernal $p$ is irreducible. Notice that $p(x,x) \\geq 0.5^1>0$ according to ordering rule, therefore this stochastic kernel is aperiodic.\n",
    "\n",
    "By theorem on lecture note, we can conclude that this stochastic kernel is globally stable."
   ]
  },
  {
   "cell_type": "markdown",
   "metadata": {},
   "source": [
    "**Exercise 4**: Compute the stationary distribution when $q=2$ and $Q=5$. You should get $$\\varphi ^*_2= (0.0625, 0.0625, 0.125, 0.25, 0.25, 0.25)$$"
   ]
  },
  {
   "cell_type": "code",
   "execution_count": 1,
   "metadata": {
    "collapsed": false
   },
   "outputs": [],
   "source": [
    "import quantecon as qe\n",
    "import numpy as np\n",
    "import matplotlib.pyplot as plt"
   ]
  },
  {
   "cell_type": "code",
   "execution_count": 2,
   "metadata": {
    "collapsed": true
   },
   "outputs": [],
   "source": [
    "# Parameters setting \n",
    "Q = 5\n",
    "q = 2"
   ]
  },
  {
   "cell_type": "markdown",
   "metadata": {},
   "source": [
    "Define a function $p(x, y)$ to calculate stochastic kernel"
   ]
  },
  {
   "cell_type": "code",
   "execution_count": 3,
   "metadata": {
    "collapsed": false
   },
   "outputs": [],
   "source": [
    "def p(x,y):\n",
    "    if x <= q:\n",
    "        val = (0.5)**(Q-y+1)\n",
    "    elif x > q and y <= x: \n",
    "        val = (0.5)**(x-y+1)\n",
    "    else:\n",
    "        val = 0\n",
    "    return val"
   ]
  },
  {
   "cell_type": "markdown",
   "metadata": {},
   "source": [
    "Define a function get_sto_mat(q, Q) to get stochastic matrix given q and Q"
   ]
  },
  {
   "cell_type": "code",
   "execution_count": 4,
   "metadata": {
    "collapsed": false
   },
   "outputs": [],
   "source": [
    "def get_sto_mat(q, Q):   \n",
    "    P = np.zeros((Q+1, Q+1))\n",
    "    for i in range(Q+1): #row\n",
    "        for j in range(Q+1): #col\n",
    "            P[i,j] = p(i,j)   #python counts from 0\n",
    "    \n",
    "    for i in range(Q+1):\n",
    "        P[i, 0] = 1 - sum(P[i, 1:(Q+1)])\n",
    "        \n",
    "    return P"
   ]
  },
  {
   "cell_type": "code",
   "execution_count": 5,
   "metadata": {
    "collapsed": false
   },
   "outputs": [
    {
     "name": "stdout",
     "output_type": "stream",
     "text": [
      "The stationary distribution I got is\n",
      " [[ 0.0625  0.0625  0.125   0.25    0.25    0.25  ]]\n"
     ]
    }
   ],
   "source": [
    "mc = qe.MarkovChain(get_sto_mat(q,Q))\n",
    "s_dist = mc.stationary_distributions\n",
    "print(\"The stationary distribution I got is\\n\", s_dist)"
   ]
  },
  {
   "cell_type": "markdown",
   "metadata": {
    "collapsed": false
   },
   "source": [
    "**Exercise 5**: compute the stationary distribution iteratively, not by quantecon package."
   ]
  },
  {
   "cell_type": "code",
   "execution_count": 6,
   "metadata": {
    "collapsed": true
   },
   "outputs": [],
   "source": [
    "def stationary_dist(q, Q , tol, phi_0):\n",
    "    P = get_sto_mat(q, Q)\n",
    "    phi_a = phi_0\n",
    "    phi_b = phi_0 @ P\n",
    "    while np.any(sum(abs(phi_b-phi_a)) > tol): #l_1 distance\n",
    "        phi_a = phi_b\n",
    "        phi_b = phi_a @ P\n",
    "    return phi_b    "
   ]
  },
  {
   "cell_type": "code",
   "execution_count": 7,
   "metadata": {
    "collapsed": false
   },
   "outputs": [],
   "source": [
    "#Parameters Setting\n",
    "phi_0 = np.asarray([1/(Q+1)]*(Q+1)) #given initiary distribution\n",
    "tol = 1e-11"
   ]
  },
  {
   "cell_type": "code",
   "execution_count": 8,
   "metadata": {
    "collapsed": false
   },
   "outputs": [
    {
     "name": "stdout",
     "output_type": "stream",
     "text": [
      "The distribution I got is\n",
      " [ 0.0625  0.0625  0.125   0.25    0.25    0.25  ]\n"
     ]
    }
   ],
   "source": [
    "dist = stationary_dist(q, Q, tol, phi_0)\n",
    "print(\"The distribution I got is\\n\", dist)"
   ]
  },
  {
   "cell_type": "markdown",
   "metadata": {},
   "source": [
    "**Comparison**: Obviously, these two results are the same. "
   ]
  },
  {
   "cell_type": "markdown",
   "metadata": {},
   "source": [
    "**Exercise 6**: Set $Q = 20$ and plot the stationary distribution for $q= 2, 5, 10, 15$. Give some interpretation for what you see."
   ]
  },
  {
   "cell_type": "code",
   "execution_count": 9,
   "metadata": {
    "collapsed": true
   },
   "outputs": [],
   "source": [
    "# Parameters Setting\n",
    "q_list = [2, 5, 10, 15]\n",
    "Q = 20\n",
    "phi_0 = np.asarray([1/(Q+1)]*(Q+1))\n",
    "tol = 1e-11"
   ]
  },
  {
   "cell_type": "code",
   "execution_count": 12,
   "metadata": {
    "collapsed": false
   },
   "outputs": [
    {
     "data": {
      "image/png": "[encoded data removed]",
      "text/plain": [
       "<matplotlib.figure.Figure at 0x7efe08075ac8>"
      ]
     },
     "metadata": {},
     "output_type": "display_data"
    }
   ],
   "source": [
    "%matplotlib inline\n",
    "\n",
    "fig, ax = plt.subplots(figsize = (8,6))\n",
    "for q in q_list:\n",
    "    x = list(range(Q+1))\n",
    "    y = stationary_dist(q, Q, tol, phi_0)\n",
    "    label_of_line = r'$q = {0:.0f}$'.format(q)\n",
    "    ax.plot(x, y, linewidth=1, label = label_of_line,marker='o')\n",
    "    \n",
    "plt.title('Stationary Distribution Plot')\n",
    "plt.xlabel('States chracterized by remaining inventory')\n",
    "plt.ylabel('Probability')\n",
    "plt.legend(loc = 'upper left')\n",
    "plt.show()"
   ]
  },
  {
   "cell_type": "markdown",
   "metadata": {
    "collapsed": true
   },
   "source": [
    "**Interpretation**:\n",
    "\n",
    "1. Stationay Distribution always put a heavier mass on higher remainning inventory. Because the higher the remianinig inventroy, the higher possibility that the firm can meet up the demand.\n",
    "\n",
    "2. Larger q contributes to a fact that less mass has been put on a smaller remaining inventory, and more mass has been put on a greater remianing inventory. Higher q indicates that the firm renew its inventory more frequently and makes more orders of adding inventory. It is more likely for this firm to have a higher remainnig inventory."
   ]
  }
 ],
 "metadata": {
  "kernelspec": {
   "display_name": "Python 3",
   "language": "python",
   "name": "python3"
  },
  "language_info": {
   "codemirror_mode": {
    "name": "ipython",
    "version": 3
   },
   "file_extension": ".py",
   "mimetype": "text/x-python",
   "name": "python",
   "nbconvert_exporter": "python",
   "pygments_lexer": "ipython3",
   "version": "3.5.1"
  }
 },
 "nbformat": 4,
 "nbformat_minor": 0
}
