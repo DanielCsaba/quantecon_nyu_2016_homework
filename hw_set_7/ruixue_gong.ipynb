{
 "cells": [
  {
   "cell_type": "markdown",
   "metadata": {},
   "source": [
    "## Homework 7\n",
    "\n",
    "**Ruixue Gong, N17593858**"
   ]
  },
  {
   "cell_type": "markdown",
   "metadata": {},
   "source": [
    "**Exercise 1**\n",
    "\n",
    "$$q(x,y): = \\mathbb{P}\\{X_{t+1} = y |X_t = x\\}$$\n",
    "and \n",
    "$$p(x) = \\beta \\sum\\limits_{y\\in S}[d(y)+p(y)]q(x,y)$$\n",
    "\n",
    "By Theorem 0.1, \n",
    "$$d_{\\infty}(T^kp, p^*) \\rightarrow 0$$\n",
    "\n",
    "**Banach Fixed Point Theorem**\n",
    "Let $(X, d)$ be a non-empty complete metric space with a contraction mapping $T : X \\rightarrow X$. Then T admits a unique fixed-point $x^*$ in X (i.e. $T(x^*) = x^*$). Furthermore, $x^*$ can be found as follows: start with an arbitrary element $x_0$ in X and define a sequence $\\{x_n\\}$ by $x_n = T(x_{n−1})$, then $x_n \\rightarrow x^*$.\n"
   ]
  },
  {
   "cell_type": "markdown",
   "metadata": {},
   "source": [
    "(1)Provide a Python or Julia function that takes a specification of\n",
    "the primitives and returns an approximation to the equilibrium price function."
   ]
  },
  {
   "cell_type": "markdown",
   "metadata": {},
   "source": [
    "From Theorem 0.1, we have already dnow that T is a uniform contraction mapping. Therefore we can use Banach Fixed Point Theorem to compute fixed point function $p(y)$.\n",
    "\n",
    "Experiment with different tolerance and choose a number that gives you accuracy up to three or four decimal places."
   ]
  },
  {
   "cell_type": "code",
   "execution_count": 19,
   "metadata": {
    "collapsed": false
   },
   "outputs": [],
   "source": [
    "type Lucas_Asset_Price\n",
    "    β::Float64                #discount rate\n",
    "    tol::Float64              #tolerance level\n",
    "    maxit::Int64              #maximum iteration number\n",
    "    price::Array{Float64,2}   #prices of different states\n",
    "    t_mat::Array{Float64,2}   #transitional probability matrix\n",
    "    d_val::Function           #dividend function\n",
    "end"
   ]
  },
  {
   "cell_type": "markdown",
   "metadata": {},
   "source": [
    "Define a consant vector function for divident values.\n",
    "Notice that this function is given\n",
    "\n",
    "\n",
    "$\\displaystyle  d_{val }(y)= (1,0,0)'$"
   ]
  },
  {
   "cell_type": "code",
   "execution_count": 20,
   "metadata": {
    "collapsed": false
   },
   "outputs": [
    {
     "data": {
      "text/plain": [
       "d_val (generic function with 1 method)"
      ]
     },
     "execution_count": 20,
     "metadata": {},
     "output_type": "execute_result"
    }
   ],
   "source": [
    "d_val(lap::Lucas_Asset_Price) = [1.0 0.0 0.0]'"
   ]
  },
  {
   "cell_type": "markdown",
   "metadata": {},
   "source": [
    "Define a uniform contraction mapping as \n",
    "$$Tp(y): = \\beta \\sum\\limits_{y\\in S}[d(y)+p(y)]q(x,y) $$"
   ]
  },
  {
   "cell_type": "code",
   "execution_count": 21,
   "metadata": {
    "collapsed": false
   },
   "outputs": [
    {
     "data": {
      "text/plain": [
       "T_map! (generic function with 1 method)"
      ]
     },
     "execution_count": 21,
     "metadata": {},
     "output_type": "execute_result"
    }
   ],
   "source": [
    "function T_map!(lap::Lucas_Asset_Price, val::Array{Float64,2})\n",
    "    lap.price = lap.β * lap.t_mat * (val+lap.price) \n",
    "    # 2\\times 2 * 2\\times 1    \n",
    "end "
   ]
  },
  {
   "cell_type": "markdown",
   "metadata": {},
   "source": [
    "Now we need to show the iteration process \n",
    "\n",
    "$$p_n = T(p_{n-1})$$ "
   ]
  },
  {
   "cell_type": "code",
   "execution_count": 22,
   "metadata": {
    "collapsed": false
   },
   "outputs": [
    {
     "data": {
      "text/plain": [
       "iter! (generic function with 1 method)"
      ]
     },
     "execution_count": 22,
     "metadata": {},
     "output_type": "execute_result"
    }
   ],
   "source": [
    "function iter!(lap::Lucas_Asset_Price)\n",
    " \n",
    "    dval = lap.d_val(lap)\n",
    "    iter_count = 0\n",
    "    err = 2.0\n",
    "    \n",
    "    while err > lap.tol\n",
    "        p_prior = lap.price\n",
    "        iter_count += 1\n",
    "        if iter_count > lap.maxit\n",
    "            break\n",
    "        else\n",
    "            T_map!(lap, dval)\n",
    "            p_post = lap.price\n",
    "            err = norm(p_post - p_prior)\n",
    "        end\n",
    "    end\n",
    "end\n"
   ]
  },
  {
   "cell_type": "code",
   "execution_count": 23,
   "metadata": {
    "collapsed": false
   },
   "outputs": [
    {
     "data": {
      "text/plain": [
       "main (generic function with 1 method)"
      ]
     },
     "execution_count": 23,
     "metadata": {},
     "output_type": "execute_result"
    }
   ],
   "source": [
    "function main(t_mat::Array{Float64,2})  #input initial price\n",
    "    p_0 = zeros(3,1)\n",
    "    \n",
    "    #set parameters\n",
    "    β = 0.98   #as suggested by hw7\n",
    "    tol = 1e-10\n",
    "    maxit = 100000\n",
    "   \n",
    "    lap = Lucas_Asset_Price(β,tol,maxit,p_0,t_mat,d_val) #transition \n",
    "    iter!(lap)    #iteration\n",
    "    \n",
    "    return lap.price\n",
    "end"
   ]
  },
  {
   "cell_type": "code",
   "execution_count": 24,
   "metadata": {
    "collapsed": false
   },
   "outputs": [
    {
     "name": "stdout",
     "output_type": "stream",
     "text": [
      "The equilibirum prices of Case 1 is [40.76 35.961 34.572]\n",
      "The equilibirum prices of Case 2 is [23.501 21.099 20.284]\n"
     ]
    }
   ],
   "source": [
    "t_mat1 = [[.971,.145,.0] [.029,.778,.508] [.0,.077,.492]]\n",
    "t_mat2 = [[.871,.145,.0] [.029,.778,.508] [.1,.077,.492]]\n",
    "\n",
    "p1 = round(main(t_mat1)',3)\n",
    "p2 = round(main(t_mat2)',3)\n",
    "\n",
    "println(\"The equilibirum prices of Case 1 is \", p1)\n",
    "println(\"The equilibirum prices of Case 2 is \", p2)\n"
   ]
  },
  {
   "cell_type": "markdown",
   "metadata": {
    "collapsed": true
   },
   "source": [
    "**Analysis**:\n",
    "\n",
    "There is a huge slump of prices from case 1 to case 2. And we notice that in case 2, that there exists a possitive probability of 0.1 transitioning from normal growth to severe recession. However in case 1, if we are in normal growth, it's impossible to jump to severe recession. Thus the unconditional probability of severe recession would be increased in case 2, which results in the slump of asset prices. Since dividend function is fixed for each state, the price for each state will be only influenced by transition probability. The higher the probability of normal growth, the higher the price will be."
   ]
  },
  {
   "cell_type": "markdown",
   "metadata": {},
   "source": [
    "**Exercise 2**\n",
    "\n",
    "The equilibrium condition is modified to \n",
    "$$p(x) = \\beta \\max_{i \\in \\{1,2\\}} \\{\\sum\\limits_{y\\in S}[d(y)+p(y)]q_i(x,y)\\}$$\n",
    "where $q_1$ and $q_2$ represent different beliefs about state transition probabilities"
   ]
  },
  {
   "cell_type": "markdown",
   "metadata": {},
   "source": [
    "Proof: \n",
    "\n",
    "Note that I is an arbitrary index set. And S is not finite now. \n",
    "\n",
    "Define a map T such that \n",
    "$$\\displaystyle Tp(x) := \\beta \\sup_{i \\in I} \\{\\sum\\limits_{y\\in S}[d(y)+p(y)]q_i(x,y)\\}, \\quad\\forall p\\in b\\mathbb{R}^S$$\n",
    "\n",
    "We want to show that T is a uniform contraction. \n",
    "We have shown that \n",
    "$$|Tp(x)| = \\beta\\sup_{i \\in I} \\{ |\\sum\\limits_{y\\in S}[d(y)+p(y)]q(x,y)|\\}$$\n",
    "$$\\leq \\beta \\sup_{i \\in I}\\{ \\sum\\limits_{y\\in S}|d(y)+p(y)|q(x,y)\\}$$\n",
    "$$\\leq \\beta \\sup_{i \\in I}\\{ \\sum\\limits_{y\\in S}(|d(y)|+|p(y)|)q(x,y)\\}$$\n",
    "$$\\leq \\beta \\sup_{i \\in I}\\{ \\sum\\limits_{y\\in S}(\\parallel d(y)\\parallel_{\\infty}+\\parallel p(y)\\parallel_{\\infty})q(x,y)\\}$$\n",
    "$$\\leq  \\beta (\\parallel d(y)\\parallel_{\\infty}+\\parallel p(y)\\parallel_{\\infty})$$\n",
    "\n",
    "Thus $\\parallel Tp \\parallel_{\\infty} < \\infty$. $Tp\\in b\\mathbb{R}^S$\n",
    "\n",
    "The next step we need to show that \n",
    "$$\\parallel Tp-Tp'\\parallel_{\\infty} \\leq \\beta \\parallel p-p'\\parallel_{\\infty}$$\n",
    "\n",
    "Consider \n",
    "$$|Tp(x)-Tp'(x)| = \\beta|\\sup_{i \\in I} \\{ \\sum\\limits_{y\\in S}[d(y)+p(y)]q(x,y)\\}-\\sup_{i \\in I} \\{ \\sum\\limits_{y\\in S}[d(y)+p'(y)]q(x,y)\\}|$$\n",
    "\n",
    "Claim: \n",
    "$$|\\sup_i a_i -\\sup_i b_i| \\leq \\sup_i |a_i-b_i|$$\n",
    "\n",
    "Given any $\\epsilon>0$, there exists $m\\in I $ such that \n",
    "$|a_m- b_m|> \\sup_i|a_i-b_i|-\\epsilon \\geq|\\sup_i a_i -\\sup_i b_i|-\\epsilon $\n",
    "And notice that $\\sup_i|a_i-b_i|\\geq |a_m -b_m |>|\\sup_i a_i -\\sup_i b_i|-\\epsilon $\n",
    "\n",
    "Since $\\epsilon$ is arbitrary, we can conclude that \n",
    "$$\\sup_i|a_i-b_i|\\geq |\\sup_i a_i -\\sup_i b_i|$$\n",
    "\n",
    "Therefore by the claim we just proved, we can show\n",
    "$$\\beta|\\sup_{i \\in I} \\{ \\sum\\limits_{y\\in S}[d(y)+p(y)]q(x,y)\\}-\\sup_{i \\in I} \\{ \\sum\\limits_{y\\in S}[d(y)+p'(y)]q(x,y)\\}|$$\n",
    "$$\\leq \\beta \\sup_i |\\sum\\limits_{y\\in S}p(y)-p'(y)q(x,y)|$$\n",
    "$$\\leq \\beta \\sup_i|p(y)-p'(y)| $$\n",
    "\n",
    "Thus T is a uniform contraction on $(b\\mathbb{R}^S,d_\\infty)$\n",
    "\n",
    "By Banach contraction mappint theorem, there exists a unique fixed point $p^*$."
   ]
  },
  {
   "cell_type": "markdown",
   "metadata": {},
   "source": [
    "**Exercise 3**\n",
    "\n",
    "Following the setting written on hwset7.pdf, there are two agents. $i= 1,2$"
   ]
  },
  {
   "cell_type": "code",
   "execution_count": 25,
   "metadata": {
    "collapsed": false
   },
   "outputs": [],
   "source": [
    "type Lucas_Asset_Price_hetero\n",
    "    β::Float64                #discount rate\n",
    "    tol::Float64              #tolerance level\n",
    "    maxit::Int64              #maximum iteration number\n",
    "    price::Array{Float64,2}   #prices of different states\n",
    "    t_mat_1::Array{Float64,2} #transitional probability matrix 1\n",
    "    t_mat_2::Array{Float64,2} #transitional probability matrix 2\n",
    "    d_val::Function           #dividend function\n",
    "end"
   ]
  },
  {
   "cell_type": "code",
   "execution_count": 26,
   "metadata": {
    "collapsed": false
   },
   "outputs": [
    {
     "data": {
      "text/plain": [
       "d_val (generic function with 2 methods)"
      ]
     },
     "execution_count": 26,
     "metadata": {},
     "output_type": "execute_result"
    }
   ],
   "source": [
    "d_val(lap::Lucas_Asset_Price_hetero) = [1.0 0.0 0.0]'"
   ]
  },
  {
   "cell_type": "code",
   "execution_count": 27,
   "metadata": {
    "collapsed": false
   },
   "outputs": [
    {
     "data": {
      "text/plain": [
       "T_map! (generic function with 2 methods)"
      ]
     },
     "execution_count": 27,
     "metadata": {},
     "output_type": "execute_result"
    }
   ],
   "source": [
    "function T_map!(lap::Lucas_Asset_Price_hetero, val::Array{Float64,2})\n",
    "    lap.price = lap.β*max(lap.t_mat_1*(val+lap.price),lap.t_mat_2*(val+lap.price))\n",
    "    # 2\\times 2 * 2\\times 1    \n",
    "end "
   ]
  },
  {
   "cell_type": "code",
   "execution_count": 28,
   "metadata": {
    "collapsed": false
   },
   "outputs": [
    {
     "data": {
      "text/plain": [
       "iter! (generic function with 2 methods)"
      ]
     },
     "execution_count": 28,
     "metadata": {},
     "output_type": "execute_result"
    }
   ],
   "source": [
    "function iter!(lap::Lucas_Asset_Price_hetero)\n",
    " \n",
    "    dval = lap.d_val(lap)\n",
    "    iter_count = 0\n",
    "    err = 2.0\n",
    "    \n",
    "    while err > lap.tol\n",
    "        p_prior = lap.price\n",
    "        iter_count += 1\n",
    "        if iter_count > lap.maxit\n",
    "            break\n",
    "        else\n",
    "            T_map!(lap, dval)\n",
    "            p_post = lap.price\n",
    "            err = norm(p_post - p_prior)\n",
    "        end\n",
    "    end\n",
    "end"
   ]
  },
  {
   "cell_type": "code",
   "execution_count": 34,
   "metadata": {
    "collapsed": false
   },
   "outputs": [
    {
     "data": {
      "text/plain": [
       "main2 (generic function with 1 method)"
      ]
     },
     "execution_count": 34,
     "metadata": {},
     "output_type": "execute_result"
    }
   ],
   "source": [
    "function main2(t_mat_1::Array{Float64,2},t_mat_2::Array{Float64,2})  #input initial price\n",
    "    p_0 = zeros(3,1)\n",
    "    \n",
    "    #set parameters\n",
    "    β = 0.98   #as suggested by hw7\n",
    "    tol = 1e-10\n",
    "    maxit = 100000\n",
    "   \n",
    "    lap = Lucas_Asset_Price_hetero(β,tol,maxit,p_0,t_mat_1,t_mat_2,d_val) #transition \n",
    "    iter!(lap)    #iteration\n",
    "    \n",
    "    return lap.price\n",
    "end"
   ]
  },
  {
   "cell_type": "code",
   "execution_count": 41,
   "metadata": {
    "collapsed": false
   },
   "outputs": [
    {
     "name": "stdout",
     "output_type": "stream",
     "text": [
      "The equilibirum prices with heterogenious agenets is [41.0 36.0 35.0]\n",
      "Recall case 1 and case 2 in homogenious agent model\n",
      "[40.76 35.961 34.572]\n",
      "[23.501 21.099 20.284]\n"
     ]
    }
   ],
   "source": [
    "t_mat_1 = [[.971,.145,.0] [.029,.778,.508] [.0,.077,.492]]\n",
    "t_mat_2 = [[.871,.145,.0] [.029,.778,.508] [.1,.077,.492]]\n",
    "\n",
    "p = round(main2(t_mat_1, t_mat_2)')\n",
    "\n",
    "println(\"The equilibirum prices with heterogenious agenets is \", p)\n",
    "println(\"Recall case 1 and case 2 in homogenious agent model\")\n",
    "println(p1)\n",
    "println(p2)\n"
   ]
  },
  {
   "cell_type": "markdown",
   "metadata": {},
   "source": [
    "**Analysis**:\n",
    "\n",
    "Since heterogenious model pick the maximum value of asset prices of these two agents, so it is higher than the value of case 1 and that of case 2"
   ]
  }
 ],
 "metadata": {
  "kernelspec": {
   "display_name": "Julia 0.4.3",
   "language": "julia",
   "name": "julia-0.4"
  },
  "language_info": {
   "file_extension": ".jl",
   "mimetype": "application/julia",
   "name": "julia",
   "version": "0.4.3"
  }
 },
 "nbformat": 4,
 "nbformat_minor": 0
}
