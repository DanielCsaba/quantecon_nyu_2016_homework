{
 "cells": [
  {
   "cell_type": "markdown",
   "metadata": {},
   "source": [
    "**HOMEWORK 7**\n",
    "\n",
    "**Author:** Alberto Polo\n",
    "\n",
    "**NYUID:** N19683411\n",
    "\n",
    "*Description:* Apply the contraction mapping theorem to a risk-neutral asset pricing model, first with homogeneous beliefs, then with heterogenous beliefs"
   ]
  },
  {
   "cell_type": "markdown",
   "metadata": {},
   "source": [
    "**Exercise 1**\n",
    "\n",
    "I'm solving this homework in Julia. Thus, as a first step, I create a Julia type called *primitives* which holds all primitives of the model, namely the discount factor $\\beta$, the number of states, the dividend payment at each state and the stochastic matrix for states. I also create a second type called *pricefn* to hold the equilibrium price vector."
   ]
  },
  {
   "cell_type": "code",
   "execution_count": 1,
   "metadata": {
    "collapsed": false,
    "scrolled": true
   },
   "outputs": [],
   "source": [
    "type primitives\n",
    "    beta::Float64 # discount factor\n",
    "    nstates::Int64 # cardinality of S, assumed finite\n",
    "    d::Vector{Float64} # dividend flow for each state i in S\n",
    "    Q::Matrix{Float64} # stochastic matrix for states\n",
    "end\n",
    "\n",
    "type pricefn\n",
    "    p::Vector{Float64} # equilibrium price for each state i in S\n",
    "end"
   ]
  },
  {
   "cell_type": "markdown",
   "metadata": {},
   "source": [
    "Next I write a function called *solve_rneutral* which takes as input a specification of the primitives of the model, solves for the equilibrium price vector and returns its values. I use keyword arguments for solution algorithm details such as the initial price vector, the maximum number of iterations and the tolerance level to establish convergence (here the sup-norm corresponds to the maximum absolute value *maxabs*).\n",
    "\n",
    "Notice that I can write the contraction compactly in vector form as $Tp = \\beta Q (d + p)$ since, for each state, the equilibrium price is the discounted expected value of the asset next period, which itself comprises dividend payment and resale price."
   ]
  },
  {
   "cell_type": "code",
   "execution_count": 2,
   "metadata": {
    "collapsed": false
   },
   "outputs": [
    {
     "data": {
      "text/plain": [
       "solve_rneutral (generic function with 1 method)"
      ]
     },
     "execution_count": 2,
     "metadata": {},
     "output_type": "execute_result"
    }
   ],
   "source": [
    "function solve_rneutral(m::primitives; f = pricefn(zeros(m.nstates)), maxiter = 1000, tol = 1e-4)\n",
    "    \n",
    "    pcurr = f.p\n",
    "    beta, d, Q = m.beta, m.d, m.Q\n",
    "\n",
    "    for i in 1:maxiter\n",
    "\n",
    "        pnext = beta * (Q * (d + pcurr))\n",
    "        \n",
    "        err = maxabs(pnext - pcurr)\n",
    "        copy!(f.p, pnext)\n",
    "        \n",
    "        if i % 100 == 0; @printf(\"Iteration %d, distance = %1.4f\\n\", i, err); end\n",
    "        \n",
    "        if err < tol; break; end\n",
    "        \n",
    "    end\n",
    "    \n",
    "    @printf(\"The equilibrium price function is: p(NG) = %1.4f, p(MR) = %1.4f, p(SR) = %1.4f\\n\", f.p[1], f.p[2], f.p[3])\n",
    "    \n",
    "    return f\n",
    "end "
   ]
  },
  {
   "cell_type": "markdown",
   "metadata": {},
   "source": [
    "In order to run the first test of the code I write a function which assigns the primitives (and checks that I write a proper stochastic matrix!)."
   ]
  },
  {
   "cell_type": "code",
   "execution_count": 3,
   "metadata": {
    "collapsed": false
   },
   "outputs": [
    {
     "data": {
      "text/plain": [
       "test1 (generic function with 1 method)"
      ]
     },
     "execution_count": 3,
     "metadata": {},
     "output_type": "execute_result"
    }
   ],
   "source": [
    "function test1()\n",
    "    \n",
    "    beta = .98\n",
    "    nstates = 3\n",
    "    d = [1.; 0.; 0.]\n",
    "    \n",
    "    Q = [.971 .029 0.;\n",
    "        .145 .778 .077;\n",
    "        0. .508 .492]\n",
    "    \n",
    "    if (sum(Q, 2) != ones(nstates, 1)); @printf(\"Q is not a stochastic matrix!\"); end\n",
    "    \n",
    "    return primitives(beta, nstates, d, Q)\n",
    "end"
   ]
  },
  {
   "cell_type": "markdown",
   "metadata": {},
   "source": [
    "Then I can finally run the contraction algorithm to solve for the approximate equilibrium vector."
   ]
  },
  {
   "cell_type": "code",
   "execution_count": 7,
   "metadata": {
    "collapsed": false
   },
   "outputs": [
    {
     "name": "stdout",
     "output_type": "stream",
     "text": [
      "Iteration 100, distance = 0.1078\n",
      "Iteration 200, distance = 0.0143\n",
      "Iteration 300, distance = 0.0019\n",
      "Iteration 400, distance = 0.0003\n",
      "The equilibrium price function is: p(NG) = 40.7549, p(MR) = 35.9560, p(SR) = 34.5671\n"
     ]
    }
   ],
   "source": [
    "eqp1 = solve_rneutral(test1());"
   ]
  },
  {
   "cell_type": "markdown",
   "metadata": {},
   "source": [
    "As expected the equilibrium price of the asset is highest in the normal growth state (NG) (when the asset also pays dividends). In terms of dividends the two recession states are equivalent. However the mild recession state (MR) allows a positive probability of direct transition to the NG state, while the severe recession state (SR) does not allow that. Hence the price in the MR state is higher than in the SR state."
   ]
  },
  {
   "cell_type": "markdown",
   "metadata": {},
   "source": [
    "For the second experiment we use a different specification of the stochastic matrix. The only difference is that, once in the NG state, there is a positive probability of transiting to the SR state directly, and a lower probability of remaining in the NG state."
   ]
  },
  {
   "cell_type": "code",
   "execution_count": 8,
   "metadata": {
    "collapsed": false
   },
   "outputs": [
    {
     "data": {
      "text/plain": [
       "test2 (generic function with 1 method)"
      ]
     },
     "execution_count": 8,
     "metadata": {},
     "output_type": "execute_result"
    }
   ],
   "source": [
    "function test2()\n",
    "    \n",
    "    beta = .98\n",
    "    nstates = 3\n",
    "    d = [1.; 0.; 0.]\n",
    "    \n",
    "    Q = [.871 .029 0.1;\n",
    "        .145 .778 .077;\n",
    "        0. .508 .492]\n",
    "    \n",
    "    if (sum(Q, 2) != ones(nstates, 1)); @printf(\"Q is not a stochastic matrix!\"); end\n",
    "    \n",
    "    return primitives(beta, nstates, d, Q)\n",
    "end"
   ]
  },
  {
   "cell_type": "code",
   "execution_count": 9,
   "metadata": {
    "collapsed": false
   },
   "outputs": [
    {
     "name": "stdout",
     "output_type": "stream",
     "text": [
      "Iteration 100, distance = 0.0597\n",
      "Iteration 200, distance = 0.0079\n",
      "Iteration 300, distance = 0.0011\n",
      "Iteration 400, distance = 0.0001\n",
      "The equilibrium price function is: p(NG) = 23.4963, p(MR) = 21.0940, p(SR) = 20.2791\n"
     ]
    }
   ],
   "source": [
    "solve_rneutral(test2());"
   ]
  },
  {
   "cell_type": "markdown",
   "metadata": {},
   "source": [
    "The change in the stochastic matrix has a large impact on the equilibrium price vector. Clearly, the ranking of prices across states is unchanged. However the entire level is significantly lower than before. With risk-neutral pricing, this happens because the process will spend more time in states where the asset pays no dividend, thus being intrinsically less able to generate income flows than before. This is reflected in a lower equilibrium price."
   ]
  },
  {
   "cell_type": "markdown",
   "metadata": {},
   "source": [
    "**Exercise 2**\n",
    "\n",
    "The proof is similar to the homogenous belief case. Let $d\\in b\\mathbb{R}^S$.\n",
    "\n",
    "*Step 1:* prove that $T: b\\mathbb{R}^S \\rightarrow b\\mathbb{R}^S$\n",
    "\n",
    "Let $p \\in b\\mathbb{R}^S$ and $x \\in S$. Notice that, if we let $b_i = 0$ for all $i$, the inequality suggested in the exercise implies $\\mid \\max_i a_i\\mid \\leq \\max_i \\mid a_i\\mid$. Then\n",
    "\n",
    "\\begin{equation}\n",
    "\\mid Tp(x) \\mid = \\beta \\mid \\max_i \\left\\{ \\sum_y\\left[ d(y) + p(y)\\right]q_i(x, y)\\right\\} \\mid\n",
    "\\end{equation}\n",
    "\n",
    "\\begin{equation}\n",
    "\\leq \\beta \\max_i \\left\\{ \\mid \\sum_y\\left[ d(y) + p(y)\\right]q_i(x, y)\\mid\\right\\}\n",
    "\\end{equation}\n",
    "\n",
    "Take any $i$. Then\n",
    "\n",
    "\\begin{equation}\n",
    "\\mid \\sum_y\\left[ d(y) + p(y)\\right]q_i(x, y)\\mid \\leq \\sum_y\\mid d(y) + p(y)\\mid q_i(x, y) \\leq \\sum_y \\left[\\lVert d \\rVert_\\infty + \\lVert p \\rVert_\\infty\\right] q_i(x, y) = \\lVert d \\rVert_\\infty + \\lVert p \\rVert_\\infty < \\infty \\mbox{ by assumption}\n",
    "\\end{equation}\n",
    "\n",
    "Notice that the bound is independent of $i$, which implies\n",
    "\n",
    "\\begin{equation}\n",
    "\\mid Tp(x) \\mid \\leq \\beta \\max_i \\left\\{ \\mid \\sum_y\\left[ d(y) + p(y)\\right]q_i(x, y)\\mid\\right\\} \\leq \\beta\\left[\\lVert d \\rVert_\\infty + \\lVert p \\rVert_\\infty\\right]\n",
    "\\end{equation}\n",
    "\n",
    "Since $x$ is arbitrary, $\\lVert Tp \\rVert_\\infty < \\infty$ i.e. $Tp \\in b\\mathbb{R}^S$.\n",
    "\n",
    "*Step 2:* prove that $T$ is a uniform contraction on $(b\\mathbb{R}^S, d_\\infty$)\n",
    "\n",
    "Let $p, p' \\in b\\mathbb{R}^S$ and $x \\in S$. Then\n",
    "\n",
    "\\begin{equation}\n",
    "\\mid Tp(x) - Tp'(x) \\mid = \\beta \\mid \\max_i \\left\\{ \\sum_y\\left[ d(y) + p(y)\\right]q_i(x, y)\\right\\} - \\max_i \\left\\{ \\sum_y\\left[ d(y) + p'(y)\\right]q_i(x, y)\\right\\} \\mid\n",
    "\\end{equation}\n",
    "\n",
    "\\begin{equation}\n",
    "\\leq \\beta \\max_i \\left\\{ \\mid \\sum_y\\left[ d(y) + p(y)\\right]q_i(x, y) - \\sum_y\\left[ d(y) + p'(y)\\right]q_i(x, y) \\mid \\right\\} = \\beta \\max_i \\left\\{ \\mid \\sum_y\\left[ p(y) - p'(y)\\right]q_i(x, y)\\mid \\right\\}\n",
    "\\end{equation}\n",
    "\n",
    "were the inequality is obtained using the result suggested in the exercise.\n",
    "\n",
    "Take any $i$. Notice that, since $b\\mathbb{R}^S$ is a vector space, $p - p' \\in b\\mathbb{R}^S$. Then\n",
    "\n",
    "\\begin{equation}\n",
    "\\mid \\sum_y\\left[ p(y) - p'(y)\\right]q_i(x, y)\\mid \\leq \\sum_y\\mid p(y) - p'(y)\\mid q_i(x, y) \\leq \\sum_y \\lVert p - p' \\rVert_\\infty q_i(x, y) = \\lVert p - p' \\rVert_\\infty\n",
    "\\end{equation}\n",
    "\n",
    "Again the bound is independent of $i$. Hence\n",
    "\n",
    "\\begin{equation}\n",
    "\\mid Tp(x) - Tp'(x) \\mid \\leq \\beta \\max_i \\left\\{ \\mid \\sum_y\\left[ p(y) - p'(y)\\right]q_i(x, y)\\mid \\right\\} \\leq \\beta \\lVert p - p' \\rVert_\\infty\n",
    "\\end{equation}\n",
    "\n",
    "and since $x$ was arbitrary, $\\lVert Tp - Tp' \\rVert_\\infty \\leq \\beta \\lVert p - p' \\rVert_\\infty$ i.e. $T$ is a uniform contraction on $(b\\mathbb{R}^S, d_\\infty$)\n",
    "\n",
    "**Proving the inequality**\n",
    "\n",
    "Let us assume that $\\sup_i a_i<\\infty$ and $\\sup_i b_i<\\infty$. Then\n",
    "\n",
    "\\begin{equation}\n",
    "sup_i a_i = sup_i (a_i - b_i + b_i) \\leq sup_i (a_i - b_i) + sup_i b_i\n",
    "\\end{equation}\n",
    "\n",
    "Thus\n",
    "\n",
    "\\begin{equation}\n",
    "sup_i a_i - sup_i b_i \\leq sup_i (a_i - b_i) \\leq sup_i \\mid a_i - b_i \\mid\n",
    "\\end{equation}\n",
    "\n",
    "We can then do the same with $b_i$ and get\n",
    "\n",
    "\\begin{equation}\n",
    "sup_i b_i - sup_i a_i = -( sup_i a_i - sup_i b_i)\\leq sup_i \\mid a_i - b_i \\mid\n",
    "\\end{equation}\n",
    "\n",
    "Hence\n",
    "\n",
    "\\begin{equation}\n",
    "\\mid sup_i a_i - sup_i b_i \\mid \\leq sup_i \\mid a_i - b_i \\mid\n",
    "\\end{equation}\n"
   ]
  },
  {
   "cell_type": "markdown",
   "metadata": {},
   "source": [
    "**Exercise 3**\n",
    "\n",
    "For this exercise I create a new type *primitives_heterog* which holds, among other things, the two transition probabilities corresponding to the two beliefs on the evolution of the aggregate state."
   ]
  },
  {
   "cell_type": "code",
   "execution_count": 10,
   "metadata": {
    "collapsed": false,
    "scrolled": true
   },
   "outputs": [],
   "source": [
    "type primitives_heterog\n",
    "    beta::Float64 # discount factor\n",
    "    nstates::Int64 # cardinality of S, assumed finite\n",
    "    d::Vector{Float64} # dividend flow for each state i in S\n",
    "    Q1::Matrix{Float64} # stochastic matrix for states of agent 1\n",
    "    Q2::Matrix{Float64} # stochastic matrix for states of agent 2\n",
    "end"
   ]
  },
  {
   "cell_type": "markdown",
   "metadata": {},
   "source": [
    "Then I write a function that solves for the equilibrium price vector using the contraction mapping theorem. Notice that this time the contraction is written in compact form as a row-wise maximum. As a matter of fact, for each state, the price of the asset is the maximum discounted expected valuation of the asset in the following period."
   ]
  },
  {
   "cell_type": "code",
   "execution_count": 11,
   "metadata": {
    "collapsed": false
   },
   "outputs": [
    {
     "data": {
      "text/plain": [
       "solve_rneutral_heterog (generic function with 1 method)"
      ]
     },
     "execution_count": 11,
     "metadata": {},
     "output_type": "execute_result"
    }
   ],
   "source": [
    "function solve_rneutral_heterog(m::primitives_heterog; f = pricefn(zeros(m.nstates)), maxiter = 1000, tol = 1e-4)\n",
    "    \n",
    "    pcurr = f.p\n",
    "    beta, d, Q1, Q2 = m.beta, m.d, m.Q1, m.Q2\n",
    "\n",
    "    for i in 1:maxiter\n",
    "\n",
    "        pnext = beta * max(Q1 * (d + pcurr),  Q2 * (d + pcurr))\n",
    "        \n",
    "        err = maxabs(pnext - pcurr)\n",
    "        copy!(f.p, pnext)\n",
    "        \n",
    "        if i % 100 == 0; @printf(\"Iteration %d, distance = %1.4f\\n\", i, err); end\n",
    "        \n",
    "        if err < tol; break; end\n",
    "        \n",
    "    end\n",
    "    \n",
    "    @printf(\"The equilibrium price function is: p(NG) = %1.4f, p(MR) = %1.4f, p(SR) = %1.4f\\n\", f.p[1], f.p[2], f.p[3])\n",
    "    \n",
    "    return f\n",
    "end "
   ]
  },
  {
   "cell_type": "markdown",
   "metadata": {},
   "source": [
    "The test function now assigns the two stochastic matrixes to the different agents."
   ]
  },
  {
   "cell_type": "code",
   "execution_count": 12,
   "metadata": {
    "collapsed": false
   },
   "outputs": [
    {
     "data": {
      "text/plain": [
       "test_heterog (generic function with 1 method)"
      ]
     },
     "execution_count": 12,
     "metadata": {},
     "output_type": "execute_result"
    }
   ],
   "source": [
    "function test_heterog()\n",
    "    \n",
    "    beta = .98\n",
    "    nstates = 3\n",
    "    d = [1.; 0.; 0.]\n",
    "    \n",
    "    Q1 = [.971 .029 0.;\n",
    "        .145 .778 .077;\n",
    "        0. .508 .492]\n",
    "    \n",
    "    Q2 = [.871 .029 0.1;\n",
    "        .145 .778 .077;\n",
    "        0. .508 .492]\n",
    "    \n",
    "    if (sum(Q1, 2) != ones(nstates, 1)); @printf(\"Q1 is not a stochastic matrix!\"); end\n",
    "    if (sum(Q2, 2) != ones(nstates, 1)); @printf(\"Q2 is not a stochastic matrix!\"); end\n",
    "    \n",
    "    return primitives_heterog(beta, nstates, d, Q1, Q2)\n",
    "end"
   ]
  },
  {
   "cell_type": "code",
   "execution_count": 14,
   "metadata": {
    "collapsed": false
   },
   "outputs": [
    {
     "name": "stdout",
     "output_type": "stream",
     "text": [
      "Iteration 100, distance = 0.1078\n",
      "Iteration 200, distance = 0.0143\n",
      "Iteration 300, distance = 0.0019\n",
      "Iteration 400, distance = 0.0003\n",
      "The equilibrium price function is: p(NG) = 40.7549, p(MR) = 35.9560, p(SR) = 34.5671\n"
     ]
    }
   ],
   "source": [
    "eqp_heterog = solve_rneutral_heterog(test_heterog());"
   ]
  },
  {
   "cell_type": "code",
   "execution_count": 15,
   "metadata": {
    "collapsed": false
   },
   "outputs": [
    {
     "data": {
      "text/plain": [
       "0.0"
      ]
     },
     "execution_count": 15,
     "metadata": {},
     "output_type": "execute_result"
    }
   ],
   "source": [
    "maxabs(eqp1.p - eqp_heterog.p)"
   ]
  },
  {
   "cell_type": "markdown",
   "metadata": {},
   "source": [
    "Solving for the equilibrium price vector confirms what we expected: the equilibrium price vector corresponds to the price vector of the agent with the highest valuation, which in this case is agent 1"
   ]
  }
 ],
 "metadata": {
  "kernelspec": {
   "display_name": "Julia 0.4.3-pre",
   "language": "julia",
   "name": "julia-0.4"
  },
  "language_info": {
   "file_extension": ".jl",
   "mimetype": "application/julia",
   "name": "julia",
   "version": "0.4.4"
  }
 },
 "nbformat": 4,
 "nbformat_minor": 0
}
