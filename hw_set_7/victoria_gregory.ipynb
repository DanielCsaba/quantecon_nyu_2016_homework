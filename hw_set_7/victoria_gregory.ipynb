{
 "cells": [
  {
   "cell_type": "markdown",
   "metadata": {},
   "source": [
    "## Problem Set 7\n",
    "\n",
    "**Victoria Gregory**, N14207660\n",
    "\n",
    "3/28/2016\n",
    "\n"
   ]
  },
  {
   "cell_type": "markdown",
   "metadata": {},
   "source": [
    "### Question 1\n",
    "\n",
    "In this problem set, we compute some equilibrium price functions, $p()$ which satisfy:\n",
    "\n",
    "$$\n",
    "p(x) = \\beta \\displaystyle \\sum_{y \\in S} [d(y) + p(y)]q(x,y)\n",
    "$$\n",
    "\n",
    "where $d(y)$ is a function for dividends in state $y \\in S$, $q(x,y)$ is a state transition matrix, and $\\beta < 1$ is the discount rate.\n",
    "\n",
    "To find $p()$, we will start with an initial guess, compute the left-hand side of the above equation as our new guess, and repeat. We stop when the sup-norm of the two guesses is within some tolerance level. The Julia function below implements this method."
   ]
  },
  {
   "cell_type": "code",
   "execution_count": 8,
   "metadata": {
    "collapsed": false
   },
   "outputs": [
    {
     "data": {
      "text/plain": [
       "eq_price (generic function with 1 method)"
      ]
     },
     "execution_count": 8,
     "metadata": {},
     "output_type": "execute_result"
    }
   ],
   "source": [
    "function eq_price(beta,d,Q,p_init,tol)\n",
    "    dist = 1;\n",
    "    p_guess = p_init;\n",
    "    while dist > tol\n",
    "        LHS = beta*Q*(d+p_guess);\n",
    "        dist = maximum(abs(p_guess-LHS));\n",
    "        p_guess = LHS;\n",
    "    end\n",
    "    return p_guess;\n",
    "end"
   ]
  },
  {
   "cell_type": "markdown",
   "metadata": {},
   "source": [
    "Now, I set up the primitives, like the dividend function, $\\beta$, and some different $Q$'s, as well as an initial guess for the pricing function and a tolerance level."
   ]
  },
  {
   "cell_type": "code",
   "execution_count": 9,
   "metadata": {
    "collapsed": false
   },
   "outputs": [],
   "source": [
    "d = float([1 0 0])';\n",
    "beta = 0.98;\n",
    "Q1 = [0.971 0.029 0; 0.145 0.778 0.077; 0 0.508 0.492];\n",
    "Q2 = [0.871 0.029 0.1; 0.145 0.778 0.077; 0 0.508 0.492];\n",
    "p_init = ones(length(d),1);\n",
    "tol = 0.00000000001;"
   ]
  },
  {
   "cell_type": "markdown",
   "metadata": {},
   "source": [
    "Now, I evaluate the function for the two different transition matrices."
   ]
  },
  {
   "cell_type": "code",
   "execution_count": 5,
   "metadata": {
    "collapsed": false
   },
   "outputs": [
    {
     "data": {
      "text/plain": [
       "3x1 Array{Float64,2}:\n",
       " 40.7598\n",
       " 35.9609\n",
       " 34.572 "
      ]
     },
     "execution_count": 5,
     "metadata": {},
     "output_type": "execute_result"
    }
   ],
   "source": [
    "price1 = eq_price(beta,d,Q1,p_init,tol)"
   ]
  },
  {
   "cell_type": "code",
   "execution_count": 6,
   "metadata": {
    "collapsed": false
   },
   "outputs": [
    {
     "data": {
      "text/plain": [
       "3x1 Array{Float64,2}:\n",
       " 23.5011\n",
       " 21.0988\n",
       " 20.284 "
      ]
     },
     "execution_count": 6,
     "metadata": {},
     "output_type": "execute_result"
    }
   ],
   "source": [
    "price2 = eq_price(beta,d,Q2,p_init,tol)"
   ]
  },
  {
   "cell_type": "markdown",
   "metadata": {},
   "source": [
    "### Question 2\n",
    "\n",
    "In the heterogeneous beliefs case, the equilibrium condition becomes:\n",
    "\n",
    "$$\n",
    "p(x) = \\beta \\max_{i \\in \\{1,2\\}} \\displaystyle \\sum_{y \\in S} [d(y) + p(y)]q_i(x,y)\n",
    "$$\n",
    "\n",
    "To show there exists a unique solution, we need to prove that $T$:\n",
    "\n",
    "$$\n",
    "Tp(x) = \\beta \\max_{i \\in \\{1,2\\}} \\displaystyle \\sum_{y \\in S} [d(y) + p(y)]q_i(x,y)\n",
    "$$\n",
    "\n",
    "is a uniform contraction. First assume that $d \\in b \\mathbb{R}^s$. To show that $T$ maps bounded functions to bounded functions:\n",
    "\n",
    "\\begin{align*}\n",
    "|Tp(x)| &= \\left\\lvert \\beta \\max_{i \\in \\{1,2\\}} \\displaystyle \\sum_{y \\in S} [d(y) + p(y)]q_i(x,y) \\right\\rvert \\\\\n",
    "& \\leq \\beta \\max_{i \\in \\{1,2\\}} \\displaystyle \\sum_{y \\in S} |d(y) + p(y)|q_i(x,y) \\\\\n",
    "& \\leq \\beta \\max_{i \\in \\{1,2\\}} \\displaystyle \\sum_{y \\in S} (||d(y)||_{\\infty} + ||p(y)||_{\\infty})q_i(x,y) \\\\\n",
    "& \\leq \\beta \\displaystyle \\sum_{y \\in S} \\left[ \\max_{i \\in \\{1,2\\}} (||d(y)||_{\\infty} + ||p(y)||_{\\infty}) q_i(x,y) \\right] \\\\\n",
    "& \\leq \\beta (||d||_{\\infty} + ||p||_{\\infty})\n",
    "\\end{align*}\n",
    "\n",
    "which is bounded. \n",
    "\n",
    "Now to show that $T$ is a uniform contraction, pick any $p, p' \\in b \\mathbb{R}^s$ and let $x \\in S$.\n",
    "\n",
    "\\begin{align*}\n",
    "|Tp(x) - Tp'(x)| &= \\left\\lvert \\beta \\max_{i \\in \\{1,2\\}} \\displaystyle \\sum_{y \\in S} [d(y) + p(y)]q_i(x,y) - \\beta \\max_{i \\in \\{1,2\\}} \\displaystyle \\sum_{y \\in S} [d(y) + p'(y)]q_i(x,y) \\right\\rvert \\\\\n",
    "& \\leq \\beta \\max_{i \\in \\{1,2\\}} \\left\\lvert \\displaystyle \\sum_{y \\in S} (p(y) - p'(y)) q_i(x,y) \\right\\rvert \\\\\n",
    "& \\leq \\beta \\max_{i \\in \\{1,2\\}} \\displaystyle \\sum_{y \\in S} \\left\\lvert p(y) - p'(y) \\right\\rvert q_i(x,y) \\\\\n",
    "& \\leq \\beta \\max_{i \\in \\{1,2\\}} \\displaystyle \\sum_{y \\in S} ||p - p'||_{\\infty} q_i(x,y) \\\\\n",
    "& \\leq \\max \\left\\{\\displaystyle \\sum_{y \\in S} ||p - p'||_{\\infty} q_1(x,y), \\displaystyle \\sum_{y \\in S} ||p - p'||_{\\infty} q_2(x,y) \\right\\} \\\\\n",
    "& = \\beta ||p-p'||_{\\infty}\n",
    "\\end{align*}\n",
    "\n",
    "#### Proof of the hint:\n",
    "\n",
    "\\begin{align*}\n",
    "\\sup_i |a_i - b_i| & \\geq \\left\\lvert \\sup_i(a_i-b_i) \\right\\rvert \\\\\n",
    "& \\geq \\left\\lvert \\sup_i(a_i - \\sup_j (b_j)) \\right\\rvert \\\\\n",
    "&= \\left\\lvert \\sup_i a_i - \\sup_i b_i \\right\\rvert\n",
    "\\end{align*}"
   ]
  },
  {
   "cell_type": "markdown",
   "metadata": {
    "collapsed": true
   },
   "source": [
    "### Question 3\n",
    "\n",
    "I use the same method as in Problem 1, using the following Julia function:\n"
   ]
  },
  {
   "cell_type": "code",
   "execution_count": 1,
   "metadata": {
    "collapsed": false
   },
   "outputs": [
    {
     "data": {
      "text/plain": [
       "eq_price_het (generic function with 1 method)"
      ]
     },
     "execution_count": 1,
     "metadata": {},
     "output_type": "execute_result"
    }
   ],
   "source": [
    "function eq_price_het(beta,d,Q1,Q2,p_init,tol)\n",
    "    dist = 1;\n",
    "    p_guess = p_init;\n",
    "    while dist > tol\n",
    "        LHS = beta*max(Q1*(d+p_guess),Q2*(d+p_guess));\n",
    "        dist = maximum(abs(p_guess-LHS));\n",
    "        p_guess = LHS;\n",
    "    end\n",
    "    return p_guess;\n",
    "end"
   ]
  },
  {
   "cell_type": "markdown",
   "metadata": {},
   "source": [
    "Using the two transition matrices from Problem 1, I get the following price function:"
   ]
  },
  {
   "cell_type": "code",
   "execution_count": 7,
   "metadata": {
    "collapsed": false
   },
   "outputs": [
    {
     "data": {
      "text/plain": [
       "3x1 Array{Float64,2}:\n",
       " 40.7598\n",
       " 35.9609\n",
       " 34.572 "
      ]
     },
     "execution_count": 7,
     "metadata": {},
     "output_type": "execute_result"
    }
   ],
   "source": [
    "price_het = eq_price_het(beta,d,Q1,Q2,p_init,tol)"
   ]
  },
  {
   "cell_type": "markdown",
   "metadata": {},
   "source": [
    "The same as in Problem 1 using matrix $Q_1$."
   ]
  }
 ],
 "metadata": {
  "kernelspec": {
   "display_name": "Julia 0.4.3",
   "language": "julia",
   "name": "julia-0.4"
  },
  "language_info": {
   "file_extension": ".jl",
   "mimetype": "application/julia",
   "name": "julia",
   "version": "0.4.3"
  }
 },
 "nbformat": 4,
 "nbformat_minor": 0
}
