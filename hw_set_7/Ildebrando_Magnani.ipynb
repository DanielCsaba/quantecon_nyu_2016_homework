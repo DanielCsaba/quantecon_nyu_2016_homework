{
 "cells": [
  {
   "cell_type": "markdown",
   "metadata": {},
   "source": [
    "## ILDEBRANDO MAGNANI\n",
    "\n",
    "Homework 7\n",
    "\n",
    "I'm solving in Python. This code applies the Banach Contraction Mapping Theorem to perform risk neutral asset pricing. The first computational excercise is done under the assumption of homogeneous beliefs, the second one is done in a context of heterogeneous beliefs."
   ]
  },
  {
   "cell_type": "markdown",
   "metadata": {},
   "source": [
    "## Excercise 1:"
   ]
  },
  {
   "cell_type": "markdown",
   "metadata": {},
   "source": [
    "This is the case of homogeneous beliefs. First, I define the primitives - the 2 transition matrices, the initial price function and the dividend function."
   ]
  },
  {
   "cell_type": "code",
   "execution_count": 1,
   "metadata": {
    "collapsed": false
   },
   "outputs": [],
   "source": [
    "import numpy as np\n",
    "\n",
    "Transition_matrix_1 = np.array([[0.971, 0.029,     0],\n",
    "                                [0.145, 0.778, 0.077],\n",
    "                                [    0, 0.508, 0.492]])\n",
    "\n",
    "Transition_matrix_2 = np.array([[0.871, 0.029,   0.1],\n",
    "                                [0.145, 0.778, 0.077],\n",
    "                                [    0, 0.508, 0.492]])\n",
    "\n",
    "Initial_p = np.array([[1.0],\n",
    "                      [1.0],\n",
    "                      [1.0]])\n",
    "\n",
    "Dividend = np.array([[1.0],\n",
    "                     [0.0],\n",
    "                     [0.0]])        "
   ]
  },
  {
   "cell_type": "markdown",
   "metadata": {},
   "source": [
    "Now I'm going to generate a function that applies the contraction mapping and returns an approximation to the equilibrium price function, through iteration."
   ]
  },
  {
   "cell_type": "code",
   "execution_count": 113,
   "metadata": {
    "collapsed": true
   },
   "outputs": [],
   "source": [
    "def mapping(Transition_matrix, Initial_p, Dividend):\n",
    "    p = Initial_p\n",
    "    for i in enumerate(range(max_iteration)): \n",
    "        T_p = beta * Transition_matrix @ (p + Dividend)\n",
    "        diff = T_p - p\n",
    "        abs_diff = np.absolute(diff)\n",
    "        max_diff = np.amax(abs_diff)\n",
    "        if max_diff <= tol:\n",
    "            ni = i\n",
    "            break\n",
    "        p[:] = T_p\n",
    "    print(ni, 'number of iterations')\n",
    "    return T_p"
   ]
  },
  {
   "cell_type": "markdown",
   "metadata": {},
   "source": [
    "We compute the equilibrium using the first transition matrix \"Transition_matrix_1\"."
   ]
  },
  {
   "cell_type": "code",
   "execution_count": 114,
   "metadata": {
    "collapsed": false
   },
   "outputs": [
    {
     "name": "stdout",
     "output_type": "stream",
     "text": [
      "(444, 444) number of iterations\n"
     ]
    },
    {
     "data": {
      "text/plain": [
       "array([[ 40.75493575],\n",
       "       [ 35.95604382],\n",
       "       [ 34.56716376]])"
      ]
     },
     "execution_count": 114,
     "metadata": {},
     "output_type": "execute_result"
    }
   ],
   "source": [
    "tol = 0.0001\n",
    "max_iteration = 10000\n",
    "beta = 0.98\n",
    "ni = max_iteration\n",
    "\n",
    "\n",
    "mapping(Transition_matrix_1, Initial_p, Dividend)"
   ]
  },
  {
   "cell_type": "markdown",
   "metadata": {},
   "source": [
    "As expected, the price is higher when we have a normal growth, as in this state we have dividends. The fact that the mild growth state has a positive probability of direct transition to normal growth - contrary to the negative growth state - makes the equilibrium price in MG higher than the equilibrium price in NG."
   ]
  },
  {
   "cell_type": "markdown",
   "metadata": {},
   "source": [
    "We now compute the equilibrium using the second transition matrix \"Transition_matrix_2\"."
   ]
  },
  {
   "cell_type": "code",
   "execution_count": 115,
   "metadata": {
    "collapsed": false,
    "scrolled": true
   },
   "outputs": [
    {
     "name": "stdout",
     "output_type": "stream",
     "text": [
      "(400, 400) number of iterations\n"
     ]
    },
    {
     "data": {
      "text/plain": [
       "array([[ 23.50593972],\n",
       "       [ 21.1036361 ],\n",
       "       [ 20.28875772]])"
      ]
     },
     "execution_count": 115,
     "metadata": {},
     "output_type": "execute_result"
    }
   ],
   "source": [
    "tol = 0.0001\n",
    "max_iteration = 10000\n",
    "beta = 0.98\n",
    "ni = max_iteration\n",
    "\n",
    "\n",
    "mapping(Transition_matrix_2, Initial_p, Dividend)"
   ]
  },
  {
   "cell_type": "markdown",
   "metadata": {},
   "source": [
    "Generalized lower equilibrium prices are the results of risk neutral asset pricing. In fact, with the second transition matrix we have a positive probability of direct transition from normal growth to negative growth, which imposes more \"weight\" on a state which has a dividend of zero. "
   ]
  },
  {
   "cell_type": "markdown",
   "metadata": {},
   "source": [
    "## Excercise 2:\n",
    "\n",
    "(Analytical part)"
   ]
  },
  {
   "cell_type": "markdown",
   "metadata": {},
   "source": [
    "The proof is very similar to the previous one.\n",
    "\n",
    "\\begin{equation}\n",
    "\\left|\\mathbb{T}p(x)\\right| \\leq \\beta \\left|\\max_{i\\in{1,2}} \\left[\\sum_{y \\in S}[d(y) + p(y)]q_{i}(x,y)\\right]\\right|\n",
    "\\leq \\beta \\max_{i\\in{1,2}} \\left[\\sum_{y \\in S}\\left|[d(y) + p(y)]\\right| q_{i}(x,y)\\right]\n",
    "\\end{equation}\n",
    "\n",
    "\\begin{equation} \n",
    "\\leq \\beta \\max_{i\\in{1,2}} \\sum_{y \\in S}[ \\lVert\\ d(y) \\rVert_\\infty + \\lVert\\ p(y) \\rVert_\\infty] q_{i}(x,y) \\leq \\beta \\max_{i\\in{1,2}} (\\lVert\\ d(y) \\rVert_\\infty + \\lVert\\ p(y) \\rVert_\\infty) \\sum_{y \\in S}q_{i}(x,y) = \\beta (\\lVert\\ d(y) \\rVert_\\infty + \\lVert\\ p(y) \\rVert_\\infty) S\n",
    "\\end{equation}\n",
    "\n",
    "Therefore:\n",
    "\n",
    "\\begin{equation}\n",
    "\\left|\\mathbb{T}p(x) - \\mathbb{T}p'(x)\\right| = \\left|\\beta \\max_{i\\in{1,2}} \\sum_{y \\in S}[d(y) + p(y)]q_{i}(x,y) - \\beta \\max_{i\\in{1,2}} \\sum_{y \\in S}[d(y) + p'(y)]q_{i}(x,y)\\right|\n",
    "\\end{equation}\n",
    "\n",
    "(This step follows from the inequality suggested in the homework sheet)\n",
    "\n",
    "\\begin{equation}\n",
    "\\leq \\beta \\left|\\max_{i\\in{1,2}} \\left[\\sum_{y \\in S}[d(y) + p(y)]q_{i}(x,y) - \\sum_{y \\in S}[d(y) + p'(y)]q_{i}(x,y)\\right]\\right| \\leq \\beta \\max_{i\\in{1,2}} \\left|\\sum_{y \\in S}[p(y) - p'(y)]q_{i}(x,y)\\right|\n",
    "\\end{equation}\n",
    "\n",
    "\\begin{equation}\n",
    "= \\beta \\max_{i\\in{1,2}} \\sum_{y \\in S} \\left|[p(y) - p'(y)]q_{i}(x,y)\\right| = \\beta \\max_{i\\in{1,2}} \\sum_{y \\in S} \\left|[p(y) - p'(y)]\\right| q_{i}(x,y) = \\beta \\max_{i\\in{1,2}} \\sum_{y \\in S} \\left|[p(y) - p'(y)]\\right| q_{i}(x,y)\n",
    "\\end{equation}\n",
    "\n",
    "\\begin{equation}\n",
    "= \\beta \\max_{i\\in{1,2}} \\sum_{y \\in S}[ \\lVert\\ p(y) \\rVert_\\infty - \\lVert\\ p'(y) \\rVert_\\infty]q_{i}(x,y) = \\beta \\max_{i\\in{1,2}} [ \\lVert\\ p(y) \\rVert_\\infty - \\lVert\\ p'(y) \\rVert_\\infty] \\sum_{y \\in S}q_{i}(x,y) = \\beta [ \\lVert\\ p(y) \\rVert_\\infty - \\lVert\\ p'(y) \\rVert_\\infty]\n",
    "\\end{equation}\n",
    "\n",
    "\n",
    "It therefore follows that:\n",
    "\n",
    "\\begin{equation}\n",
    "\\lVert\\ \\mathbb{T}p(x) - \\mathbb{T}p'(x)\\rVert_\\infty \\leq \\beta \\lVert\\ p - p'\\rVert_\\infty\n",
    "\\end{equation}\n",
    "\n",
    "since x $ \\in $ S was arbitrary. Thus, *T* is a uniform contraction.\n",
    "\n",
    "\n",
    "\n",
    "\n",
    "\n",
    "\n",
    "\n",
    "\n",
    "\n",
    "\n",
    "\n"
   ]
  },
  {
   "cell_type": "markdown",
   "metadata": {},
   "source": [
    "## Excercise 3:"
   ]
  },
  {
   "cell_type": "markdown",
   "metadata": {},
   "source": [
    "This is the case of heterogeneous beliefs. The mapping function is slightly modified to compute the elementwise max of the \"price function vector\" at each iterative step."
   ]
  },
  {
   "cell_type": "code",
   "execution_count": 116,
   "metadata": {
    "collapsed": true
   },
   "outputs": [],
   "source": [
    "def mapping(Transition_matrix_1, Transition_matrix_2, Initial_p, Dividend):\n",
    "    p = Initial_p\n",
    "    for i in enumerate(range(max_iteration)): \n",
    "        T_p_1 = beta * Transition_matrix_1 @ (p + Dividend)\n",
    "        T_p_2 = beta * Transition_matrix_2 @ (p + Dividend)\n",
    "        T_p = np.maximum(T_p_1, T_p_2)\n",
    "        diff = T_p - p\n",
    "        abs_diff = np.absolute(diff)\n",
    "        max_diff = np.amax(abs_diff)\n",
    "        if max_diff <= tol:\n",
    "            ni = i\n",
    "            break\n",
    "        p[:] = T_p\n",
    "    print(ni, 'number of iterations')\n",
    "    return T_p"
   ]
  },
  {
   "cell_type": "code",
   "execution_count": 117,
   "metadata": {
    "collapsed": false
   },
   "outputs": [
    {
     "name": "stdout",
     "output_type": "stream",
     "text": [
      "(402, 402) number of iterations\n"
     ]
    },
    {
     "data": {
      "text/plain": [
       "array([[ 40.75488598],\n",
       "       [ 35.95599406],\n",
       "       [ 34.56711399]])"
      ]
     },
     "execution_count": 117,
     "metadata": {},
     "output_type": "execute_result"
    }
   ],
   "source": [
    "tol = 0.0001\n",
    "max_iteration = 10000\n",
    "beta = 0.98\n",
    "ni = max_iteration\n",
    "\n",
    "mapping(Transition_matrix_1, Transition_matrix_2, Initial_p, Dividend)"
   ]
  }
 ],
 "metadata": {
  "kernelspec": {
   "display_name": "Python 3",
   "language": "python",
   "name": "python3"
  },
  "language_info": {
   "codemirror_mode": {
    "name": "ipython",
    "version": 3
   },
   "file_extension": ".py",
   "mimetype": "text/x-python",
   "name": "python",
   "nbconvert_exporter": "python",
   "pygments_lexer": "ipython3",
   "version": "3.5.1"
  }
 },
 "nbformat": 4,
 "nbformat_minor": 0
}
