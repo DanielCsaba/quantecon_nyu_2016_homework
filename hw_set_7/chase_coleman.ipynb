{
 "cells": [
  {
   "cell_type": "markdown",
   "metadata": {},
   "source": [
    "# Homework Set 7\n",
    "\n",
    "**Author**: Chase Coleman\n",
    "\n",
    "**NYU ID**: N10827183\n",
    "\n",
    "**Date**: 31 March 2016"
   ]
  },
  {
   "cell_type": "code",
   "execution_count": 1,
   "metadata": {
    "collapsed": true
   },
   "outputs": [],
   "source": [
    "import numpy as np"
   ]
  },
  {
   "cell_type": "markdown",
   "metadata": {},
   "source": [
    "## Preliminary Description\n",
    "\n",
    "As in the lecture, let dividends be given by $D_t = d(X_t)$ for some state process $\\{ X_t \\}$. The state process takes values in a countable set $S$, called the state space. We let the transition probabilities for the state be given by\n",
    "\n",
    "$$q(x, y) := \\mathbb{P}\\{ X_{t+1} = y | X_t = x\\} \\quad (x, y \\in S)$$\n",
    "\n",
    "As discussed in the lecture, an equilibrium price function is a function $p$ on $S$ that satisfies\n",
    "\n",
    "$$p(x) = \\beta \\sum_{y \\in S} [d(y) + p(y)] q(x, y)$$\n",
    "\n",
    "for all $x \\in S$. Assume in all of what follows that $\\beta \\in (0, 1)$ and that $d$ is any function from $S$ to $(0, \\infty)$.\n",
    "\n",
    "Below I state a theorem on existence and uniqueness that is similar to the classic work of Lucas (1978) on asset pricing, although I'll stick to the risk neutral case to simplify the discussion.\n",
    "\n",
    "Incidentally, this theorem is not the best we can do, but it's proof is relatively easy. Please read carefully, so you can apply similar ideas in the exercise.\n",
    "\n",
    "**Theorem** _If $d \\in b \\mathbb{R}^S$, then there exists a unique equilibrium price function $p^* \\in b \\mathbb{R}^S$. Moreover, if $p$ is any function in $b \\mathbb{R}^S$, then $d_\\infty(T^k p, p^*) \\rightarrow 0$ as $k \\rightarrow \\infty$, where_\n",
    "\n",
    "$$T p(x) = \\beta \\sum_{y \\in S} [d(y) + p(y)] q(x, y) \\quad (x \\in S)$$\n",
    "\n",
    "_Proof_: It suffices to show that $T$ is a uniform contraction on $(b \\mathbb{R}^S, d_{\\infty})$ whenever $d \\in b \\mathbb{R}^S$. Assuming that $d \\in b \\mathbb{R}^S$, to show that $T$ has the stated properties, we must first show that $T$ does in fact map $b \\mathbb{R}^S$ into itself. To see this, observe that, for any given $p \\in b \\mathbb{R}^S$ and any $x \\in S$,\n",
    "\n",
    "\\begin{align*}\n",
    "  | T p(x) | &= \\beta \\sum_{y \\in S} [d(y) + p(y)] q(x,y) \\\\\n",
    "  &\\leq \\beta \\sum_{y \\in S} |d(y) + p(y)| q(x, y) \\\\\n",
    "  &\\leq \\beta \\sum_{y \\in S}( ||d||_{\\infty} + ||p||_{\\infty}) q(x, y) \\\\\n",
    "  &= \\beta ( ||d||_{\\infty} + ||p||_{\\infty})\n",
    "\\end{align*}\n",
    "\n",
    "This bound is uniform over $x$ so taking the supremum on the left hand side gives $||Tp||_{\\infty} < \\infty$. In other words, $Tp \\in b \\mathbb{R}^S$.\n",
    "\n",
    "To see that $T$ is a uniform contraction, pick any $p, p' \\in b \\mathbb{R}^S$ and let $x$ be any element of $S$. We have\n",
    "\n",
    "\\begin{align*}\n",
    "  | T p(x) - Tp'(x)| &= \\beta \\sum_{y \\in S} [p(x) - p'(x)] q(x, y) \\\\\n",
    "  &\\leq \\beta \\sum_{y \\in S} ||p - p'||_{\\infty} q(x, y) \\\\\n",
    "  &= \\beta || p - p' ||_{\\infty}\n",
    "\\end{align*}\n",
    "\n",
    "Since $x \\in S$ was arbitrary, we have\n",
    "\n",
    "$$||Tp - Tp'||_{\\infty} \\leq \\beta ||p - p'||_{\\infty}$$\n",
    "\n",
    "Hence $T$ is a uniform contraction on $(b \\mathbb{R}^S, d_{\\infty})$ as claimed."
   ]
  },
  {
   "cell_type": "markdown",
   "metadata": {},
   "source": [
    "## Exercise 1\n",
    "\n",
    "\n",
    "### Question\n",
    "\n",
    "Provide a Python or Julia function that takes a specification of the primitives and returns an approximation to the equilibrium price function. You can assume that $S$ is finite. The computation method should be iterative, based around the Banach contraction mapping theorem. That is, choose some initial $p \\in b \\mathbb{R}^S$ and repeatedly apply $T$ to obtain $T^k p$ for $k=1,2,\\dots$. As a stopping rule for the iteration, stop when successive iterates are close in the sense of $d_{\\infty}$.\n",
    "\n",
    "To test your code, suppose that the state process for the economy has three states: normal growth, mild recession, and severe recession. The transition probabilities $q_1(x, y)$ are given by\n",
    "\n",
    "$$\\begin{bmatrix} & NG & MR & SR \\\\\n",
    "                  NG & 0.971 & 0.029 & 0.000 \\\\\n",
    "                  MR & 0.145 & 0.778 & 0.077 \\\\\n",
    "                  SR & 0.000 & 0.508 & 0.492  \\end{bmatrix}$$\n",
    "\n",
    "Set dividends to 1 in state NG and zero otherwise. Set $\\beta = 0.98$. Report the corresponding price function.\n",
    "\n",
    "Now repeat, with new transition probabilities $q_2(x, y)$ given by\n",
    "\n",
    "$$\\begin{bmatrix} & NG & MR & SR \\\\\n",
    "                  NG & 0.871 & 0.029 & 0.100 \\\\\n",
    "                  MR & 0.145 & 0.778 & 0.077 \\\\\n",
    "                  SR & 0.000 & 0.508 & 0.492  \\end{bmatrix}$$\n",
    "\n",
    "How do your answers change? Can you give any interpretation?"
   ]
  },
  {
   "cell_type": "markdown",
   "metadata": {},
   "source": [
    "### Solution\n",
    "\n",
    "Below we write code which applies the $T$ operator to solve the pricing problem"
   ]
  },
  {
   "cell_type": "code",
   "execution_count": 2,
   "metadata": {
    "collapsed": true
   },
   "outputs": [],
   "source": [
    "def T_operator(beta, d, p, q):\n",
    "    \"\"\"\n",
    "    Applies the T operator once for a given state x\n",
    "    \n",
    "    Parameters\n",
    "    ----------\n",
    "    beta : scalar(Float64)\n",
    "        Agent's discount factor\n",
    "    d : Array(Float64, ndim=1)\n",
    "        The dividend paid in each state\n",
    "    p : Array(Float64, ndim=1)\n",
    "        The current price function\n",
    "    q : Array(Float64, ndim=1)\n",
    "        Probability of transition from the state x to\n",
    "        each possible state y\n",
    "    \n",
    "    Returns\n",
    "    -------\n",
    "    Tp : scalar(Float64)\n",
    "        The value of T-operator for a specific x\n",
    "    \"\"\"\n",
    "    Tp = beta * np.dot(d+p, q)\n",
    "    return Tp\n",
    "\n",
    "def compute_price_function(beta, d, Q, tol=1e-7, maxit=1000):\n",
    "    \"\"\"\n",
    "    Applies the T operator once for a given state x\n",
    "    \n",
    "    Parameters\n",
    "    ----------\n",
    "    beta : scalar(Float64)\n",
    "        Agent's discount factor\n",
    "    d : Array(Float64, ndim=1)\n",
    "        The dividend paid in each state\n",
    "    p : Array(Float64, ndim=1)\n",
    "        The current price function\n",
    "    q : Array(Float64, ndim=1)\n",
    "        Probability of transition from the state x to\n",
    "        each possible state y\n",
    "    \n",
    "    Returns\n",
    "    -------\n",
    "    Tp : scalar(Float64)\n",
    "        The value of T-operator for a specific x\n",
    "    \"\"\"\n",
    "    # Set-up iteration parameters\n",
    "    niters = 0\n",
    "    dist = 10.0\n",
    "    \n",
    "    # Allocate space to update pricing function\n",
    "    nstates = d.size\n",
    "    p = np.ones(nstates)\n",
    "    Tkp = np.copy(p)\n",
    "    \n",
    "    # Repeatedly apply the T operator to get convergence\n",
    "    # through the Banach contraction theorem\n",
    "    while (niters < maxit) and (dist > tol):\n",
    "        \n",
    "        # Update each state\n",
    "        niters = niters + 1\n",
    "        for i in range(nstates):\n",
    "            # Transition from curr state to tomorrow\n",
    "            q = Q[i, :]\n",
    "            Tkp[i] = T_operator(beta, d, p, q)\n",
    "        \n",
    "        # Compute distance and update prices\n",
    "        dist = np.max(np.abs(p - Tkp))\n",
    "        p[:] = Tkp[:]\n",
    "        \n",
    "    return Tkp\n",
    "        "
   ]
  },
  {
   "cell_type": "markdown",
   "metadata": {},
   "source": [
    "Define the transition matrices and dividend function as we are instructed in the exercise"
   ]
  },
  {
   "cell_type": "code",
   "execution_count": 3,
   "metadata": {
    "collapsed": true
   },
   "outputs": [],
   "source": [
    "Q1 = np.array([[0.971, 0.029, 0.000],\n",
    "               [0.145, 0.778, 0.077],\n",
    "               [0.000, 0.508, 0.492]])\n",
    "\n",
    "Q2 = np.array([[0.871, 0.029, 0.100],\n",
    "               [0.145, 0.778, 0.077],\n",
    "               [0.000, 0.508, 0.492]])\n",
    "\n",
    "d = np.array([1.0, 0.0, 0.0])\n",
    "\n",
    "beta = 0.98"
   ]
  },
  {
   "cell_type": "code",
   "execution_count": 4,
   "metadata": {
    "collapsed": false
   },
   "outputs": [
    {
     "data": {
      "text/plain": [
       "array([ 40.75976974,  35.96087782,  34.57199775])"
      ]
     },
     "execution_count": 4,
     "metadata": {},
     "output_type": "execute_result"
    }
   ],
   "source": [
    "p1 = compute_price_function(beta, d, Q1)\n",
    "p1"
   ]
  },
  {
   "cell_type": "code",
   "execution_count": 5,
   "metadata": {
    "collapsed": false
   },
   "outputs": [
    {
     "data": {
      "text/plain": [
       "array([ 23.50112992,  21.0988263 ,  20.28394791])"
      ]
     },
     "execution_count": 5,
     "metadata": {},
     "output_type": "execute_result"
    }
   ],
   "source": [
    "p2 = compute_price_function(beta, d, Q2)\n",
    "p2"
   ]
  },
  {
   "cell_type": "markdown",
   "metadata": {},
   "source": [
    "Notice that the price in under the first transition matrix is higher than the price under the second transition matrix. Given by\n",
    "\n",
    "\\begin{align*}\n",
    "  p_1(x) = [ 40.75976974,  35.96087782,  34.57199775] \\\\\n",
    "  p_2(x) = [ 23.50112992,  21.0988263 ,  20.28394791] \n",
    "\\end{align*}\n",
    "\n",
    "This is related to the persistence of the state which pays dividends -- Recall that you only receive dividends in the normal growth state, so if you are less likely to stay in that state then the asset is worth less to you."
   ]
  },
  {
   "cell_type": "markdown",
   "metadata": {},
   "source": [
    "## Harrison Kreps Model\n",
    "\n",
    "Now consider the asset pricing problem with heterogeneous beliefs described in Ljunqvist and Sargent. The ideas are originally due to Harrison and Kreps (1978). Here we treat only the mathematical and computational aspects of the problem. See the discussion in either of these references for motivation.\n",
    "\n",
    "The equilibrium condition is modified to\n",
    "\n",
    "$$p(x) = \\beta \\max_{i \\in \\{1,2\\}} \\sum_{y \\in S} [d(y) + p(y)] q_i(x, y) \\quad x \\in S$$\n",
    "\n",
    "where $q_1$ and $q_2$ represent different beliefs about state transition probabilities."
   ]
  },
  {
   "cell_type": "markdown",
   "metadata": {},
   "source": [
    "## Exercise 2\n",
    "\n",
    "### Question\n",
    "\n",
    "Give conditions under which (3) has a unique solution in $b \\mathbb{R}^S$ by extending our earlier analysis (i.e., the case of homoegenous beliefs). Do not assume that $S$ is finite. Give a proof that your conditions are sufficient.\n",
    "\n",
    "Remark: One possibly helpful hint is the following inequality, which holds for any sequences $\\{a_i\\}$ and $\\{b_i\\}$.\n",
    "\n",
    "$$| \\max_i a_i - \\max_i b_i | \\leq \\max_i | a_i - b_i |$$\n",
    "\n",
    "If you use this inequality you should prove that it holds."
   ]
  },
  {
   "cell_type": "markdown",
   "metadata": {},
   "source": [
    "### Answer\n",
    "\n",
    "Define our \"Harrison-Kreps\" operator by\n",
    "\n",
    "$$H p(x) = \\beta \\max_{i \\in \\{1, 2\\} } \\left[ \\sum_{y \\in S} [d(y) + p(y)] q(x, y) \\right]$$\n",
    "\n",
    "Given this operator and the right assumptions, we can prove there exists a unique equilibrium function $p^*$.\n",
    "\n",
    "**Theorem** _If $d \\in b \\mathbb{R}^S$, then there exists a unique equilibrium price function $p^* \\in b \\mathbb{R}^S$ such that for the \"Harrison-Kreps operator $H p^* = p^*$. Moreover, if $p$ is any function in $b \\mathbb{R}^S$, then $d_\\infty(H^k p, p^*) \\rightarrow 0$ as $k \\rightarrow \\infty$,_\n",
    "\n",
    "_Proof_:\n",
    "\n",
    "We know that $(b \\mathbb{R}^S, d_{\\infty})$ is complete. Then it only remains to show that $H$ is a uniform contraction. If $H$ is a uniform contraction then $H$ has a unique fixed point, $p^* \\in b \\mathbb{R}^S$ and $d_{\\infty}(H^k p, p^*) \\leq \\beta^k d_{\\infty}(p, p^*)$.\n",
    "\n",
    "We first verify that $H$ is a self-map. Let $p \\in b \\mathbb{R}^S$, then:\n",
    "\n",
    "\\begin{align*}\n",
    "  H p(x) &\\leq | H p(x) | \\\\\n",
    "  &= \\beta \\max_{i} \\left| \\left[ \\sum_{y \\in S} [d(y) + p(y)] q_i(x, y) \\right] \\right| \\\\\n",
    "  &\\leq \\beta \\max_{i} \\left[ \\sum_{y \\in S} |d(y) + p(y)| q_i(x, y) \\right] \\\\\n",
    "  &\\leq \\beta \\max_{i} \\left[ \\sum_{y \\in S} [ ||d(y)||_{\\infty} + ||p(y)||_{\\infty} ] q_i(x, y) \\right] \\\\\n",
    "  &= \\beta \\max_i [ ||d(y)||_{\\infty} + ||p(y)||_{\\infty} ] \\\\\n",
    "  &= \\beta [ ||d(y)||_{\\infty} + ||p(y)||_{\\infty} ]\n",
    "\\end{align*}\n",
    "\n",
    "Since $d \\in b \\mathbb{R}^S$ and $p \\in b \\mathbb{R}^S$ then $\\beta [ ||d(y)||_{\\infty} + ||p(y)||_{\\infty} ] \\in b \\mathbb{R}^S$ ($H p(x)$ is less than or equal to some bounded number for any $x \\in S$).\n",
    "\n",
    "Next we need to show that $H$ is a uniform contraction. Let $p,p' \\in b \\mathbb{R}^S$ and let $x \\in S$. Note\n",
    "\n",
    "\\begin{align*}\n",
    "  |H p(x) - H p'(x)| &= \\left| \\beta \\max_{i} \\left[ \\sum_{y \\in S} [d(y) + p(y)] q_i(x, y) \\right] - \\beta \\max_{i} \\left[ \\sum_{y \\in S} [d(y) + p'(y)] q_i(x, y) \\right] \\right| \\\\\n",
    "  &\\leq \\beta max_i \\left| \\sum_{y \\in S} \\left[ [d(y) + p(y)] - [d(y) + p'(y)] \\right] q_i(x, y) \\right| \\\\\n",
    "  &= \\beta \\max_i \\left| \\sum_{y \\in S} \\left[ p(y) - p'(y) \\right] q(x, y) \\right| \\\\\n",
    "  &\\leq \\beta ||p(y) - p'(y)||_{\\infty} \\\\\n",
    "\\end{align*}\n",
    "\n",
    "Taking the supremum over $x \\in S$ gives us\n",
    "\n",
    "$$||H p(x) - H p'(x) ||_{\\infty} \\leq \\beta ||p(y) - p'(y)||_{\\infty}$$\n",
    "\n",
    "We assumed $\\beta \\in (0, 1)$ which means this is a uniform contraction. Our desired results are then obtained using the Banach Fixed Point Theorem.\n",
    "\n",
    "**Lemma**: Given two sequences, $a_i$ and $b_i$, show that\n",
    "$$|\\max_i a_i - \\max_i b_i| \\leq \\max_i |a_i - b_i|$$\n",
    "\n",
    "_Proof_: Left unproven"
   ]
  },
  {
   "cell_type": "markdown",
   "metadata": {},
   "source": [
    "## Exercise 3\n",
    "\n",
    "Write a second function that does the same job as the function you wrote for exercise 1, but now for the heterogenous beliefs case. For the computation problem you can assume that $S$ is finite, similar to exercise 1. To test your code, let $q_1$ and $q_2$ be the transition probabilities given in that exercise, and let $d$ and $\\beta$ be as specified in that exercise. Compute the equilibrium price function."
   ]
  },
  {
   "cell_type": "code",
   "execution_count": 6,
   "metadata": {
    "collapsed": true
   },
   "outputs": [],
   "source": [
    "def hk_T_operator(beta, d, p, q1, q2):\n",
    "    \"\"\"\n",
    "    Applies the T operator once for a given state x\n",
    "    \n",
    "    Parameters\n",
    "    ----------\n",
    "    beta : scalar(Float64)\n",
    "        Agent's discount factor\n",
    "    d : Array(Float64, ndim=1)\n",
    "        The dividend paid in each state\n",
    "    p : Array(Float64, ndim=1)\n",
    "        The current price function\n",
    "    q1 : Array(Float64, ndim=1)\n",
    "        Probability of transition from the state x to\n",
    "        each possible state y in beliefs of agent 1\n",
    "    q2 : Array(Float64, ndim=1)\n",
    "        Probability of transition from the state x to\n",
    "        each possible state y in beliefs of agent 2\n",
    "\n",
    "    Returns\n",
    "    -------\n",
    "    Tp : scalar(Float64)\n",
    "        The value of T-operator for a specific x\n",
    "    \"\"\"\n",
    "    Tp = max(beta*np.dot(d+p, q1), beta*np.dot(d+p, q2))\n",
    "    return Tp\n",
    "\n",
    "def hk_compute_price_function(beta, d, Q1, Q2, tol=1e-7, maxit=1000):\n",
    "    \"\"\"\n",
    "    Applies the T operator once for a given state x\n",
    "    \n",
    "    Parameters\n",
    "    ----------\n",
    "    beta : scalar(Float64)\n",
    "        Agent's discount factor\n",
    "    d : Array(Float64, ndim=1)\n",
    "        The dividend paid in each state\n",
    "    Q1 : Array(Float64, ndim=2)\n",
    "        Probability of transition from the state x to\n",
    "        each possible state y in agent 1's beliefs\n",
    "    Q2 : Array(Float64, ndim=2)\n",
    "        Probability of transition from the state x to\n",
    "        each possible state y in agent 1's beliefs\n",
    "\n",
    "    Returns\n",
    "    -------\n",
    "    Tp : scalar(Float64)\n",
    "        The value of T-operator for a specific x\n",
    "    \"\"\"\n",
    "    # Set-up iteration parameters\n",
    "    niters = 0\n",
    "    dist = 10.0\n",
    "    \n",
    "    # Allocate space to update pricing function\n",
    "    nstates = d.size\n",
    "    p = np.ones(nstates)\n",
    "    Tkp = np.copy(p)\n",
    "    \n",
    "    # Repeatedly apply the T operator to get convergence\n",
    "    # through the Banach contraction theorem\n",
    "    while (niters < maxit) and (dist > tol):\n",
    "        \n",
    "        # Update each state\n",
    "        niters = niters+1\n",
    "        for i in range(nstates):\n",
    "            # Transition from curr state to tomorrow\n",
    "            q1 = Q1[i, :]\n",
    "            q2 = Q2[i, :]\n",
    "            \n",
    "            Tkp[i] = hk_T_operator(beta, d, p, q1, q2)\n",
    "\n",
    "        # Compute distance and update prices\n",
    "        dist = np.max(np.abs(p - Tkp))\n",
    "        p[:] = Tkp[:]\n",
    "\n",
    "    return Tkp\n",
    "        "
   ]
  },
  {
   "cell_type": "code",
   "execution_count": 7,
   "metadata": {
    "collapsed": false
   },
   "outputs": [],
   "source": [
    "phk = hk_compute_price_function(beta, d, Q1, Q2)"
   ]
  },
  {
   "cell_type": "code",
   "execution_count": 8,
   "metadata": {
    "collapsed": false
   },
   "outputs": [
    {
     "name": "stdout",
     "output_type": "stream",
     "text": [
      "Price under homogenous beliefs Q1 [ 40.75976974  35.96087782  34.57199775]\n",
      "Price under homogenous beliefs Q2 [ 23.50112992  21.0988263   20.28394791]\n",
      "Price under heterogeneous beliefs [ 40.75976974  35.96087782  34.57199775]\n"
     ]
    }
   ],
   "source": [
    "print(\"Price under homogenous beliefs Q1\", p1)\n",
    "print(\"Price under homogenous beliefs Q2\", p2)\n",
    "print(\"Price under heterogeneous beliefs\", phk)"
   ]
  },
  {
   "cell_type": "markdown",
   "metadata": {},
   "source": [
    "This wasn't a very interesting example because the agent with beliefs $Q1$ always values the asset more than the other agent. However, if we change the beliefs a little, in particular if we make agent 2 think that he is very likely to go from a mild recession back to normal growth, then we are able to get a bubble -- A bubble in the sense that both agents value the asset more than they think it is worth."
   ]
  },
  {
   "cell_type": "code",
   "execution_count": 9,
   "metadata": {
    "collapsed": true
   },
   "outputs": [],
   "source": [
    "Q1 = np.array([[0.971, 0.029, 0.000],\n",
    "               [0.145, 0.778, 0.077],\n",
    "               [0.000, 0.508, 0.492]])\n",
    "\n",
    "Q2 = np.array([[0.871, 0.029, 0.100],\n",
    "               [0.900, 0.009, 0.01],\n",
    "               [0.000, 0.508, 0.492]])\n",
    "\n",
    "d = np.array([1.0, 0.0, 0.0])\n",
    "\n",
    "beta = 0.98"
   ]
  },
  {
   "cell_type": "code",
   "execution_count": 10,
   "metadata": {
    "collapsed": false
   },
   "outputs": [
    {
     "name": "stdout",
     "output_type": "stream",
     "text": [
      "Price under homogenous beliefs Q1 [ 40.75976974  35.96087782  34.57199775]\n",
      "Price under homogenous beliefs Q2 [ 26.5891324   24.78574395  23.82846957]\n",
      "Price under heterogeneous beliefs [ 42.69136681  39.25179728  37.73581544]\n"
     ]
    }
   ],
   "source": [
    "p1 = compute_price_function(beta, d, Q1)\n",
    "p2 = compute_price_function(beta, d, Q2)\n",
    "phk = hk_compute_price_function(beta, d, Q1, Q2)\n",
    "\n",
    "print(\"Price under homogenous beliefs Q1\", p1)\n",
    "print(\"Price under homogenous beliefs Q2\", p2)\n",
    "print(\"Price under heterogeneous beliefs\", phk)"
   ]
  },
  {
   "cell_type": "markdown",
   "metadata": {},
   "source": [
    "Each agent essentially values the asset according to the price computed under homogenous beliefs. However, the agents know they disagree on its value which affects the value at which you can sell the asset. This disagreement can lead (as shown above) to the asset being priced higher than either agent would value it under their homogenous beliefs."
   ]
  }
 ],
 "metadata": {
  "kernelspec": {
   "display_name": "Python 3",
   "language": "python",
   "name": "python3"
  },
  "language_info": {
   "codemirror_mode": {
    "name": "ipython",
    "version": 3
   },
   "file_extension": ".py",
   "mimetype": "text/x-python",
   "name": "python",
   "nbconvert_exporter": "python",
   "pygments_lexer": "ipython3",
   "version": "3.5.1"
  }
 },
 "nbformat": 4,
 "nbformat_minor": 0
}
