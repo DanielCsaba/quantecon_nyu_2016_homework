{
 "cells": [
  {
   "cell_type": "markdown",
   "metadata": {},
   "source": [
    "# Problem Set 7\n",
    "#### Laszlo Tetenyi"
   ]
  },
  {
   "cell_type": "code",
   "execution_count": 1,
   "metadata": {
    "collapsed": true
   },
   "outputs": [],
   "source": [
    "import numpy as np\n",
    "import matplotlib.pyplot as plt"
   ]
  },
  {
   "cell_type": "markdown",
   "metadata": {},
   "source": [
    "Create the transition matrices, the beta and the dividends"
   ]
  },
  {
   "cell_type": "code",
   "execution_count": 2,
   "metadata": {
    "collapsed": false
   },
   "outputs": [],
   "source": [
    "q1 = np.array([[0.971 , 0.029 ,0],[0.145,0.778,0.077]\\\n",
    "               ,[0,0.508,0.492]])\n",
    "q2 = np.array([[0.871 , 0.029 ,0.1],[0.145,0.778,0.077]\\\n",
    "               ,[0,0.508,0.492]])\n",
    "d = np.zeros((3,1))\n",
    "d[0,0] = 1.0\n",
    "beta = 0.98"
   ]
  },
  {
   "cell_type": "markdown",
   "metadata": {},
   "source": [
    "## Exercise 1"
   ]
  },
  {
   "cell_type": "code",
   "execution_count": 3,
   "metadata": {
    "collapsed": true
   },
   "outputs": [],
   "source": [
    "def contraction(p,q,d,beta):\n",
    "    return beta *  q @  (d + p)"
   ]
  },
  {
   "cell_type": "code",
   "execution_count": 4,
   "metadata": {
    "collapsed": false
   },
   "outputs": [],
   "source": [
    "def bellman_iter(contraction,q,d,beta,p = None,tol =1e-10):\n",
    "    if p == None:\n",
    "        p = np.zeros(d.shape)\n",
    "    conv = 1\n",
    "    while conv > tol:\n",
    "        p_next = contraction(p,q,d,beta)\n",
    "        conv = np.max(np.abs(p_next - p)) # d_infty\n",
    "        #print(conv) to check convergence\n",
    "        np.copyto(p,p_next)\n",
    "    return p"
   ]
  },
  {
   "cell_type": "code",
   "execution_count": 11,
   "metadata": {
    "collapsed": false
   },
   "outputs": [
    {
     "data": {
      "text/plain": [
       "array([[ 40.75977457],\n",
       "       [ 35.96088264],\n",
       "       [ 34.57200258]])"
      ]
     },
     "execution_count": 11,
     "metadata": {},
     "output_type": "execute_result"
    }
   ],
   "source": [
    "p_star1 = bellman_iter(contraction,q1,d,beta)\n",
    "p_star1"
   ]
  },
  {
   "cell_type": "code",
   "execution_count": 12,
   "metadata": {
    "collapsed": false
   },
   "outputs": [
    {
     "data": {
      "text/plain": [
       "array([[ 23.50113472],\n",
       "       [ 21.09883109],\n",
       "       [ 20.28395271]])"
      ]
     },
     "execution_count": 12,
     "metadata": {},
     "output_type": "execute_result"
    }
   ],
   "source": [
    "p_star2 = bellman_iter(contraction,q2,d,beta)\n",
    "p_star2"
   ]
  },
  {
   "cell_type": "code",
   "execution_count": 7,
   "metadata": {
    "collapsed": false
   },
   "outputs": [
    {
     "data": {
      "text/plain": [
       "array([[ 17.25863985],\n",
       "       [ 14.86205155],\n",
       "       [ 14.28804987]])"
      ]
     },
     "execution_count": 7,
     "metadata": {},
     "output_type": "execute_result"
    }
   ],
   "source": [
    "p_star1 - p_star2"
   ]
  },
  {
   "cell_type": "markdown",
   "metadata": {},
   "source": [
    "Interpretation: As the probability of the recession increases, prices in all states are falling. "
   ]
  },
  {
   "cell_type": "markdown",
   "metadata": {},
   "source": [
    "## Exercise 2"
   ]
  },
  {
   "cell_type": "markdown",
   "metadata": {},
   "source": [
    "Sufficient conditions: \n",
    "- the transition probabilities are defined by an ergodic Markov chain\n",
    "- $ \\beta < 1 $\n",
    "- $d \\in b\\mathbb{R^S}$\n",
    "- finite number of beliefs (can be loosened)\n",
    "\n",
    "##### Proof: \n",
    "\n",
    "Take any $x$ $\\in S$. \n",
    "\n",
    "Step I: T maps a $ p \\in b\\mathbb{R^S} $ to $ b\\mathbb{R^S}$ \n",
    "\\begin{eqnarray}\n",
    "|Tp(x)| =& | \\beta \\max_{i \\in {1,2}} \\int_{y \\in S} (p(y) + d(y)) q_i(x,y) dy | \\\\\n",
    "\\leq & \\beta \\max_{i \\in {1,2}} \\int_{y \\in S} |p(y) + d(y)|q_i(x,y) dy  \\\\\n",
    "\\leq & \\beta \\max_{i \\in {1,2}} \\int_{y \\in S} ||p + d||_{\\infty}q_i(x,y) dy \\\\\n",
    "\\leq & \\beta \\max_{i \\in {1,2}} \\int_{y \\in S} ||p||_{\\infty} + ||d||_{\\infty}q_i(x,y) dy \\\\\n",
    "\\leq & (||p||_{\\infty} + ||d||_{\\infty} ) \\beta \\max_{i \\in {1,2}} \\int_{y \\in S} q_i(x,y) dy \\\\\n",
    "= & (||p||_{\\infty} + ||d||_{\\infty} )\\beta\n",
    "\\end{eqnarray}\n",
    "This is a uniform bound on $T$ for every $x$ so we are done.\n",
    "\n",
    "Step II: The following chain of reasoning (using the properties of the max) is justified:\n",
    "\n",
    "\\begin{eqnarray}\n",
    "|Tp(x) - Tp'(x) |  =& | \\beta \\max_{i \\in {1,2}} \\int_{y \\in S} (p(y) + d(y)) q_i(x,y) dy - \\beta \\max_{i \\in {1,2}} \\int_{y \\in S} (p'(y) + d(y)) q_i(x,y) dy | \\\\\n",
    "\\leq & \\max_{i \\in {1,2}} | \\beta  \\int_{y \\in S} (p(y) + d(y)) q_i(x,y) dy - \\beta \\int_{y \\in S} (p'(y) + d(y)) q_i(x,y) dy | \\\\\n",
    "=& \\beta \\max_{i \\in {1,2}} \\int_{y \\in S} |p(y) - p'(y)|q_i(x,y) dy \\\\\n",
    " \\leq & \\beta \\max_{i \\in {1,2}} \\int_{y \\in S}  ||p - p'||_{\\infty}  q_i(x,y) dy \\\\\n",
    " \\leq & \\beta ||p - p'||_{\\infty}  \\max_{i \\in {1,2}} \\int_{y \\in S}   q_i(x,y) dy  \\\\\n",
    " = & \\beta ||p - p'||_{\\infty}\n",
    "\\end{eqnarray}\n",
    "Therefore we have that\n",
    "\\begin{eqnarray}\n",
    "||Tp - Tp' ||_{\\infty} \\leq& \\beta ||p - p'||_{\\infty}\n",
    "\\end{eqnarray}\n",
    "\n",
    "So $T$ is a uniform contraction\n",
    "\n",
    "#### Prove the additional condition that:  $ |\\sup_i a_i - \\sup_i b_i| \\leq \\sup_i | a_i - b_i| $\n",
    "##### Proof:  \n",
    "\\begin{eqnarray}\n",
    "a_j - \\sup_i b_i \\leq & a_j - b_j & \\forall j  \\\\\n",
    "a_j - b_j \\leq & \\sup_i ( a_i - b_i ) &    \\\\\n",
    "a_j - \\sup_i b_i \\leq & \\sup_i ( a_i - b_i ) &  \\forall j \\\\\n",
    "\\sup_j (a_j - \\sup_i b_i) \\leq & \\sup_i ( a_i - b_i ) &  \\\\\n",
    "\\sup_i a_i - \\sup_i b_i \\leq & \\sup_i ( a_i - b_i ) & \n",
    "\\end{eqnarray}\n",
    "where the last line is due to the 3rd line that  $ \\sup_i ( a_i - b_i ) $ is an upper bound for $ a_j - \\sup_i b_i $ and that $ \\sup_i b_i $ is constant in line 4 . Now with similar reasoning you can show that $ \\sup_i b_i - \\sup_i a_i  \\leq \\sup_i ( b_i - a_i ) $. As $\\sup_i ( a_i - b_i ) \\leq \\sup_i | a_i - b_i|$ and $\\sup_i ( b_i - a_i ) \\leq \\sup_i | a_i - b_i|$ and either $ \\sup_i b_i - \\sup_i a_i = |\\sup_i a_i - \\sup_i b_i| $ or $ \\sup_i a_i - \\sup_i b_i = |\\sup_i a_i - \\sup_i b_i| $, proving the claim"
   ]
  },
  {
   "cell_type": "markdown",
   "metadata": {},
   "source": [
    "## Exercise 3"
   ]
  },
  {
   "cell_type": "code",
   "execution_count": 8,
   "metadata": {
    "collapsed": true
   },
   "outputs": [],
   "source": [
    "def contraction_het(p,q1,q2,d,beta):\n",
    "    return np.maximum(beta *  q1 @ (d + p),beta *  q2 @ (d + p))"
   ]
  },
  {
   "cell_type": "code",
   "execution_count": 9,
   "metadata": {
    "collapsed": false
   },
   "outputs": [],
   "source": [
    "def bellman_iter_het(contraction_het,q1,q2,d,beta,p = None,tol =1e-10):\n",
    "    if p == None:\n",
    "        p = np.zeros(d.shape)\n",
    "    conv = 1\n",
    "    while conv > tol:\n",
    "        p_next = contraction_het(p,q1,q2,d,beta)\n",
    "        conv = np.max(np.abs(p_next - p)) # d_infty\n",
    "        #print(conv) to check convergence\n",
    "        np.copyto(p,p_next)\n",
    "    return p"
   ]
  },
  {
   "cell_type": "code",
   "execution_count": 10,
   "metadata": {
    "collapsed": false
   },
   "outputs": [
    {
     "data": {
      "text/plain": [
       "array([[ 40.75977457],\n",
       "       [ 35.96088264],\n",
       "       [ 34.57200258]])"
      ]
     },
     "execution_count": 10,
     "metadata": {},
     "output_type": "execute_result"
    }
   ],
   "source": [
    "bellman_iter_het(contraction_het,q1,q2,d,beta)"
   ]
  },
  {
   "cell_type": "code",
   "execution_count": null,
   "metadata": {
    "collapsed": true
   },
   "outputs": [],
   "source": []
  }
 ],
 "metadata": {
  "kernelspec": {
   "display_name": "Python 3",
   "language": "python",
   "name": "python3"
  },
  "language_info": {
   "codemirror_mode": {
    "name": "ipython",
    "version": 3
   },
   "file_extension": ".py",
   "mimetype": "text/x-python",
   "name": "python",
   "nbconvert_exporter": "python",
   "pygments_lexer": "ipython3",
   "version": "3.5.1"
  }
 },
 "nbformat": 4,
 "nbformat_minor": 0
}
