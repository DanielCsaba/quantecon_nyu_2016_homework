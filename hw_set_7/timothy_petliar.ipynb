{
 "cells": [
  {
   "cell_type": "markdown",
   "metadata": {},
   "source": [
    "# HW #7\n",
    "# Fixed Point Calculation via Banach Contraction \n",
    "## Timothy Petliar\n",
    "## N12592901\n",
    "\n",
    "\n",
    "\n"
   ]
  },
  {
   "cell_type": "markdown",
   "metadata": {},
   "source": [
    "The main step of the proof of the the Banach fixed point theorem is the construction of a Cauchy sequence of functions under the mapping we wish to study. In the follwing excercise we use this idea to approximate an equilibirum price function for an asset. We are given a contraction mapping, and the we repeatly apply it to any bounded function until the uniform norm of the difference of consecutive terms is within some small tolerance. \n",
    "\n"
   ]
  },
  {
   "cell_type": "code",
   "execution_count": 41,
   "metadata": {
    "collapsed": true
   },
   "outputs": [],
   "source": [
    "import numpy as np\n",
    "q1=np.array([[0.971, .029, 0.0],[0.145, 0.778, 0.077], [0.0, 0.508, 0.492] ]) #1st transition matrix\n",
    "div=np.array([[1],[0], [0]]) #dividend function\n",
    "tol=.001 #tolerance\n",
    "num_iter=10000 #maximum iterations\n",
    "beta=0.98  #constant for the contraction mapping\n"
   ]
  },
  {
   "cell_type": "markdown",
   "metadata": {},
   "source": [
    "Nothing interesting here. Just the usual boilerplate and basic variable assignment\n"
   ]
  },
  {
   "cell_type": "code",
   "execution_count": 11,
   "metadata": {
    "collapsed": true
   },
   "outputs": [],
   "source": [
    "def uniform_norm(f1, f2): #Calculate the uniform given two functions\n",
    "    difference=abs(f1-f2)\n",
    "    norm=np.amax(difference)\n",
    "    return norm\n",
    "\n",
    "\n"
   ]
  },
  {
   "cell_type": "markdown",
   "metadata": {},
   "source": [
    "I calculate the uniform by taking the component-wise absolure differnce of two functions and returing the maximum such value"
   ]
  },
  {
   "cell_type": "code",
   "execution_count": 19,
   "metadata": {
    "collapsed": true
   },
   "outputs": [],
   "source": [
    "def contraction(p, transition, dividend):\n",
    "    T_p=beta *   transition @(p+dividend)\n",
    "    return T_p\n"
   ]
  },
  {
   "cell_type": "markdown",
   "metadata": {},
   "source": [
    "I wrote a seperate function to apply the contraction to p for a given transition matrix and dividend"
   ]
  },
  {
   "cell_type": "code",
   "execution_count": 42,
   "metadata": {
    "collapsed": true
   },
   "outputs": [],
   "source": [
    "def equilibrium(transition, dividend, beta, iterations, tolerance): #Inputs\n",
    "   \n",
    "    interations=iterations\n",
    "    p=(np.zeros(transition.shape[0])).reshape(transition.shape[0],1) \n",
    "    #Create a vector of all zeros with 1 column of length same as row of a transition matrix\n",
    "    \n",
    "\n",
    "    for iteration in range(0,interations):       #apply the contraction  in a loop\n",
    "        T_p=np.array(contraction(p,transition, dividend))  # calls the contraction function\n",
    "       \n",
    "        if iteration >=0 and uniform_norm(T_p, p)<=tolerance:  #test convergence and break loop when accuracy achieved\n",
    "            break\n",
    "        if iteration==interations-1:                           #Alert to error\n",
    "            print(\"failed to converge\")\n",
    "     \n",
    "        p[:]=T_p #Being careful to bind to copy of T_p\n",
    "   \n",
    "    return T_p  \n",
    "        "
   ]
  },
  {
   "cell_type": "markdown",
   "metadata": {},
   "source": [
    "This is the main function in my program. I apply the contraction in a loop and test for convergence.\n",
    "\n"
   ]
  },
  {
   "cell_type": "code",
   "execution_count": 43,
   "metadata": {
    "collapsed": false
   },
   "outputs": [
    {
     "data": {
      "text/plain": [
       "array([[ 40.71110731],\n",
       "       [ 35.91221539],\n",
       "       [ 34.52333532]])"
      ]
     },
     "execution_count": 43,
     "metadata": {},
     "output_type": "execute_result"
    }
   ],
   "source": [
    "equilibrium(q1, div, beta, num_iter,tol)"
   ]
  },
  {
   "cell_type": "markdown",
   "metadata": {},
   "source": [
    "Appears to have worked."
   ]
  },
  {
   "cell_type": "markdown",
   "metadata": {},
   "source": [
    "We now to run this for the second transisition matrix:"
   ]
  },
  {
   "cell_type": "code",
   "execution_count": 44,
   "metadata": {
    "collapsed": false
   },
   "outputs": [
    {
     "data": {
      "text/plain": [
       "array([[ 23.45270867],\n",
       "       [ 21.05040505],\n",
       "       [ 20.23552666]])"
      ]
     },
     "execution_count": 44,
     "metadata": {},
     "output_type": "execute_result"
    }
   ],
   "source": [
    "q2= np.array([[0.871 ,0.029 ,0.1], [0.145, 0.778, 0.077], [0.0, 0.508, 0.492]])\n",
    "equilibrium(q2, div, beta, num_iter,tol)"
   ]
  },
  {
   "cell_type": "markdown",
   "metadata": {},
   "source": [
    "Also appears to work. \n"
   ]
  },
  {
   "cell_type": "markdown",
   "metadata": {},
   "source": [
    "## Heterogeneous Case"
   ]
  },
  {
   "cell_type": "markdown",
   "metadata": {},
   "source": [
    "Not too different. All we need is to compute the equilibirum with both transisition matrices and select the maximum for each component."
   ]
  },
  {
   "cell_type": "code",
   "execution_count": 48,
   "metadata": {
    "collapsed": true
   },
   "outputs": [],
   "source": [
    "def hetero_equilibrium(transition1,transition2, dividend, beta, iterations, tolerance): #Inputs\n",
    "   \n",
    "    interations=iterations\n",
    "    p=(np.zeros(transition1.shape[0])).reshape(transition1.shape[0],1) \n",
    "    #Create a vector of all zeros with 1 column of length same as row of a transition matrix\n",
    "    \n",
    "\n",
    "    for iteration in range(0,interations):       #apply the contraction  in a loop\n",
    "        T_p_1=np.array(contraction(p,transition1, dividend))  # calls the contraction function for 1st matrix\n",
    "        T_p_2=np.array(contraction(p,transition2, dividend)) #calls the contraction function for 2nd matrix\n",
    "        T_p=np.maximum(T_p_1, T_p_2)                         #Select componentwise maximum\n",
    "        if iteration >=0 and uniform_norm(T_p, p)<=tolerance:  #test convergence and break loop when accuracy achieved\n",
    "            break\n",
    "        if iteration==interations-1:                           #Alert to error\n",
    "            print(\"failed to converge\")\n",
    "     \n",
    "        p[:]=T_p #Being careful to bind to copy of T_p\n",
    "   \n",
    "    return T_p  "
   ]
  },
  {
   "cell_type": "code",
   "execution_count": 50,
   "metadata": {
    "collapsed": false
   },
   "outputs": [
    {
     "data": {
      "text/plain": [
       "array([[ 40.71110731],\n",
       "       [ 35.91221539],\n",
       "       [ 34.52333532]])"
      ]
     },
     "execution_count": 50,
     "metadata": {},
     "output_type": "execute_result"
    }
   ],
   "source": [
    "hetero_equilibrium(q1, q2, div, beta, num_iter, tol)"
   ]
  },
  {
   "cell_type": "markdown",
   "metadata": {},
   "source": [
    "Interesting. The result is the same as for homogeneous  q1."
   ]
  },
  {
   "cell_type": "code",
   "execution_count": null,
   "metadata": {
    "collapsed": true
   },
   "outputs": [],
   "source": []
  }
 ],
 "metadata": {
  "kernelspec": {
   "display_name": "Python 3",
   "language": "python",
   "name": "python3"
  },
  "language_info": {
   "codemirror_mode": {
    "name": "ipython",
    "version": 3
   },
   "file_extension": ".py",
   "mimetype": "text/x-python",
   "name": "python",
   "nbconvert_exporter": "python",
   "pygments_lexer": "ipython3",
   "version": "3.5.1"
  }
 },
 "nbformat": 4,
 "nbformat_minor": 0
}
