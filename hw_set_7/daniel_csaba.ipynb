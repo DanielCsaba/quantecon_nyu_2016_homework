{
 "cells": [
  {
   "cell_type": "markdown",
   "metadata": {},
   "source": [
    "# Homework Set 7\n",
    "\n",
    "Daniel Csaba\n",
    "\n",
    "UnivID: N12155064\n",
    "\n",
    "Task: Compute equilibrium price function in an asset pricing excercise using a uniform contraction. See what happens in the case of heterogeneous beliefs."
   ]
  },
  {
   "cell_type": "code",
   "execution_count": 3,
   "metadata": {
    "collapsed": true
   },
   "outputs": [],
   "source": [
    "import numpy as np"
   ]
  },
  {
   "cell_type": "markdown",
   "metadata": {},
   "source": [
    "## Exercise 1.\n",
    "\n",
    "Apply the uniform contraction mapping defined in the exercise in a simple while loop. "
   ]
  },
  {
   "cell_type": "code",
   "execution_count": 4,
   "metadata": {
    "collapsed": false
   },
   "outputs": [],
   "source": [
    "def asset_pricing(Q, d, beta, maxiter, tol):\n",
    "    \"\"\"\n",
    "    Takes a Markov-chain describing the trasition probabilities,\n",
    "    a dividend function over states and a discount factor and \n",
    "    finds the equilibrium price function using a uniform contraction.\n",
    "    \n",
    "    Q: Markov transition probabilities\n",
    "    d: dividend function over state space\n",
    "    beta: discount factor\n",
    "    maxiter: number of maximum iterations\n",
    "    tol: tolerance threshold to stop iteration\n",
    "    \"\"\"\n",
    "    \n",
    "    s_num = len(d) # cardinality of state space\n",
    "    p = np.ones(s_num) # initial price function\n",
    "    dist = 2 * tol # initial distance\n",
    "    curr_iter = 0 # current iteration\n",
    "    \n",
    "    while dist > tol and curr_iter < maxiter:\n",
    "        p_new = beta * (Q @ (p + d)) # apply the contraction mapping\n",
    "        dist = max(abs(p_new - p))   # distance in sup norm\n",
    "        p = p_new\n",
    "        curr_iter += 1\n",
    "    \n",
    "    print(\"|================================================================================|\")\n",
    "    print(\"|  The equilibrium price function is:\\n|\")\n",
    "    print(\"|  p(NG) = {:.4f}\\n|  p(MR) = {:.4f}\\n|  p(SR) = {:.4f}\\n|\".format(p[0], p[1], p[2]))\n",
    "    print(\"|================================================================================|\")\n",
    "    print(\"|  Number of iterations to achieve convergence:   {}\".format(curr_iter))\n",
    "    print(\"|================================================================================|\")"
   ]
  },
  {
   "cell_type": "code",
   "execution_count": 5,
   "metadata": {
    "collapsed": false
   },
   "outputs": [
    {
     "name": "stdout",
     "output_type": "stream",
     "text": [
      "|================================================================================|\n",
      "|  The equilibrium price function is:\n",
      "|\n",
      "|  p(NG) = 40.7549\n",
      "|  p(MR) = 35.9560\n",
      "|  p(SR) = 34.5672\n",
      "|\n",
      "|================================================================================|\n",
      "|  Number of iterations to achieve convergence:   445\n",
      "|================================================================================|\n"
     ]
    }
   ],
   "source": [
    "Q1 = np.array([[.971, .029, 0], [.145, .778, .077], [0, .508, .492]])\n",
    "d = np.array([1, 0, 0])\n",
    "beta = .98\n",
    "\n",
    "maxiter = 100000\n",
    "tol = .0001\n",
    "\n",
    "\n",
    "asset_pricing(Q1, d, beta, maxiter, tol)"
   ]
  },
  {
   "cell_type": "markdown",
   "metadata": {},
   "source": [
    "As expected the price of the asset is the highest in the Normal Growth (NG) state as that state gives the best prospects for future dividends.\n",
    "\n",
    "If we modify the transition probabilities the prices are going to change."
   ]
  },
  {
   "cell_type": "code",
   "execution_count": 6,
   "metadata": {
    "collapsed": false,
    "scrolled": true
   },
   "outputs": [
    {
     "name": "stdout",
     "output_type": "stream",
     "text": [
      "|================================================================================|\n",
      "|  The equilibrium price function is:\n",
      "|\n",
      "|  p(NG) = 23.4963\n",
      "|  p(MR) = 21.0940\n",
      "|  p(SR) = 20.2791\n",
      "|\n",
      "|================================================================================|\n",
      "|  Number of iterations to achieve convergence:   415\n",
      "|================================================================================|\n"
     ]
    }
   ],
   "source": [
    "Q2 = np.array([[.871, .029, .1], [.145, .778, .077], [0, .508, .492]])\n",
    "\n",
    "asset_pricing(Q2, d, beta, maxiter, tol)"
   ]
  },
  {
   "cell_type": "markdown",
   "metadata": {},
   "source": [
    "The modification of the transition probability only affected the prospects in the NG state---the prospects got worse in the sense that some probability mass shifted from the event of ending up in NG state to the one of ending up in the Severe Recession (SR) state given that the current state is NG.\n",
    "\n",
    "What is worth noting is that the prices changed in every state irrespective that the conditional transition probabilities from states MR and SR remained intact. This is  because the reduced value of the asset in state NG affects the current prices in the two other states as well through the resale value."
   ]
  },
  {
   "cell_type": "markdown",
   "metadata": {},
   "source": [
    "## Exercise 2.\n",
    "\n",
    "\n",
    "Analogously to Theorem I. it would suffice to provide conditions under which the operator\n",
    "\n",
    "$\n",
    "Tp(x) = \\beta \\ \\max_{i \\in \\{1,2\\}} \\Big\\{ \\sum_{y \\in S} [d(y) + p(y)] q_i(x,y)\\Big\\} \\quad \\forall x \\in S\n",
    "$\n",
    "\n",
    "is a uniform contraction on $(b\\mathbb{R}^S,d_{\\infty})$. Provided that the dividend function is bounded, $d \\in b\\mathbb{R}^S$, this would be satisfied. \n",
    "\n",
    "### $T$ is a self map on $b\\mathbb{R}^S$\n",
    "\n",
    "To see, first note that $T$ maps $b\\mathbb{R}^S$ into itself. \n",
    "\n",
    "$\n",
    "\\big|Tp(x)\\big| = \\beta \\ \\max_{i \\in \\{1,2\\}} \\Bigg\\{ \\Big| \\sum_{y \\in S} [d(y) + p(y)] q_i(x,y) \\Big| \\Bigg\\} \\leq \\beta \\ ( || d ||_{\\infty} + || p ||_{\\infty})\n",
    "$\n",
    "\n",
    "Since the bound is uniform over $x$ we have that $Tp \\in b\\mathbb{R}^S$ for every $p \\in b\\mathbb{R}^S$.\n",
    "\n",
    "\n",
    "### Proof of inequality\n",
    "\n",
    "First, check that the inequality provided in the exercise indeed holds true. Let $\\{a_i\\}$ and $\\{b_i\\}$ be arbitrary real sequences.\n",
    "\n",
    "Denote the suprema of the two sequences by\n",
    "\n",
    "$\\bar{a} := \\sup_i a_i$\n",
    "\n",
    "and\n",
    "\n",
    "$\\bar{b} := \\sup_i b_i$.\n",
    "\n",
    "WLOG assume that $\\bar{a} \\geq \\bar{b}$. Then $\\forall i$ we have that\n",
    "\n",
    "$\n",
    "a_i - b_i = \\bar{a} + (a_i - \\bar{a}) - b_i \\geq \\bar{a} + (a_i - \\bar{a}) - \\bar{b}.\n",
    "$\n",
    "\n",
    "as $\\bar{b} \\geq b_i$ for all $i$.\n",
    "\n",
    "Since this weak inequality holds true for each $i$ we can take the supremum and still have the weak inequality.\n",
    "\n",
    "$\n",
    "\\sup_i (a_i - b_i) \\geq  \\sup_i \\bar{a} + (a_i - \\bar{a}) - \\bar{b} = \\bar{a} + (\\sup_i a_i - \\bar{a}) - \\bar{b} = \\bar{a} - \\bar{b} = \\big| \\bar{a} - \\bar{b} \\big| = \\big| \\sup_i a_i - \\sup_i b_i \\big|\n",
    "$\n",
    "\n",
    "This implies that\n",
    "\n",
    "$\\sup_i \\big|a_i - b_i \\big| \\geq \\big|  \\sup_i a_i - \\sup_i b_i \\big|$.\n",
    "\n",
    "The case for $\\bar{b} \\geq \\bar{a}$ is symmetric.\n",
    "\n",
    "### $T$ is a uniform contraction\n",
    "\n",
    "To see that $T$ is a uniform contraction, take any $p$ and $p'$ in $b\\mathbb{R}^S$ and use the inequality given proven above.\n",
    "\n",
    "\n",
    "$\n",
    "\\begin{align}\n",
    "\\big|Tp(x) - Tp'(x)\\big| &= \\beta  \\ \\Bigg| \\max_{i \\in \\{1,2\\}} \\Bigg\\{ \\sum_{y \\in S} [d(y) + p(y)] q_i(x,y)\\Bigg\\} - \\max_{i \\in \\{1,2\\}} \\Bigg\\{ \\sum_{y \\in S} [d(y) + p'(y)] q_i(x,y)\\Bigg\\} \\Bigg| \\\\ &\\leq \\beta  \\max_{i \\in \\{1,2\\}} \\Bigg| \\Bigg\\{ \\sum_{y \\in S} [d(y) + p(y)] q_i(x,y)\\Bigg\\} - \\Bigg\\{ \\sum_{y \\in S} [d(y) + p'(y)] q_i(x,y)\\Bigg\\} \\Bigg| \\\\ &= \\beta  \\max_{i \\in \\{1,2\\}} \\Bigg| \\Bigg\\{ \\sum_{y \\in S} [p(y) - p'(y)] q_i(x,y)\\Bigg\\} \\Bigg| \\\\ &\\leq \\beta \\ || p - p'||_{\\infty}\n",
    "\\end{align}\n",
    "$\n",
    "\n",
    "Again, as $x$ is arbitrary, we have \n",
    "\n",
    "$\n",
    "\\begin{equation}\n",
    "|| Tp - Tp'||_{\\infty} \\leq \\beta \\ || p - p'||_{\\infty}\n",
    "\\end{equation}\n",
    "$\n",
    "\n",
    "\n",
    "## Exercise 3.\n",
    "\n",
    "The case of heterogeneous beliefs. Now we implement the uniform contraction discussed in Exercise 2. In each step compute the expected continuation values under the different transitional probabilities and then take the maximum of them."
   ]
  },
  {
   "cell_type": "code",
   "execution_count": 1,
   "metadata": {
    "collapsed": true
   },
   "outputs": [],
   "source": [
    "def asset_pricing_hetero(Q1, Q2, d, beta, maxiter, tol):\n",
    "    \"\"\"\n",
    "    Takes two distinct Markov-chains describing the trasition probabilities,\n",
    "    a dividend function over states and a discount foactor and \n",
    "    finds the equilibrium price function using a uniform contraction.\n",
    "    \n",
    "    Q1: Markov transition probabilities version 1\n",
    "    Q2: Markov transition probabilities version 2\n",
    "    d: dividend function over state space\n",
    "    beta: discount factor\n",
    "    maxiter: number of maximum iterations\n",
    "    tol: tolerance threshold to stop iteration\n",
    "    \"\"\"\n",
    "    \n",
    "    s_num = len(d) # cardinality of state space\n",
    "    p = np.ones(s_num) # initial price function\n",
    "    dist = 2 * tol # initial distance\n",
    "    curr_iter = 0 # current iteration\n",
    "    \n",
    "    \n",
    "    while dist > tol and curr_iter < maxiter:\n",
    "        p1 = beta * (Q1 @ (p + d)).reshape(s_num,1)\n",
    "        p2 = beta * (Q2 @ (p + d)).reshape(s_num,1)\n",
    "        p_new = np.max(np.concatenate((p1, p2), axis=1), axis=1) # in each state take the maximum of the two prices\n",
    "        dist = max(abs(p_new - p)) # distance in sup norm\n",
    "        p = p_new\n",
    "        curr_iter += 1\n",
    "    \n",
    "    print(\"|================================================================================|\")\n",
    "    print(\"|  The equilibrium price function is:\\n|\")\n",
    "    print(\"|  p(NG) = {:.4f}\\n|  p(MR) = {:.4f}\\n|  p(SR) = {:.4f}\\n|\".format(p[0], p[1], p[2]))\n",
    "    print(\"|================================================================================|\")\n",
    "    print(\"|  Number of iterations to achieve convergence:   {}\".format(curr_iter))\n",
    "    print(\"|================================================================================|\")"
   ]
  },
  {
   "cell_type": "markdown",
   "metadata": {},
   "source": [
    "Now, we can compute the equilibrium prices under the two different Markov beliefs for the transition probabilities."
   ]
  },
  {
   "cell_type": "code",
   "execution_count": 8,
   "metadata": {
    "collapsed": false
   },
   "outputs": [
    {
     "name": "stdout",
     "output_type": "stream",
     "text": [
      "|================================================================================|\n",
      "|  The equilibrium price function is:\n",
      "|\n",
      "|  p(NG) = 40.7549\n",
      "|  p(MR) = 35.9560\n",
      "|  p(SR) = 34.5672\n",
      "|\n",
      "|================================================================================|\n",
      "|  Number of iterations to achieve convergence:   445\n",
      "|================================================================================|\n"
     ]
    }
   ],
   "source": [
    "asset_pricing_hetero(Q1, Q2, d, beta, maxiter, tol)"
   ]
  },
  {
   "cell_type": "markdown",
   "metadata": {},
   "source": [
    "What is interesting here is that we get back the prices under the first beliefs, $Q_1$. This is because $Q_1$ gives at least as good prospects for the future as $Q_2$ in every state. That is the person who values the asset more sets the price and is going to hold the asset. If we take a look at the discussion in Harrison and Kreps (1978) we see that the interesting stuff---bubble---happens when the prospects under different beliefs are not ranked monotonically in this sense for each state.\n",
    "\n",
    "For example take the alternative belief $Q_3$ where prospects are worse in NG---as in the case of $Q_2$---but prospects are better in state MR.\n",
    "\n",
    "$p(NG | MR)$ changes to .245 while $p(MR | MR)$ changes to .678 relative to $Q_2$."
   ]
  },
  {
   "cell_type": "code",
   "execution_count": 9,
   "metadata": {
    "collapsed": false
   },
   "outputs": [
    {
     "name": "stdout",
     "output_type": "stream",
     "text": [
      "|================================================================================|\n",
      "|  The equilibrium price function is:\n",
      "|\n",
      "|  p(NG) = 28.0065\n",
      "|  p(MR) = 26.4790\n",
      "|  p(SR) = 25.4561\n",
      "|\n",
      "|================================================================================|\n",
      "|  Number of iterations to achieve convergence:   425\n",
      "|================================================================================|\n"
     ]
    }
   ],
   "source": [
    "Q3 = np.array([[.871, .029, .1], [.245, .678, .077], [0, .508, .492]])\n",
    "\n",
    "asset_pricing(Q3, d, beta, maxiter, tol)"
   ]
  },
  {
   "cell_type": "markdown",
   "metadata": {},
   "source": [
    "Prices are uniformly higher than under beliefs $Q_2$ but still uniformly lower than under beliefs $Q_1$. The interesting situation happens when we compute the equilibrium price function under the two beliefs being present at the same time."
   ]
  },
  {
   "cell_type": "code",
   "execution_count": 10,
   "metadata": {
    "collapsed": false
   },
   "outputs": [
    {
     "name": "stdout",
     "output_type": "stream",
     "text": [
      "|================================================================================|\n",
      "|  The equilibrium price function is:\n",
      "|\n",
      "|  p(NG) = 43.4870\n",
      "|  p(MR) = 40.6108\n",
      "|  p(SR) = 39.0421\n",
      "|\n",
      "|================================================================================|\n",
      "|  Number of iterations to achieve convergence:   449\n",
      "|================================================================================|\n"
     ]
    }
   ],
   "source": [
    "asset_pricing_hetero(Q1, Q3, d, beta, maxiter, tol)"
   ]
  },
  {
   "cell_type": "markdown",
   "metadata": {},
   "source": [
    "The prices are uniformly higher than under any of the individual beliefs $Q_1$ or $Q_3$. We have a bubble. This is because the resale value gets higher in state MR---$Q_3$ is more optimisitc about the future in that state so the first agent can sell the asset to the third. The increased resale value affects the prices in each state."
   ]
  },
  {
   "cell_type": "code",
   "execution_count": null,
   "metadata": {
    "collapsed": true
   },
   "outputs": [],
   "source": []
  }
 ],
 "metadata": {
  "kernelspec": {
   "display_name": "Python 3",
   "language": "python",
   "name": "python3"
  },
  "language_info": {
   "codemirror_mode": {
    "name": "ipython",
    "version": 3
   },
   "file_extension": ".py",
   "mimetype": "text/x-python",
   "name": "python",
   "nbconvert_exporter": "python",
   "pygments_lexer": "ipython3",
   "version": "3.5.1"
  }
 },
 "nbformat": 4,
 "nbformat_minor": 0
}
