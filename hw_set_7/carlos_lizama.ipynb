{
 "cells": [
  {
   "cell_type": "markdown",
   "metadata": {},
   "source": [
    "## Homework 7\n",
    "\n",
    "Carlos Lizama  \n",
    "N17866309  \n",
    "\n",
    "### Brief description of the homework\n",
    "Consider the *equilibrium price function* \n",
    "\n",
    "$$ q(x,y) = \\beta \\sum_{y \\in S} [d(y) + p(y)] q(x,y) $$\n",
    "\n",
    "\n",
    "In this homework I first provide codes to solve for the equilibrium price function with an iterative procedure based on the Banach contraction mapping theorem. The code is tested for different specifications given in the home. Then the model is extendend to account for heterogeneous beliefs and I show conditions such that the mapping defined by the equilibrium price function for the model with heterogeneous beliefs is a uniform contraction, so the algorithm of iteratively applying the mapping converges to the unique solution. Finally, I solve the problem with heterogeneous beliefs.\n",
    "\n",
    "### Exercise 1:\n",
    "In this exercise I compute the equilibrium price function by applying the map $T p(x) = \\beta \\sum_{y \\in S} [d(y) + p(y)] q(x,y)$ iteratively. This algorithm converges to the unique solution because of the contraction mapping theorem. The next function takes the primities of the problem and returns the equilibrium price. "
   ]
  },
  {
   "cell_type": "code",
   "execution_count": 1,
   "metadata": {
    "collapsed": false
   },
   "outputs": [
    {
     "data": {
      "text/plain": [
       "solve_eq_price_function (generic function with 2 methods)"
      ]
     },
     "execution_count": 1,
     "metadata": {},
     "output_type": "execute_result"
    }
   ],
   "source": [
    "\"\"\"\n",
    "This code solves for the equilibrium price function as in Lucas (1978). The parameters are the discount factor beta,\n",
    "the dividends vector d, and the transition matrix M.\n",
    "\"\"\"\n",
    "function solve_eq_price_function(beta, d, M, tol=1e-4)\n",
    "    S = length(d)\n",
    "    p = ones(S)\n",
    "    distance = 1\n",
    "    \n",
    "    while distance >= tol\n",
    "        # define map T\n",
    "        Tp = beta*M*(d + p)\n",
    "        distance = norm(p-Tp,Inf)\n",
    "        p = copy(Tp)\n",
    "    end\n",
    "    \n",
    "    return p\n",
    "end"
   ]
  },
  {
   "cell_type": "markdown",
   "metadata": {},
   "source": [
    "Now to test the code I compute the equilibrium price for an economy with the following paramteres"
   ]
  },
  {
   "cell_type": "code",
   "execution_count": 2,
   "metadata": {
    "collapsed": false
   },
   "outputs": [
    {
     "data": {
      "text/plain": [
       "3-element Array{Float64,1}:\n",
       " 40.7549\n",
       " 35.956 \n",
       " 34.5672"
      ]
     },
     "execution_count": 2,
     "metadata": {},
     "output_type": "execute_result"
    }
   ],
   "source": [
    "beta = .98\n",
    "d = [1, 0, 0]\n",
    "q1 = [.971 .029 0; .145 .778 .077; 0 .508 .492]\n",
    "p_eq1 = solve_eq_price_function(beta, d, q1)"
   ]
  },
  {
   "cell_type": "markdown",
   "metadata": {},
   "source": [
    "Now I compute the equilibrium price with a different matrix."
   ]
  },
  {
   "cell_type": "code",
   "execution_count": 3,
   "metadata": {
    "collapsed": false
   },
   "outputs": [
    {
     "data": {
      "text/plain": [
       "3x3 Array{Float64,2}:\n",
       " 0.871  0.029  0.1  \n",
       " 0.145  0.778  0.077\n",
       " 0.0    0.508  0.492"
      ]
     },
     "execution_count": 3,
     "metadata": {},
     "output_type": "execute_result"
    }
   ],
   "source": [
    "q2 = [.871 0.029 .1; .145 .778 .077; 0 .508 .492]"
   ]
  },
  {
   "cell_type": "markdown",
   "metadata": {},
   "source": [
    "Note that the only difference between the matrices is that the last matrix has lower probability of staying in the normal growth state conditional on being in that state and it has higher probability of transit from the normal growth state to the severe recession state. More precisely, a mass of 0.1 has been taken away from the probabilty of staying in the NG state and it has been put to the probabilty of moving to a severe recession. The new equilibrium price is"
   ]
  },
  {
   "cell_type": "code",
   "execution_count": 4,
   "metadata": {
    "collapsed": false
   },
   "outputs": [
    {
     "data": {
      "text/plain": [
       "3-element Array{Float64,1}:\n",
       " 23.4963\n",
       " 21.094 \n",
       " 20.2791"
      ]
     },
     "execution_count": 4,
     "metadata": {},
     "output_type": "execute_result"
    }
   ],
   "source": [
    "p_eq2 = solve_eq_price_function(beta, d, q2)"
   ]
  },
  {
   "cell_type": "markdown",
   "metadata": {},
   "source": [
    "The equilibrium price is lower for every state of the economy. The intuition of this result is straightforward. The change in the transition matrix makes that the economy spend much more time in states in which no dividends are paid (mild and sereve recession). Therefore, the price of the asset must be lower. To put it differently, the value of the asset in the normal growth state is lower because now it is expected that the asset would paid for fewer periods, the probability of leaving the state is higher. In the mild and severe recession states, the asset is also less valuable. Even though the transition probabilty of reaching the normal growth state are the same, the value of the asset in that state is lower, and hence so are the values for the asset in the other states."
   ]
  },
  {
   "cell_type": "markdown",
   "metadata": {
    "collapsed": true
   },
   "source": [
    "### Exercise 2: \n",
    "In this exercise I show that the mappping defined by $$ Tp(x) = \\beta \\max_{i \\in \\{1,2\\}} \\left\\{ \\sum_{y \\in S} [d(y) + p(y)] q_i(x,y) \\right\\} $$ is a uniform contraction.\n",
    "\n",
    "To do that, I need to prove that $T$ is a map $b \\mathbb{R}^S$ to itself and then show that it is a uniform contraction. The condition required to these proofs to work is that $||d||_{\\infty}$ is bounded.\n",
    "\n",
    "#### Proof of that $T$ is a map from $b \\mathbb{R}^S$ to itself.\n",
    "This is to proof that given a bounded function $p$ then $T(p)$ is a bounded function as well. In fact\n",
    "\\begin{align}\n",
    "|p(x)| &= \\beta \\left| \\max_{i \\in \\{1,2\\}} \\left\\{ \\sum_{y \\in S} [d(y)+p(y)] q_i(x,y) \\right\\} \\right| \\\\\n",
    "& \\leq \\beta \\left| \\sum_{i \\in \\{1,2\\}} \\sum_{y \\in S} [d(y)+p(y)] q_i(x,y) \\right| \\\\\n",
    "& \\leq \\beta \\sum_{i \\in \\{1,2\\}} \\sum_{y \\in S} \\left| d(y) + p(y) \\right|q_i(x,y) \\\\\n",
    "& \\leq \\beta \\sum_{i \\in \\{1,2\\}} \\sum_{y \\in S} (||d||_{\\infty} + ||p||_{\\infty})q_i(x,y) \\\\\n",
    "& = 2 \\beta (||d||_{\\infty} + ||p||_{\\infty})\n",
    "\\end{align}\n",
    "and taking the supremum on the LHS gives $ || Tp ||_{\\infty} < \\infty$\n",
    "\n",
    "Now let's prove that $T$ is in fact a uniform contraction.\n",
    "\n",
    "#### Proof of that $T$ is a uniform contraction.\n",
    "Want to show that the following condition holds $ ||Tp - Tp'||_{\\infty} \\leq \\beta ||p-p'||_{\\infty} $\n",
    "\n",
    "For a given $x$, we have:\n",
    "\\begin{align}\n",
    "|Tp(x) - Tp'(x)| &= \\beta \\left| \\max_{i \\in \\{1,2\\}} \\left\\{ \\sum_{y \\in S} [d(y)+p(y)]q_i(x,y) \\right\\} - \\max_i \\left\\{ \\sum_{y \\in S} [d(y)+p'(y)]q_i(x,y) \\right\\} \\right|  \\\\\n",
    "& \\leq \\beta \\max_{i \\in \\{1,2\\}} \\left| \\sum_{y \\in S} [p(y) - p'(y)]q_i(x,y) \\right| \\\\\n",
    "& \\leq \\beta \\max_{i \\in \\{1,2\\}} \\sum_{y \\in S} |p(y)-p(y')| q_i(x,y) \\\\\n",
    "& \\leq \\beta \\max_{i \\in \\{1,2\\}} \\sum_{y \\in S} ||p-p'||_{\\infty} q_i(x,y) \\\\\n",
    "& = \\beta ||p-p'||_{\\infty}  \\max_{i \\in \\{1,2\\}} \\sum_{y \\in S} q_i(x,y) \\\\\n",
    "& = \\beta ||p-p'||_{\\infty}\n",
    "\\end{align}\n",
    "\n",
    "Therefore, since $x$ was arbitrary, we conclude that $||Tp-Tp'||_{\\infty} \\leq \\beta ||p-p'||_{\\infty}$\n",
    "In the second line I use the hint, which I now prove.\n",
    "\n",
    "Want to show: for any $\\{a_i\\}$ and $\\{b_i\\}$ the following inequality holds: $$ | \\sup_i a_i - \\sup_i b_i | \\leq \\sup_i |a_i - b_i| $$\n",
    "\n",
    "Note that the last inequality is equivalent to the following two inequalities:\n",
    "\\begin{align}\n",
    "- \\sup_i |a_i - b_i| \\leq \\sup_i a_i - \\sup b_i \\leq \\sup_i |a_i - b_i|\n",
    "\\end{align}\n",
    "\n",
    "I prove both inequality separately. I will also use the following property: $$\\sup_i (x_i + y_i) \\leq \\sup x_i + \\sup_i y_i $$\n",
    "which can be proved trivially since $x_i \\leq \\sup_i x_i$ and $y_i \\leq \\sup_i y_i$, then summing up $ (x_i + y_i) \\leq \\sup_i x_i + \\sup_i y_i$ and taking $\\sup$ in both sides we obtain $\\sup_i (x_i + y_i) \\leq \\sup x_i + \\sup_i y_i $\n",
    "\n",
    "I proceed with the proof\n",
    "\\begin{align}\n",
    "a_i &= (a_i - b_i) + b_i \\\\\n",
    "&\\leq |a_i - b_i| + b_i  \\\\\n",
    "\\Rightarrow \\sup_i a_i &\\leq \\sup_i |a_i - b_i| + \\sup_i b_i \\\\\n",
    "\\iff \\sup_i a_i - \\sup_i b_i &\\leq \\sup_i |a_i - b_i|    \\qquad (*)\n",
    "\\end{align}\n",
    "\n",
    "Doing the same trick with $b_i$\n",
    "\\begin{align}\n",
    "b_i &= (b_i - a_i) + a_i \\\\\n",
    "&\\leq |b_i - a_i| + a_i \\\\ \n",
    "&= |a_i - b_i| + a_i  \\\\\n",
    "\\Rightarrow \\sup_i b_i &\\leq \\sup_i |a_i - b_i| + \\sup_i a_i \\\\\n",
    "\\iff \\sup_i b_i - \\sup_i a_i &\\leq \\sup_i |a_i - b_i|  \\\\\n",
    "\\iff  -\\sup_i |a_i - b_i| & \\leq \\sup_i a_i - \\sup_i b_i \\qquad (* *)\n",
    "\\end{align}\n",
    "\n",
    "Equations $(*)$ and $(* *)$ show the desired result.\n",
    "\n",
    "Finally, I solve the model for the heterogeneous beliefs. The following function does that."
   ]
  },
  {
   "cell_type": "code",
   "execution_count": 5,
   "metadata": {
    "collapsed": false
   },
   "outputs": [
    {
     "data": {
      "text/plain": [
       "eq_price_heterogeneous (generic function with 2 methods)"
      ]
     },
     "execution_count": 5,
     "metadata": {},
     "output_type": "execute_result"
    }
   ],
   "source": [
    "\"\"\"\n",
    "This code solves for the equilibrium price function in an economy with heterogeneous beliefs. \n",
    "The parameters are the discount factor beta (common across agents), the dividends vector d, \n",
    "and the transition matrices M1 and M2.\n",
    "\"\"\"\n",
    "function eq_price_heterogeneous(beta, d, M1, M2, tol=1e-4)\n",
    "    S = length(d)\n",
    "    p = ones(S)\n",
    "    distance = 1\n",
    "    \n",
    "    while distance>=tol\n",
    "        # define map T for each matrix\n",
    "        T1p = beta*M1*(d + p)\n",
    "        T2p = beta*M2*(d + p)\n",
    "        Tp = vec(maximum(hcat([T1p T2p]),2))\n",
    "        distance = norm(p-Tp,Inf)\n",
    "        p = copy(Tp)\n",
    "    end\n",
    "    \n",
    "    return p\n",
    "end"
   ]
  },
  {
   "cell_type": "markdown",
   "metadata": {},
   "source": [
    "The equilibrium price with matrices $q_1$ and $q_2$ is"
   ]
  },
  {
   "cell_type": "code",
   "execution_count": 6,
   "metadata": {
    "collapsed": false
   },
   "outputs": [
    {
     "data": {
      "text/plain": [
       "3-element Array{Float64,1}:\n",
       " 40.7549\n",
       " 35.956 \n",
       " 34.5672"
      ]
     },
     "execution_count": 6,
     "metadata": {},
     "output_type": "execute_result"
    }
   ],
   "source": [
    "p_eq3 = eq_price_heterogeneous(beta,d,q1,q2)"
   ]
  }
 ],
 "metadata": {
  "kernelspec": {
   "display_name": "Julia 0.4.3",
   "language": "julia",
   "name": "julia-0.4"
  },
  "language_info": {
   "file_extension": ".jl",
   "mimetype": "application/julia",
   "name": "julia",
   "version": "0.4.3"
  }
 },
 "nbformat": 4,
 "nbformat_minor": 0
}
