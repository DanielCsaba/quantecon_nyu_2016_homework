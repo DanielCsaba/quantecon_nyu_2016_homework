{
 "cells": [
  {
   "cell_type": "markdown",
   "metadata": {},
   "source": [
    "-------------------------------------------------------------------\n",
    "# Homework set 7 - solution\n",
    "\n",
    " * **Author**: Balint Szoke\n",
    " * **UniID**: bs2574\n",
    "\n",
    "-------------------------------------------------------------------\n"
   ]
  },
  {
   "cell_type": "code",
   "execution_count": 1,
   "metadata": {
    "collapsed": true
   },
   "outputs": [],
   "source": [
    "import numpy as np"
   ]
  },
  {
   "cell_type": "markdown",
   "metadata": {},
   "source": [
    "## Exercise 1"
   ]
  },
  {
   "cell_type": "markdown",
   "metadata": {},
   "source": [
    "**Primitives of the problem:**\n",
    " * transition probabilities for the states: $q(x,y)$ (also informs us about the cardinality of the sate space $|S|=N$). With $N<\\infty$, $q$ can be represented as an $N\\times N$ matrix $\\mathbf{Q}$\n",
    " * dividend function $d$, which is an $N$-vector $\\mathbf{d}$ (provided that $N<\\infty$) with values from $(0,\\infty)$ \n",
    " * discount factor $\\beta \\in (0,1)$\n",
    " \n",
    "**Informal idea (value function iteration):**\n",
    " - assuming a finite $N$, we can take the above primitives as given and express the $T$ operator using matrix notation\n",
    " \n",
    " $$T\\mathbf{p} = \\mathbf{Q}[\\mathbf{d} + \\mathbf{p}]$$\n",
    " - then the idea is to start with an arbitrary $\\mathbf{p}_0$ (because of the global stability of $T$, it can be anything, say $\\mathbf{p}_0=\\mathbf{0}_N$) and iterate on the $T$ operator \n",
    " \n",
    " $$T^{k+1}\\mathbf{p}_0 = T (T^{k}\\mathbf{p}_0)$$\n",
    " until $T^{k+1}\\mathbf{p}_0 \\approx T^{k}\\mathbf{p}_0$."
   ]
  },
  {
   "cell_type": "code",
   "execution_count": 2,
   "metadata": {
    "collapsed": true
   },
   "outputs": [],
   "source": [
    "def price_function(Q, d, beta, tol = 1e-4):\n",
    "\n",
    "    N = Q.shape[0]\n",
    "    \n",
    "    if N != Q.shape[1]:\n",
    "        raise ValueError(\"Q must be a square matrix!\")\n",
    "    \n",
    "    elif not all(np.isclose(np.sum(Q, 1), np.ones(N))):\n",
    "        raise ValueError(\"Q must be a stochastic matrix!\")    \n",
    "    \n",
    "    elif N != d.shape[0]:\n",
    "        raise ValueError(\"The size of the dividend vector doesn't match with the size of the state space\")\n",
    "    \n",
    "    diff_inf = 1.0\n",
    "    p0 = np.zeros(N)\n",
    "    \n",
    "    while diff_inf > tol:\n",
    "        p1 = beta * (Q @ (d + p0))\n",
    "        diff_inf = max(abs(p1 - p0))\n",
    "        p0 = p1\n",
    "    \n",
    "    return p1"
   ]
  },
  {
   "cell_type": "markdown",
   "metadata": {},
   "source": [
    "Try this function with the provided parameter values"
   ]
  },
  {
   "cell_type": "code",
   "execution_count": 3,
   "metadata": {
    "collapsed": false
   },
   "outputs": [
    {
     "name": "stdout",
     "output_type": "stream",
     "text": [
      "Price function for the benchmark q\n",
      "[ 40.75491039  35.95601847  34.5671384 ]\n",
      "\n",
      "\n",
      "Price function for the q with a more likely bad state\n",
      "[ 23.49629465  21.09399103  20.27911265]\n"
     ]
    }
   ],
   "source": [
    "d = np.asarray([1.0, 0.0, 0.0])\n",
    "\n",
    "beta = .98\n",
    "\n",
    "Q = np.asarray([[.971, .029, .0  ],\n",
    "                [.145, .778, .077],\n",
    "                [.0  , .508, .492]])\n",
    "\n",
    "Q2 = np.asarray([[.871, .029, .1  ],\n",
    "                 [.145, .778, .077],\n",
    "                 [.0  , .508, .492]])\n",
    "\n",
    "\n",
    "print(\"Price function for the benchmark q\")\n",
    "print(price_function(Q, d, beta))\n",
    "print('\\n')\n",
    "print(\"Price function for the q with a more likely bad state\")\n",
    "print(price_function(Q2, d, beta))"
   ]
  },
  {
   "cell_type": "markdown",
   "metadata": {},
   "source": [
    "**Interpretation:**\n",
    "\n",
    "We can see that for all states the price is lower when the probability of the worst state (from which there is no come back to the good state) is higher. The reason for this is that the more pessimistic (second) belief \"overweights\" the eventually zero dividend sequences, so naturally the implied mean value is lower than in the case of the first $q$. Notice also that this is not a risk-premium story; the agent is risk-neutral so the price effect comes through the differences in the first moments."
   ]
  },
  {
   "cell_type": "markdown",
   "metadata": {},
   "source": [
    "## Exercise 2\n",
    "\n",
    "\n",
    "**Sufficient conditions for a unique fixed point of $\\bar{T}$:**    $\\quad d \\in b\\mathbb{R}^{S}$\n",
    "\n",
    "where the operator $\\bar{T}$ is defined as \n",
    "\n",
    "$$ \\left(\\bar{T}p\\right)(x) = \\beta \\ \\max\\limits_{i \\in \\{1,2\\}} \\Big\\{ \\sum_{y \\in S} [d(y) + p(y)] q_i(x,y)\\Big\\} \\quad ( x \\in S ) $$\n",
    "with $q_1$ and $q_2$ being stochastic matrices. We know that $(b\\mathbb{R}^S,d_{\\infty})$ is a complete Banach space, so all we need is to show is that $\\bar{T}$ is a uniform contraction. To this end, \n",
    "\n",
    "---------------------------------\n",
    "*Proof:*\n",
    "\n",
    "First, check that $\\bar{T}$ is a self-map on $(b\\mathbb{R}^S,d_{\\infty})$, i.e. it maps $p \\in b\\mathbb{R}^{S}$ into $\\bar{T}p \\in b\\mathbb{R}^{S}$\n",
    "\n",
    "\\begin{align*}\n",
    "\\left|(\\bar{T}p)(x) \\right| &= \\left| \\hspace{1mm}\\beta \\ \\max_{i \\in \\{1,2\\}} \\Big\\{ \\sum_{y \\in S} [d(y) + p(y)] q_i(x,y)\\Big\\} \\right| \\leq \\\\ &\\leq \\beta \\ \\max_{i \\in \\{1,2\\}} \\Bigg\\{ \\Big| \\sum_{y \\in S} [d(y) + p(y)] q_i(x,y) \\Big| \\Bigg\\} \\leq \\beta \\ \\max_{i \\in \\{1,2\\}} \\Bigg\\{  \\sum_{y \\in S} \\Big| d(y) + p(y) \\Big| q_i(x,y)  \\Bigg\\} \\\\ &\\leq \\beta \\ \\left( || d ||_{\\infty} + || p ||_{\\infty} \\right)\n",
    "\\end{align*}\n",
    "\n",
    "taking the supremum over $x\\in S$ gives us $||\\bar{T}p||_{\\infty}<\\infty$.\n",
    "\n",
    "\n",
    "To see the uniform contraction property, take $p, p'\\in b\\mathbb{R}^S$ and use the following inequality (see the proof below)\n",
    "\n",
    "$$\\left|\\sup_i a_i - \\sup_i b_i \\right| \\leq \\sup_i \\left|a_i - b_i\\right|$$\n",
    "\n",
    "to obtain\n",
    "\n",
    "\\begin{align*}\n",
    "\\big|(\\bar{T}p)(x) - (\\bar{T}p')(x)\\big| &= \\beta  \\ \\Bigg| \\max_{i \\in \\{1,2\\}} \\Bigg\\{ \\sum_{y \\in S} [d(y) + p(y)] q_i(x,y)\\Bigg\\} - \\max_{i \\in \\{1,2\\}} \\Bigg\\{ \\sum_{y \\in S} [d(y) + p'(y)] q_i(x,y)\\Bigg\\} \\Bigg| \\\\ &\\leq  \\beta  \\max_{i \\in \\{1,2\\}} \\Bigg\\{ \\Big| \\sum_{y \\in S} [p(y) - p'(y)] q_i(x,y) \\Big| \\Bigg\\}  \\\\ &\\leq \\beta \\ || p - p'||_{\\infty}\n",
    "\\end{align*}\n",
    "\n",
    "taking the supremum over $x\\in S$ gives us $||\\bar{T}p - \\bar{T}p'||_{\\infty}\\leq \\beta ||p - p'||_{\\infty}$ with $\\beta\\in(0,1)$, so $\\bar{T}$ is indeed a uniform contraction if $d \\in b\\mathbb{R}^{S}$"
   ]
  },
  {
   "cell_type": "markdown",
   "metadata": {},
   "source": [
    "--------------------------------------------\n",
    "**CLAIM:** For any $f,g \\in b\\mathbb{R}^S$, \n",
    "\n",
    "$$\\left|\\sup_{x\\in S} f(x) - \\sup_{x\\in S} g(x) \\right| \\leq \\sup_{x\\in S} \\left|f(x) - g(x)\\right|$$\n",
    "\n",
    "--------------------------------------------\n",
    "*Proof:*\n",
    "\n",
    "Because $f = f - g + g \\leq \\left|f - g\\right| + g$, it follows that\n",
    "\n",
    "$$\\sup_{x\\in S} f(x) \\leq \\sup_{x\\in S} \\left|f(x)-g(x)\\right| + \\sup_{x\\in S} g(x)\\quad \\Rightarrow \\quad \\sup_{x\\in S} f(x) - \\sup_{x\\in S} g(x) \\leq \\sup_{x\\in S} \\left|f(x)-g(x)\\right|$$\n",
    "\n",
    "Changing the role of $f$ and $g$ in the above argument implies \n",
    "\n",
    "$$\\sup_{x\\in S} g(x) - \\sup_{x\\in S} f(x) \\leq \\sup_{x\\in S} \\left|f(x)-g(x)\\right|\\quad \\Rightarrow \\quad \\sup_{x\\in S} f(x) - \\sup_{x\\in S} g(x) \\geq - \\sup_{x\\in S} \\left|f(x)-g(x)\\right|$$"
   ]
  },
  {
   "cell_type": "markdown",
   "metadata": {},
   "source": [
    "## Exercise 3"
   ]
  },
  {
   "cell_type": "code",
   "execution_count": 4,
   "metadata": {
    "collapsed": true
   },
   "outputs": [],
   "source": [
    "def price_function_hetero(Q1, Q2, d, beta, tol = 1e-4):\n",
    "\n",
    "    N = Q1.shape[0]\n",
    "    \n",
    "    if N != Q1.shape[1] or Q2.shape[0] != Q2.shape[1]:\n",
    "        raise ValueError(\"Qs must be square matrices!\")\n",
    "    elif Q1.shape != Q2.shape:\n",
    "        raise ValueError(\"The two Q matrices must be of the same size!\")\n",
    "    \n",
    "    elif not all(np.isclose(np.sum(np.vstack([Q1, Q2]), 1), np.ones(2 * N))):\n",
    "        raise ValueError(\"Qs must be stochastic matrices!\")    \n",
    "    \n",
    "    elif N != d.shape[0]:\n",
    "        raise ValueError(\"The size of the dividend vector doesn't match with the size of the state space\")\n",
    "    \n",
    "    diff_inf = 1.0\n",
    "    p0 = np.zeros(N)\n",
    "    \n",
    "    while diff_inf > tol:\n",
    "        p1 = beta * np.maximum(Q1 @ (d + p0), Q2 @ (d + p0))\n",
    "        diff_inf = max(abs(p1 - p0))\n",
    "        p0 = p1\n",
    "    \n",
    "    return p1"
   ]
  },
  {
   "cell_type": "code",
   "execution_count": 5,
   "metadata": {
    "collapsed": false
   },
   "outputs": [
    {
     "name": "stdout",
     "output_type": "stream",
     "text": [
      "Price function for the heterogeneous beliefs model:\n",
      "[ 40.75491039  35.95601847  34.5671384 ]\n"
     ]
    }
   ],
   "source": [
    "print(\"Price function for the heterogeneous beliefs model:\")\n",
    "print(price_function_hetero(Q, Q2, d, beta))"
   ]
  }
 ],
 "metadata": {
  "kernelspec": {
   "display_name": "Python 3",
   "language": "python",
   "name": "python3"
  },
  "language_info": {
   "codemirror_mode": {
    "name": "ipython",
    "version": 3
   },
   "file_extension": ".py",
   "mimetype": "text/x-python",
   "name": "python",
   "nbconvert_exporter": "python",
   "pygments_lexer": "ipython3",
   "version": "3.5.1"
  }
 },
 "nbformat": 4,
 "nbformat_minor": 0
}
